{
  "nbformat": 4,
  "nbformat_minor": 0,
  "metadata": {
    "colab": {
      "provenance": [],
      "authorship_tag": "ABX9TyOjSYukWPHkCjaVLeLUQJQ7",
      "include_colab_link": true
    },
    "kernelspec": {
      "name": "python3",
      "display_name": "Python 3"
    },
    "language_info": {
      "name": "python"
    }
  },
  "cells": [
    {
      "cell_type": "markdown",
      "metadata": {
        "id": "view-in-github",
        "colab_type": "text"
      },
      "source": [
        "<a href=\"https://colab.research.google.com/github/scaleracademy/dsml-beginner-oct-22/blob/main/Dictionaries.ipynb\" target=\"_parent\"><img src=\"https://colab.research.google.com/assets/colab-badge.svg\" alt=\"Open In Colab\"/></a>"
      ]
    },
    {
      "cell_type": "code",
      "execution_count": 1,
      "metadata": {
        "id": "GNuM268chfRl"
      },
      "outputs": [],
      "source": [
        "a = {1, 2, 3}"
      ]
    },
    {
      "cell_type": "code",
      "source": [
        "a.add(4)"
      ],
      "metadata": {
        "id": "V0pnGEZQmEe3"
      },
      "execution_count": 2,
      "outputs": []
    },
    {
      "cell_type": "code",
      "source": [
        "a"
      ],
      "metadata": {
        "colab": {
          "base_uri": "https://localhost:8080/"
        },
        "id": "bmO6sqOUmFMa",
        "outputId": "eb73156b-d07f-4b48-fa41-c5c2a3c98a9f"
      },
      "execution_count": 3,
      "outputs": [
        {
          "output_type": "execute_result",
          "data": {
            "text/plain": [
              "{1, 2, 3, 4}"
            ]
          },
          "metadata": {},
          "execution_count": 3
        }
      ]
    },
    {
      "cell_type": "code",
      "source": [
        "type(a)"
      ],
      "metadata": {
        "colab": {
          "base_uri": "https://localhost:8080/"
        },
        "id": "YwfawgGmmFfM",
        "outputId": "a54404a7-3b7d-4562-b247-1093816d5d33"
      },
      "execution_count": 5,
      "outputs": [
        {
          "output_type": "execute_result",
          "data": {
            "text/plain": [
              "set"
            ]
          },
          "metadata": {},
          "execution_count": 5
        }
      ]
    },
    {
      "cell_type": "code",
      "source": [
        "a = {\n",
        "    'a': 1,\n",
        "    'b': 2\n",
        "}"
      ],
      "metadata": {
        "id": "yVqHXLh2nL7Z"
      },
      "execution_count": 6,
      "outputs": []
    },
    {
      "cell_type": "code",
      "source": [
        "type(a)"
      ],
      "metadata": {
        "colab": {
          "base_uri": "https://localhost:8080/"
        },
        "id": "ob0zHXC3nQ1E",
        "outputId": "04e7752a-a422-4931-9d97-94f52d73ddc0"
      },
      "execution_count": 7,
      "outputs": [
        {
          "output_type": "execute_result",
          "data": {
            "text/plain": [
              "dict"
            ]
          },
          "metadata": {},
          "execution_count": 7
        }
      ]
    },
    {
      "cell_type": "code",
      "source": [
        "a = {}\n",
        "type(a)"
      ],
      "metadata": {
        "colab": {
          "base_uri": "https://localhost:8080/"
        },
        "id": "AeDHz3oCnR2N",
        "outputId": "ac7a7b4b-15b5-48ed-8051-043a5cd92789"
      },
      "execution_count": 8,
      "outputs": [
        {
          "output_type": "execute_result",
          "data": {
            "text/plain": [
              "dict"
            ]
          },
          "metadata": {},
          "execution_count": 8
        }
      ]
    },
    {
      "cell_type": "code",
      "source": [
        "a = set()"
      ],
      "metadata": {
        "id": "FY00PVxMndl-"
      },
      "execution_count": 9,
      "outputs": []
    },
    {
      "cell_type": "code",
      "source": [],
      "metadata": {
        "id": "Xypwo65EnflN"
      },
      "execution_count": null,
      "outputs": []
    },
    {
      "cell_type": "code",
      "source": [
        "a = {\n",
        "    'name': \"jatin\",\n",
        "    'name': \"anup\",\n",
        "    'name': \"Rhythm\"\n",
        "}"
      ],
      "metadata": {
        "id": "RxRKO77injRE"
      },
      "execution_count": 11,
      "outputs": []
    },
    {
      "cell_type": "code",
      "source": [
        "a"
      ],
      "metadata": {
        "colab": {
          "base_uri": "https://localhost:8080/"
        },
        "id": "Uw7XDPujntvi",
        "outputId": "9c75f8cb-7758-4492-e2fd-2f9c65f4d502"
      },
      "execution_count": 12,
      "outputs": [
        {
          "output_type": "execute_result",
          "data": {
            "text/plain": [
              "{'name': 'Rhythm'}"
            ]
          },
          "metadata": {},
          "execution_count": 12
        }
      ]
    },
    {
      "cell_type": "code",
      "source": [
        "state_wise_data = {\n",
        "    \"Delhi\": 400,\n",
        "    \"Bangalore\": 110,\n",
        "    \"Mumbai\": 89\n",
        "}"
      ],
      "metadata": {
        "id": "lyFvC3C_n_uf"
      },
      "execution_count": 19,
      "outputs": []
    },
    {
      "cell_type": "code",
      "source": [
        "state_wise_data[\"Delhi\"]"
      ],
      "metadata": {
        "colab": {
          "base_uri": "https://localhost:8080/"
        },
        "id": "uBtvvjgrpGPZ",
        "outputId": "2b7dcd9d-e65d-4463-eb6e-a2e09721644c"
      },
      "execution_count": 20,
      "outputs": [
        {
          "output_type": "execute_result",
          "data": {
            "text/plain": [
              "400"
            ]
          },
          "metadata": {},
          "execution_count": 20
        }
      ]
    },
    {
      "cell_type": "code",
      "source": [
        "state_wise_data[0]"
      ],
      "metadata": {
        "colab": {
          "base_uri": "https://localhost:8080/",
          "height": 167
        },
        "id": "XvbfrbZqpN9b",
        "outputId": "e2d75e41-029c-403b-d881-05c912166559"
      },
      "execution_count": 21,
      "outputs": [
        {
          "output_type": "error",
          "ename": "KeyError",
          "evalue": "ignored",
          "traceback": [
            "\u001b[0;31m---------------------------------------------------------------------------\u001b[0m",
            "\u001b[0;31mKeyError\u001b[0m                                  Traceback (most recent call last)",
            "\u001b[0;32m<ipython-input-21-43ef196387d0>\u001b[0m in \u001b[0;36m<module>\u001b[0;34m\u001b[0m\n\u001b[0;32m----> 1\u001b[0;31m \u001b[0mstate_wise_data\u001b[0m\u001b[0;34m[\u001b[0m\u001b[0;36m0\u001b[0m\u001b[0;34m]\u001b[0m\u001b[0;34m\u001b[0m\u001b[0;34m\u001b[0m\u001b[0m\n\u001b[0m",
            "\u001b[0;31mKeyError\u001b[0m: 0"
          ]
        }
      ]
    },
    {
      "cell_type": "code",
      "source": [
        "state_wise_data = {\n",
        "    \"Delhi\": 400,\n",
        "    \"Bangalore\": 110,\n",
        "    \"Mumbai\": 89\n",
        "}"
      ],
      "metadata": {
        "id": "IOCWfDHdpUq6"
      },
      "execution_count": 22,
      "outputs": []
    },
    {
      "cell_type": "code",
      "source": [
        "state_wise_data.keys()"
      ],
      "metadata": {
        "colab": {
          "base_uri": "https://localhost:8080/"
        },
        "id": "fB8Y4ni_qcS3",
        "outputId": "ccceaaed-c85a-4d31-b6d4-6e3c0836db8f"
      },
      "execution_count": 23,
      "outputs": [
        {
          "output_type": "execute_result",
          "data": {
            "text/plain": [
              "dict_keys(['Delhi', 'Bangalore', 'Mumbai'])"
            ]
          },
          "metadata": {},
          "execution_count": 23
        }
      ]
    },
    {
      "cell_type": "code",
      "source": [
        "state_wise_data.values()"
      ],
      "metadata": {
        "colab": {
          "base_uri": "https://localhost:8080/"
        },
        "id": "Rz1xCvhfqeg9",
        "outputId": "e2bdb32b-551e-465f-f4da-ca40da0e4856"
      },
      "execution_count": 24,
      "outputs": [
        {
          "output_type": "execute_result",
          "data": {
            "text/plain": [
              "dict_values([400, 110, 89])"
            ]
          },
          "metadata": {},
          "execution_count": 24
        }
      ]
    },
    {
      "cell_type": "code",
      "source": [
        "for x in state_wise_data:\n",
        "  print(x, \"=>\", state_wise_data[x])"
      ],
      "metadata": {
        "colab": {
          "base_uri": "https://localhost:8080/"
        },
        "id": "VRwVjc1QqnL0",
        "outputId": "59d6924d-33c1-4720-9954-1365c2521b0c"
      },
      "execution_count": 26,
      "outputs": [
        {
          "output_type": "stream",
          "name": "stdout",
          "text": [
            "Delhi => 400\n",
            "Bangalore => 110\n",
            "Mumbai => 89\n"
          ]
        }
      ]
    },
    {
      "cell_type": "code",
      "source": [
        "for x in state_wise_data.items():\n",
        "  print(x)"
      ],
      "metadata": {
        "colab": {
          "base_uri": "https://localhost:8080/"
        },
        "id": "PUu-v_KGrAxD",
        "outputId": "9d6324c0-9772-447f-8398-14b822efd119"
      },
      "execution_count": 27,
      "outputs": [
        {
          "output_type": "stream",
          "name": "stdout",
          "text": [
            "('Delhi', 400)\n",
            "('Bangalore', 110)\n",
            "('Mumbai', 89)\n"
          ]
        }
      ]
    },
    {
      "cell_type": "code",
      "source": [
        "for key, value in state_wise_data.items():\n",
        "  print(key, \"=>\", value)"
      ],
      "metadata": {
        "colab": {
          "base_uri": "https://localhost:8080/"
        },
        "id": "281bO9hErZQU",
        "outputId": "a3432df9-61a1-4124-8d18-725cbfa49f64"
      },
      "execution_count": 28,
      "outputs": [
        {
          "output_type": "stream",
          "name": "stdout",
          "text": [
            "Delhi => 400\n",
            "Bangalore => 110\n",
            "Mumbai => 89\n"
          ]
        }
      ]
    },
    {
      "cell_type": "code",
      "source": [
        "state_wise_data = {\n",
        "    \"Delhi\": 400,\n",
        "    \"Bangalore\": 110,\n",
        "    \"Mumbai\": 89\n",
        "}"
      ],
      "metadata": {
        "id": "ihMyMyIwrjbL"
      },
      "execution_count": 29,
      "outputs": []
    },
    {
      "cell_type": "code",
      "source": [
        "print(id(state_wise_data))"
      ],
      "metadata": {
        "colab": {
          "base_uri": "https://localhost:8080/"
        },
        "id": "pVx1EfG7r96p",
        "outputId": "76f20867-0793-4014-8cd4-9b9501506fbc"
      },
      "execution_count": 30,
      "outputs": [
        {
          "output_type": "stream",
          "name": "stdout",
          "text": [
            "140705096039168\n"
          ]
        }
      ]
    },
    {
      "cell_type": "code",
      "source": [
        "state_wise_data['Punjab'] = 200"
      ],
      "metadata": {
        "id": "ovDweU9er_T-"
      },
      "execution_count": 31,
      "outputs": []
    },
    {
      "cell_type": "code",
      "source": [
        "print(id(state_wise_data))"
      ],
      "metadata": {
        "colab": {
          "base_uri": "https://localhost:8080/"
        },
        "id": "wKkjgfn9sERJ",
        "outputId": "e26366cf-4be6-4914-d92f-aff61bc2b3e6"
      },
      "execution_count": 32,
      "outputs": [
        {
          "output_type": "stream",
          "name": "stdout",
          "text": [
            "140705096039168\n"
          ]
        }
      ]
    },
    {
      "cell_type": "code",
      "source": [
        "state_wise_data.pop(\"Punjab\")"
      ],
      "metadata": {
        "colab": {
          "base_uri": "https://localhost:8080/"
        },
        "id": "me0sZnDSsJXM",
        "outputId": "44f27fb8-df56-42d1-9f6d-95eb54a552f6"
      },
      "execution_count": 33,
      "outputs": [
        {
          "output_type": "execute_result",
          "data": {
            "text/plain": [
              "200"
            ]
          },
          "metadata": {},
          "execution_count": 33
        }
      ]
    },
    {
      "cell_type": "code",
      "source": [
        "state_wise_data"
      ],
      "metadata": {
        "colab": {
          "base_uri": "https://localhost:8080/"
        },
        "id": "GmcsbOspsPIX",
        "outputId": "3ba79be0-481f-4477-b618-2593dae56391"
      },
      "execution_count": 34,
      "outputs": [
        {
          "output_type": "execute_result",
          "data": {
            "text/plain": [
              "{'Delhi': 400, 'Bangalore': 110, 'Mumbai': 89}"
            ]
          },
          "metadata": {},
          "execution_count": 34
        }
      ]
    },
    {
      "cell_type": "code",
      "source": [
        "state_wise_data[\"Delhi\"] = 50"
      ],
      "metadata": {
        "id": "mfJiL1MSsQSU"
      },
      "execution_count": 36,
      "outputs": []
    },
    {
      "cell_type": "code",
      "source": [
        "state_wise_data"
      ],
      "metadata": {
        "colab": {
          "base_uri": "https://localhost:8080/"
        },
        "id": "wuMh9CE9sn9j",
        "outputId": "a65600bc-0581-4a47-f02a-be2593bfa816"
      },
      "execution_count": 37,
      "outputs": [
        {
          "output_type": "execute_result",
          "data": {
            "text/plain": [
              "{'Delhi': 50, 'Bangalore': 110, 'Mumbai': 89}"
            ]
          },
          "metadata": {},
          "execution_count": 37
        }
      ]
    },
    {
      "cell_type": "code",
      "source": [
        "\"Delhi\" in state_wise_data"
      ],
      "metadata": {
        "colab": {
          "base_uri": "https://localhost:8080/"
        },
        "id": "Rs0IBRoIvYrq",
        "outputId": "e991dd07-4a50-4be8-f663-7751d254dda9"
      },
      "execution_count": 45,
      "outputs": [
        {
          "output_type": "execute_result",
          "data": {
            "text/plain": [
              "True"
            ]
          },
          "metadata": {},
          "execution_count": 45
        }
      ]
    },
    {
      "cell_type": "markdown",
      "source": [
        "Q. Given a string S, you have to count occurence of all the alphabets"
      ],
      "metadata": {
        "id": "c8SqxCX9s18M"
      }
    },
    {
      "cell_type": "code",
      "source": [
        "S = \"this is a simple string\"\n",
        "frequency_table = {}\n",
        "\n",
        "for char in S:\n",
        "    if char in frequency_table:\n",
        "      frequency_table[char] += 1\n",
        "    else:\n",
        "      frequency_table[char] = 1"
      ],
      "metadata": {
        "id": "-VwBRdW8sslV"
      },
      "execution_count": 46,
      "outputs": []
    },
    {
      "cell_type": "code",
      "source": [
        "frequency_table"
      ],
      "metadata": {
        "colab": {
          "base_uri": "https://localhost:8080/"
        },
        "id": "YpDdvUnPtehI",
        "outputId": "153451fc-537e-4895-e83e-eced6b1ed5d6"
      },
      "execution_count": 49,
      "outputs": [
        {
          "output_type": "execute_result",
          "data": {
            "text/plain": [
              "{'t': 2,\n",
              " 'h': 1,\n",
              " 'i': 4,\n",
              " 's': 4,\n",
              " ' ': 4,\n",
              " 'a': 1,\n",
              " 'm': 1,\n",
              " 'p': 1,\n",
              " 'l': 1,\n",
              " 'e': 1,\n",
              " 'r': 1,\n",
              " 'n': 1,\n",
              " 'g': 1}"
            ]
          },
          "metadata": {},
          "execution_count": 49
        }
      ]
    },
    {
      "cell_type": "code",
      "source": [
        "a = {}\n",
        "type(a)"
      ],
      "metadata": {
        "colab": {
          "base_uri": "https://localhost:8080/"
        },
        "id": "VaKE3VRStfn9",
        "outputId": "f57135ed-2d44-49f1-8cc5-78cb3868026d"
      },
      "execution_count": 50,
      "outputs": [
        {
          "output_type": "execute_result",
          "data": {
            "text/plain": [
              "dict"
            ]
          },
          "metadata": {},
          "execution_count": 50
        }
      ]
    },
    {
      "cell_type": "markdown",
      "source": [
        "Vacation HW\n",
        "1. Read about what is Hashing\n",
        "2. Read about how does dictionaries work"
      ],
      "metadata": {
        "id": "S7APjNC53ku6"
      }
    },
    {
      "cell_type": "code",
      "source": [
        "a = {\n",
        "    5: \"Python\",\n",
        "    5 + 0j: \"Ruby\",\n",
        "    5.0: \"Java\",\n",
        "    \"5\": \"NodeJS\"\n",
        "}"
      ],
      "metadata": {
        "id": "17VZJWM6xsql"
      },
      "execution_count": 58,
      "outputs": []
    },
    {
      "cell_type": "code",
      "source": [
        "len(a)"
      ],
      "metadata": {
        "colab": {
          "base_uri": "https://localhost:8080/"
        },
        "id": "gXQhrNNwzM_W",
        "outputId": "48d953c5-9677-4ac0-9855-410d96a6833e"
      },
      "execution_count": 59,
      "outputs": [
        {
          "output_type": "execute_result",
          "data": {
            "text/plain": [
              "2"
            ]
          },
          "metadata": {},
          "execution_count": 59
        }
      ]
    },
    {
      "cell_type": "code",
      "source": [
        "a"
      ],
      "metadata": {
        "colab": {
          "base_uri": "https://localhost:8080/"
        },
        "id": "1rFh8T7u0Gne",
        "outputId": "6c914b82-ffe7-4f75-eaba-54a79bc1eded"
      },
      "execution_count": 60,
      "outputs": [
        {
          "output_type": "execute_result",
          "data": {
            "text/plain": [
              "{5: 'Java', '5': 'NodeJS'}"
            ]
          },
          "metadata": {},
          "execution_count": 60
        }
      ]
    },
    {
      "cell_type": "code",
      "source": [
        "id(5)"
      ],
      "metadata": {
        "colab": {
          "base_uri": "https://localhost:8080/"
        },
        "id": "q8Mm-ha4zjZt",
        "outputId": "6e977ed1-c478-4753-8f22-8add3c19505a"
      },
      "execution_count": 53,
      "outputs": [
        {
          "output_type": "execute_result",
          "data": {
            "text/plain": [
              "11531040"
            ]
          },
          "metadata": {},
          "execution_count": 53
        }
      ]
    },
    {
      "cell_type": "code",
      "source": [
        "id(5.0)"
      ],
      "metadata": {
        "colab": {
          "base_uri": "https://localhost:8080/"
        },
        "id": "AclxnWzQzu0c",
        "outputId": "3fbc3eb7-9db6-4035-9e93-eb8864eae65d"
      },
      "execution_count": 54,
      "outputs": [
        {
          "output_type": "execute_result",
          "data": {
            "text/plain": [
              "140704939910736"
            ]
          },
          "metadata": {},
          "execution_count": 54
        }
      ]
    },
    {
      "cell_type": "code",
      "source": [
        "a = 5\n",
        "print(id(a))"
      ],
      "metadata": {
        "colab": {
          "base_uri": "https://localhost:8080/"
        },
        "id": "edK7s0ZgzvYV",
        "outputId": "85bee9b1-6dfe-4d41-f2bb-b32146e3a173"
      },
      "execution_count": 55,
      "outputs": [
        {
          "output_type": "stream",
          "name": "stdout",
          "text": [
            "11531040\n"
          ]
        }
      ]
    },
    {
      "cell_type": "code",
      "source": [
        "b = float(a)\n",
        "print(id(b))"
      ],
      "metadata": {
        "colab": {
          "base_uri": "https://localhost:8080/"
        },
        "id": "E1FGlvbRz1xa",
        "outputId": "997de224-f63f-4f5c-d92d-172d4b0a202e"
      },
      "execution_count": 56,
      "outputs": [
        {
          "output_type": "stream",
          "name": "stdout",
          "text": [
            "140704940002736\n"
          ]
        }
      ]
    },
    {
      "cell_type": "code",
      "source": [
        "hash(5)"
      ],
      "metadata": {
        "colab": {
          "base_uri": "https://localhost:8080/"
        },
        "id": "XcuhMpcV1-6Q",
        "outputId": "1c1a8756-fc26-41a6-d723-a64d98d283e2"
      },
      "execution_count": 66,
      "outputs": [
        {
          "output_type": "execute_result",
          "data": {
            "text/plain": [
              "5"
            ]
          },
          "metadata": {},
          "execution_count": 66
        }
      ]
    },
    {
      "cell_type": "code",
      "source": [
        "hash(5.0)"
      ],
      "metadata": {
        "colab": {
          "base_uri": "https://localhost:8080/"
        },
        "id": "9xSmkXTX2sP_",
        "outputId": "7b8d95e1-9c72-4e52-bebe-0aeabd7a0163"
      },
      "execution_count": 67,
      "outputs": [
        {
          "output_type": "execute_result",
          "data": {
            "text/plain": [
              "5"
            ]
          },
          "metadata": {},
          "execution_count": 67
        }
      ]
    },
    {
      "cell_type": "code",
      "source": [
        "hash(5 + 0j)"
      ],
      "metadata": {
        "colab": {
          "base_uri": "https://localhost:8080/"
        },
        "id": "qEWS3v0-2tBq",
        "outputId": "33605ad6-ee6b-4793-b49c-ac1102c4d885"
      },
      "execution_count": 68,
      "outputs": [
        {
          "output_type": "execute_result",
          "data": {
            "text/plain": [
              "5"
            ]
          },
          "metadata": {},
          "execution_count": 68
        }
      ]
    },
    {
      "cell_type": "code",
      "source": [
        "\"scaler\".split(\"\")"
      ],
      "metadata": {
        "colab": {
          "base_uri": "https://localhost:8080/",
          "height": 167
        },
        "id": "ViDJ-meC3Ge0",
        "outputId": "05ecc0a1-cc01-49c4-90a9-51ab4b3b8be0"
      },
      "execution_count": 70,
      "outputs": [
        {
          "output_type": "error",
          "ename": "ValueError",
          "evalue": "ignored",
          "traceback": [
            "\u001b[0;31m---------------------------------------------------------------------------\u001b[0m",
            "\u001b[0;31mValueError\u001b[0m                                Traceback (most recent call last)",
            "\u001b[0;32m<ipython-input-70-62ac1d2b42ea>\u001b[0m in \u001b[0;36m<module>\u001b[0;34m\u001b[0m\n\u001b[0;32m----> 1\u001b[0;31m \u001b[0;34m\"scaler\"\u001b[0m\u001b[0;34m.\u001b[0m\u001b[0msplit\u001b[0m\u001b[0;34m(\u001b[0m\u001b[0;34m\"\"\u001b[0m\u001b[0;34m)\u001b[0m\u001b[0;34m\u001b[0m\u001b[0;34m\u001b[0m\u001b[0m\n\u001b[0m",
            "\u001b[0;31mValueError\u001b[0m: empty separator"
          ]
        }
      ]
    },
    {
      "cell_type": "code",
      "source": [
        "\" \".join([\"s\", \"c\", \"a\", \"l\", \"e\", \"r\"])"
      ],
      "metadata": {
        "colab": {
          "base_uri": "https://localhost:8080/",
          "height": 35
        },
        "id": "4EFkOdXE7P2Q",
        "outputId": "55ae2869-430d-46be-dcfd-a96726d1e00f"
      },
      "execution_count": 73,
      "outputs": [
        {
          "output_type": "execute_result",
          "data": {
            "text/plain": [
              "'s c a l e r'"
            ],
            "application/vnd.google.colaboratory.intrinsic+json": {
              "type": "string"
            }
          },
          "metadata": {},
          "execution_count": 73
        }
      ]
    },
    {
      "cell_type": "code",
      "source": [
        "def foo():\n",
        "  return \"string 1\", \"string 2\""
      ],
      "metadata": {
        "id": "L00OCVF77ZLK"
      },
      "execution_count": 74,
      "outputs": []
    },
    {
      "cell_type": "code",
      "source": [
        "# string.split(separator, maxsplit)"
      ],
      "metadata": {
        "id": "QCe-Yo9L71kA"
      },
      "execution_count": 75,
      "outputs": []
    },
    {
      "cell_type": "code",
      "source": [
        "\"a,b,c,d,e,f\".split(\",\", 2)"
      ],
      "metadata": {
        "colab": {
          "base_uri": "https://localhost:8080/"
        },
        "id": "TNd4QkEc77gz",
        "outputId": "5adac434-78b6-495a-b60f-c455d7850f12"
      },
      "execution_count": 77,
      "outputs": [
        {
          "output_type": "execute_result",
          "data": {
            "text/plain": [
              "['a', 'b', 'c,d,e,f']"
            ]
          },
          "metadata": {},
          "execution_count": 77
        }
      ]
    },
    {
      "cell_type": "code",
      "source": [
        "a = {10: 3, 8: 4, 5: 2, 2: 2, 15: 1}"
      ],
      "metadata": {
        "id": "UecE9jnK7-nF"
      },
      "execution_count": 78,
      "outputs": []
    },
    {
      "cell_type": "code",
      "source": [
        "for number, count in a.items():\n",
        "  print(number, \"=>\", count)"
      ],
      "metadata": {
        "colab": {
          "base_uri": "https://localhost:8080/"
        },
        "id": "WuuTfYCV82HF",
        "outputId": "ba02ba63-07b6-4003-e9e8-67188de4adf9"
      },
      "execution_count": 79,
      "outputs": [
        {
          "output_type": "stream",
          "name": "stdout",
          "text": [
            "10 => 3\n",
            "8 => 4\n",
            "5 => 2\n",
            "2 => 2\n",
            "15 => 1\n"
          ]
        }
      ]
    },
    {
      "cell_type": "code",
      "source": [
        "a = [10, 20, 30]"
      ],
      "metadata": {
        "id": "RzrgSd0587nD"
      },
      "execution_count": 80,
      "outputs": []
    },
    {
      "cell_type": "code",
      "source": [
        "student = {\n",
        "    \"name\": \"jatin\",\n",
        "    \"marks\": {\n",
        "        \"english\": 100,\n",
        "        \"chemistry\": 10\n",
        "    }\n",
        "}"
      ],
      "metadata": {
        "id": "OJV_e3yo9DKB"
      },
      "execution_count": 82,
      "outputs": []
    },
    {
      "cell_type": "code",
      "source": [
        "student[\"marks\"][\"chemistry\"]"
      ],
      "metadata": {
        "colab": {
          "base_uri": "https://localhost:8080/"
        },
        "id": "jD51hRrb93w8",
        "outputId": "f826ab7f-3a22-4962-de60-eeea7cde71ea"
      },
      "execution_count": 83,
      "outputs": [
        {
          "output_type": "execute_result",
          "data": {
            "text/plain": [
              "10"
            ]
          },
          "metadata": {},
          "execution_count": 83
        }
      ]
    },
    {
      "cell_type": "code",
      "source": [
        "a = [9, 4, 15, 29]"
      ],
      "metadata": {
        "id": "pbROlAfE-E5b"
      },
      "execution_count": 86,
      "outputs": []
    },
    {
      "cell_type": "code",
      "source": [
        "for i in range(len(a)):\n",
        "  print(i)"
      ],
      "metadata": {
        "colab": {
          "base_uri": "https://localhost:8080/"
        },
        "id": "UA1zgbhO--cU",
        "outputId": "69760ca2-87c9-4ab0-b5e0-06b79dfe4146"
      },
      "execution_count": 87,
      "outputs": [
        {
          "output_type": "stream",
          "name": "stdout",
          "text": [
            "0\n",
            "1\n",
            "2\n",
            "3\n"
          ]
        }
      ]
    },
    {
      "cell_type": "code",
      "source": [
        "for x in a:\n",
        "  print(x)"
      ],
      "metadata": {
        "colab": {
          "base_uri": "https://localhost:8080/"
        },
        "id": "thFArB4h_DY6",
        "outputId": "ddfc606c-e716-4603-b5b7-061133d606b8"
      },
      "execution_count": 88,
      "outputs": [
        {
          "output_type": "stream",
          "name": "stdout",
          "text": [
            "9\n",
            "4\n",
            "15\n",
            "29\n"
          ]
        }
      ]
    },
    {
      "cell_type": "code",
      "source": [],
      "metadata": {
        "id": "aE57ZIMl_P66"
      },
      "execution_count": null,
      "outputs": []
    }
  ]
}