{
  "nbformat": 4,
  "nbformat_minor": 0,
  "metadata": {
    "colab": {
      "provenance": [],
      "authorship_tag": "ABX9TyM2qUKK72MC6nMI9tBqsKZw",
      "include_colab_link": true
    },
    "kernelspec": {
      "name": "python3",
      "display_name": "Python 3"
    },
    "language_info": {
      "name": "python"
    }
  },
  "cells": [
    {
      "cell_type": "markdown",
      "metadata": {
        "id": "view-in-github",
        "colab_type": "text"
      },
      "source": [
        "<a href=\"https://colab.research.google.com/github/scaleracademy/dsml-beginner-oct-22/blob/main/Sorting.ipynb\" target=\"_parent\"><img src=\"https://colab.research.google.com/assets/colab-badge.svg\" alt=\"Open In Colab\"/></a>"
      ]
    },
    {
      "cell_type": "code",
      "execution_count": 4,
      "metadata": {
        "id": "gnXipex0ePdx"
      },
      "outputs": [],
      "source": [
        "arr = [5, 1, 2, 4, 7, 3]"
      ]
    },
    {
      "cell_type": "code",
      "source": [
        "a = 5\n",
        "b = 9\n",
        "\n",
        "a, b = b, a"
      ],
      "metadata": {
        "id": "EXriTgYo1X9H"
      },
      "execution_count": null,
      "outputs": []
    },
    {
      "cell_type": "code",
      "source": [
        "for i in range(len(arr) - 1):\n",
        "  if arr[i] > arr[i+1]:\n",
        "    arr[i], arr[i+1] = arr[i+1], arr[i]\n"
      ],
      "metadata": {
        "id": "oeoh2530ztGm"
      },
      "execution_count": 5,
      "outputs": []
    },
    {
      "cell_type": "code",
      "source": [
        "arr"
      ],
      "metadata": {
        "colab": {
          "base_uri": "https://localhost:8080/"
        },
        "id": "0uwNZu8e1HWR",
        "outputId": "89ce47a9-e419-4838-8b6a-33ca130f72bd"
      },
      "execution_count": 6,
      "outputs": [
        {
          "output_type": "execute_result",
          "data": {
            "text/plain": [
              "[1, 2, 4, 5, 3, 7]"
            ]
          },
          "metadata": {},
          "execution_count": 6
        }
      ]
    },
    {
      "cell_type": "code",
      "source": [
        "for i in range(len(arr) - 1):\n",
        "  if arr[i] > arr[i+1]:\n",
        "    arr[i], arr[i+1] = arr[i+1], arr[i]\n"
      ],
      "metadata": {
        "id": "IVY8r20i1Kjx"
      },
      "execution_count": 9,
      "outputs": []
    },
    {
      "cell_type": "code",
      "source": [
        "arr"
      ],
      "metadata": {
        "colab": {
          "base_uri": "https://localhost:8080/"
        },
        "id": "wuriFuB91L8p",
        "outputId": "59d4ef6d-523b-4be1-b7ad-0a3f35377a2c"
      },
      "execution_count": 10,
      "outputs": [
        {
          "output_type": "execute_result",
          "data": {
            "text/plain": [
              "[1, 2, 3, 4, 5, 7]"
            ]
          },
          "metadata": {},
          "execution_count": 10
        }
      ]
    },
    {
      "cell_type": "code",
      "source": [
        "def bubble_sort(arr):\n",
        "  for i in range(len(arr) - 1):\n",
        "    swap = False\n",
        "\n",
        "    for j in range(len(arr) - i - 1):\n",
        "      if arr[j] > arr[j+1]:\n",
        "        arr[j], arr[j+1] = arr[j+1], arr[j]\n",
        "        swap = True\n",
        "\n",
        "    if swap is False:\n",
        "      break\n",
        "\n",
        "  return arr"
      ],
      "metadata": {
        "id": "zA1x5hnZzh3G"
      },
      "execution_count": 26,
      "outputs": []
    },
    {
      "cell_type": "code",
      "source": [
        "arr = [5, 1, 2, 4, 7, 3]\n",
        "print(bubble_sort(arr))"
      ],
      "metadata": {
        "colab": {
          "base_uri": "https://localhost:8080/"
        },
        "id": "9BWl_xNA1xji",
        "outputId": "404a0754-f979-4eb2-9ba9-d0c7902344fd"
      },
      "execution_count": 24,
      "outputs": [
        {
          "output_type": "stream",
          "name": "stdout",
          "text": [
            "14\n",
            "[1, 2, 3, 4, 5, 7]\n"
          ]
        }
      ]
    },
    {
      "cell_type": "code",
      "source": [
        "arr = [1, 2, 3, 4, 5, 6, 7]\n",
        "print(bubble_sort(arr))"
      ],
      "metadata": {
        "colab": {
          "base_uri": "https://localhost:8080/"
        },
        "id": "Etx-QkK412Fa",
        "outputId": "f2f2a13d-3362-405f-a74f-1c5776203aab"
      },
      "execution_count": 25,
      "outputs": [
        {
          "output_type": "stream",
          "name": "stdout",
          "text": [
            "6\n",
            "[1, 2, 3, 4, 5, 6, 7]\n"
          ]
        }
      ]
    },
    {
      "cell_type": "markdown",
      "source": [
        "```\n",
        "1. Refresher\n",
        "2. Searching\n",
        "3. Sorting\n",
        "4. Recursion\n",
        "5. OOPs\n",
        "6. Functional Programming\n",
        "7. File Handling\n",
        "8. Exception Handling\n",
        "9. Calculus\n",
        "10. Bit Manipulation\n",
        "```"
      ],
      "metadata": {
        "id": "4kgpa_YJId10"
      }
    },
    {
      "cell_type": "code",
      "source": [],
      "metadata": {
        "id": "hPzbF4pk7ikP"
      },
      "execution_count": null,
      "outputs": []
    }
  ]
}