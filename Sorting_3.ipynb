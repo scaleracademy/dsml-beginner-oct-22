{
  "nbformat": 4,
  "nbformat_minor": 0,
  "metadata": {
    "colab": {
      "provenance": [],
      "authorship_tag": "ABX9TyPhwHA2X4QsT4aOfjrI+qj4",
      "include_colab_link": true
    },
    "kernelspec": {
      "name": "python3",
      "display_name": "Python 3"
    },
    "language_info": {
      "name": "python"
    }
  },
  "cells": [
    {
      "cell_type": "markdown",
      "metadata": {
        "id": "view-in-github",
        "colab_type": "text"
      },
      "source": [
        "<a href=\"https://colab.research.google.com/github/scaleracademy/dsml-beginner-oct-22/blob/main/Sorting_3.ipynb\" target=\"_parent\"><img src=\"https://colab.research.google.com/assets/colab-badge.svg\" alt=\"Open In Colab\"/></a>"
      ]
    },
    {
      "cell_type": "code",
      "execution_count": null,
      "metadata": {
        "id": "Ugk7BCDgZy1w"
      },
      "outputs": [],
      "source": [
        "a = 5\n",
        "b = 9\n",
        "\n",
        "a, b = b, a"
      ]
    },
    {
      "cell_type": "code",
      "source": [
        "arr = [5, 3, 1, 7, 9, 0]\n",
        "\n",
        "min_idx = 0\n",
        "for j in range(1, len(arr)):\n",
        "  if arr[j] < arr[min_idx]:\n",
        "    min_idx = j\n",
        "\n",
        "print(min_idx)"
      ],
      "metadata": {
        "colab": {
          "base_uri": "https://localhost:8080/"
        },
        "id": "6IDudHKvlzM_",
        "outputId": "013a1f8c-86f1-406d-d4a7-bcc74f6038ae"
      },
      "execution_count": 1,
      "outputs": [
        {
          "output_type": "stream",
          "name": "stdout",
          "text": [
            "5\n"
          ]
        }
      ]
    },
    {
      "cell_type": "code",
      "source": [
        "def selection_sort(arr):\n",
        "  n = len(arr)\n",
        "\n",
        "  for i in range(n-1):\n",
        "    min_idx = i\n",
        "\n",
        "    for j in range(i+1, n):\n",
        "      if arr[j] < arr[min_idx]:\n",
        "        min_idx = j\n",
        "\n",
        "    arr[i], arr[min_idx] = arr[min_idx], arr[i]\n",
        "\n",
        "  return arr"
      ],
      "metadata": {
        "id": "_bhLJlg1lW8a"
      },
      "execution_count": 6,
      "outputs": []
    },
    {
      "cell_type": "code",
      "source": [
        "selection_sort([13, 52, 9, 16, 25])"
      ],
      "metadata": {
        "colab": {
          "base_uri": "https://localhost:8080/"
        },
        "id": "KZqSClMlpUjm",
        "outputId": "3d15e2eb-4d6e-44ae-ae5a-85078a00db0e"
      },
      "execution_count": 7,
      "outputs": [
        {
          "output_type": "execute_result",
          "data": {
            "text/plain": [
              "[9, 13, 16, 25, 52]"
            ]
          },
          "metadata": {},
          "execution_count": 7
        }
      ]
    },
    {
      "cell_type": "code",
      "source": [
        "def insertion_sort(arr):\n",
        "  n = len(arr)\n",
        "\n",
        "  for i in range(1, n):\n",
        "    j = i\n",
        "\n",
        "    while j > 0 and arr[j-1] > arr[j]:\n",
        "      arr[j-1], arr[j] = arr[j], arr[j-1]\n",
        "      j-=1\n",
        "\n",
        "  return arr"
      ],
      "metadata": {
        "id": "2sY8L404qAWr"
      },
      "execution_count": 9,
      "outputs": []
    },
    {
      "cell_type": "code",
      "source": [
        "insertion_sort([13, 52, 9, 16, 25])"
      ],
      "metadata": {
        "colab": {
          "base_uri": "https://localhost:8080/"
        },
        "id": "rN48bhB12V65",
        "outputId": "141c1f21-e431-4b30-f3d2-43a248fe007a"
      },
      "execution_count": 10,
      "outputs": [
        {
          "output_type": "execute_result",
          "data": {
            "text/plain": [
              "[9, 13, 16, 25, 52]"
            ]
          },
          "metadata": {},
          "execution_count": 10
        }
      ]
    },
    {
      "cell_type": "code",
      "source": [],
      "metadata": {
        "id": "qXEYrQz13Jqs"
      },
      "execution_count": null,
      "outputs": []
    }
  ]
}