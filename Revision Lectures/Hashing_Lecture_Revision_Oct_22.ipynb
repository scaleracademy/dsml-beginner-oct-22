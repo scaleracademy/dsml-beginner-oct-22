{
  "nbformat": 4,
  "nbformat_minor": 0,
  "metadata": {
    "colab": {
      "provenance": []
    },
    "kernelspec": {
      "name": "python3",
      "display_name": "Python 3"
    },
    "language_info": {
      "name": "python"
    }
  },
  "cells": [
    {
      "cell_type": "code",
      "execution_count": 4,
      "metadata": {
        "colab": {
          "base_uri": "https://localhost:8080/"
        },
        "id": "v_iYtz2IU_Ft",
        "outputId": "ee956bb1-de68-4542-a270-d8148b1da6e1"
      },
      "outputs": [
        {
          "output_type": "execute_result",
          "data": {
            "text/plain": [
              "[[1, 6, 10, 11], [1, 8, 8, 11], [1, 11, 16]]"
            ]
          },
          "metadata": {},
          "execution_count": 4
        }
      ],
      "source": [
        "# repeiton not allowed\n",
        "def get_subsetsum_recur(input_list, target, curr_subset= [], output =[] ):\n",
        "  if sum(curr_subset)>=target or len(input_list)==0:\n",
        "      if sum(curr_subset)==target and curr_subset not in output:\n",
        "        output.append(curr_subset)\n",
        "  else:\n",
        "      get_subsetsum_recur(input_list[1:], target, curr_subset+ [input_list[0]], output)\n",
        "      get_subsetsum_recur(input_list[1:], target, curr_subset, output)\n",
        "\n",
        "  return output\n",
        "\n",
        "input_list = [ 8, 10, 6, 11, 1, 16, 8 ]\n",
        "input_list = sorted(input_list)\n",
        "target = 28\n",
        "get_subsetsum_recur(input_list, target, curr_subset= [], output =[] )"
      ]
    },
    {
      "cell_type": "code",
      "source": [
        "# repetion allowed\n",
        "def get_subsetsum_recur(input_list, target, curr_subset= [], output =[] ):\n",
        "  if sum(curr_subset)>=target or len(input_list)==0:\n",
        "      if sum(curr_subset)==target and curr_subset not in output:\n",
        "        output.append(curr_subset)\n",
        "  else:\n",
        "      get_subsetsum_recur(input_list[:], target, curr_subset+ [input_list[0]], output)\n",
        "      get_subsetsum_recur(input_list[1:], target, curr_subset, output)\n",
        "\n",
        "  return output\n",
        "\n",
        "input_list = [ 8, 10, 6, 11, 1, 16, 8 ]\n",
        "input_list = sorted(input_list)\n",
        "target = 28\n",
        "get_subsetsum_recur(input_list, target, curr_subset= [], output =[] )"
      ],
      "metadata": {
        "colab": {
          "base_uri": "https://localhost:8080/"
        },
        "id": "BvZd04fUh43A",
        "outputId": "ea083b02-ac66-486c-dea9-971e90b3a53e"
      },
      "execution_count": 5,
      "outputs": [
        {
          "output_type": "execute_result",
          "data": {
            "text/plain": [
              "[[1,\n",
              "  1,\n",
              "  1,\n",
              "  1,\n",
              "  1,\n",
              "  1,\n",
              "  1,\n",
              "  1,\n",
              "  1,\n",
              "  1,\n",
              "  1,\n",
              "  1,\n",
              "  1,\n",
              "  1,\n",
              "  1,\n",
              "  1,\n",
              "  1,\n",
              "  1,\n",
              "  1,\n",
              "  1,\n",
              "  1,\n",
              "  1,\n",
              "  1,\n",
              "  1,\n",
              "  1,\n",
              "  1,\n",
              "  1,\n",
              "  1],\n",
              " [1, 1, 1, 1, 1, 1, 1, 1, 1, 1, 1, 1, 1, 1, 1, 1, 1, 1, 1, 1, 1, 1, 6],\n",
              " [1, 1, 1, 1, 1, 1, 1, 1, 1, 1, 1, 1, 1, 1, 1, 1, 1, 1, 1, 1, 8],\n",
              " [1, 1, 1, 1, 1, 1, 1, 1, 1, 1, 1, 1, 1, 1, 1, 1, 1, 1, 10],\n",
              " [1, 1, 1, 1, 1, 1, 1, 1, 1, 1, 1, 1, 1, 1, 1, 1, 1, 11],\n",
              " [1, 1, 1, 1, 1, 1, 1, 1, 1, 1, 1, 1, 1, 1, 1, 1, 6, 6],\n",
              " [1, 1, 1, 1, 1, 1, 1, 1, 1, 1, 1, 1, 1, 1, 6, 8],\n",
              " [1, 1, 1, 1, 1, 1, 1, 1, 1, 1, 1, 1, 6, 10],\n",
              " [1, 1, 1, 1, 1, 1, 1, 1, 1, 1, 1, 1, 8, 8],\n",
              " [1, 1, 1, 1, 1, 1, 1, 1, 1, 1, 1, 1, 16],\n",
              " [1, 1, 1, 1, 1, 1, 1, 1, 1, 1, 1, 6, 11],\n",
              " [1, 1, 1, 1, 1, 1, 1, 1, 1, 1, 6, 6, 6],\n",
              " [1, 1, 1, 1, 1, 1, 1, 1, 1, 1, 8, 10],\n",
              " [1, 1, 1, 1, 1, 1, 1, 1, 1, 8, 11],\n",
              " [1, 1, 1, 1, 1, 1, 1, 1, 6, 6, 8],\n",
              " [1, 1, 1, 1, 1, 1, 1, 1, 10, 10],\n",
              " [1, 1, 1, 1, 1, 1, 1, 10, 11],\n",
              " [1, 1, 1, 1, 1, 1, 6, 6, 10],\n",
              " [1, 1, 1, 1, 1, 1, 6, 8, 8],\n",
              " [1, 1, 1, 1, 1, 1, 6, 16],\n",
              " [1, 1, 1, 1, 1, 1, 11, 11],\n",
              " [1, 1, 1, 1, 1, 6, 6, 11],\n",
              " [1, 1, 1, 1, 6, 6, 6, 6],\n",
              " [1, 1, 1, 1, 6, 8, 10],\n",
              " [1, 1, 1, 1, 8, 8, 8],\n",
              " [1, 1, 1, 1, 8, 16],\n",
              " [1, 1, 1, 6, 8, 11],\n",
              " [1, 1, 6, 6, 6, 8],\n",
              " [1, 1, 6, 10, 10],\n",
              " [1, 1, 8, 8, 10],\n",
              " [1, 1, 10, 16],\n",
              " [1, 6, 10, 11],\n",
              " [1, 8, 8, 11],\n",
              " [1, 11, 16],\n",
              " [6, 6, 6, 10],\n",
              " [6, 6, 8, 8],\n",
              " [6, 6, 16],\n",
              " [6, 11, 11],\n",
              " [8, 10, 10]]"
            ]
          },
          "metadata": {},
          "execution_count": 5
        }
      ]
    },
    {
      "cell_type": "code",
      "source": [
        "def create_subset(arr, curr_sub = [], output=[]):\n",
        "  if len(arr)==0:\n",
        "    output.append(curr_sub)\n",
        "  else:\n",
        "    create_subset(arr[1:], curr_sub+arr[0], output)\n",
        "    create_subset(arr[1:], curr_sub, output)\n"
      ],
      "metadata": {
        "id": "kNhUUALrZ0-p"
      },
      "execution_count": null,
      "outputs": []
    },
    {
      "cell_type": "code",
      "source": [
        "sub = [0]\n",
        "sub2 = []\n",
        "output =[]\n",
        "output.append(sub)"
      ],
      "metadata": {
        "id": "G1jjW4kLaq-X"
      },
      "execution_count": 1,
      "outputs": []
    },
    {
      "cell_type": "code",
      "source": [
        "output"
      ],
      "metadata": {
        "colab": {
          "base_uri": "https://localhost:8080/"
        },
        "id": "_PJQTsUVay1E",
        "outputId": "362fe7e8-c121-4573-84a8-7be5a1f16e1b"
      },
      "execution_count": 2,
      "outputs": [
        {
          "output_type": "execute_result",
          "data": {
            "text/plain": [
              "[[0]]"
            ]
          },
          "metadata": {},
          "execution_count": 2
        }
      ]
    },
    {
      "cell_type": "code",
      "source": [],
      "metadata": {
        "id": "09uyS-Zaa03z"
      },
      "execution_count": null,
      "outputs": []
    },
    {
      "cell_type": "markdown",
      "source": [
        "### Case Study:\n",
        "You are working as a software engineer at an Ecommerce Startup and responsible for Building the customer registration and Login Portal.\n",
        "\n",
        "Suppose while registration you will be assigning ID to each customer which can be a number between 1 to N where N is the maximum expected number of customers.\n",
        "\n",
        "While Logging IN the customer will be using this ID and your task would be to Validate if this ID is valid.\n",
        "\n",
        "At a Time you can get Q requests where each validation request can contain One ID. You have to return True if ID is Valid as False.\n",
        "\n",
        "```\n",
        "Exaxmple: \n",
        "ID's [1,22,30,990, 1100 ]\n",
        "\n",
        "Q: [1100,40, 99,22]\n",
        "\n",
        "Output: [True, False, False, True]\n",
        "\n"
      ],
      "metadata": {
        "id": "_nKIg8lUp0wk"
      }
    },
    {
      "cell_type": "markdown",
      "source": [
        "Q1: How many collision would occur while storing the list of Numbers [10,12, 15, 18, 10 , 7, 21,24] if following hash function is used: hash = k%7\n",
        "- 1\n",
        "- 2\n",
        "- 5 True\n",
        "- 8\n",
        "\n",
        "```\n",
        "10 % 7 = 3\n",
        "12 % 7 = 5\n",
        "15%7 = 1\n",
        "18%7= 4\n",
        "10%7 = 3\n",
        "7%7= 0\n",
        "21%7 = 0\n",
        "24%7 = 3\n",
        "```"
      ],
      "metadata": {
        "id": "lm0WYwfIzgZh"
      }
    },
    {
      "cell_type": "markdown",
      "source": [
        "Q: Given a dictionary of student names and marks,\n",
        "Extract Top N scoring students based on marks and return their name.\n",
        "\n",
        "\n",
        "```\n",
        "input_dict: \n",
        "{\"A\":80\n",
        "\"B\":30\n",
        "\"C\":80\n",
        "\"D\":40\n",
        "\"E\":90\n",
        "\"F\":70\n",
        "\"J\":60\n",
        "}\n",
        "\n",
        "N = 3\n",
        "\n",
        "```\n",
        "\n",
        "```\n",
        "output:\n",
        "[\"E\",\"A\",\"C\", \"F\"]\n",
        "\n",
        "```"
      ],
      "metadata": {
        "id": "6GxqWwehzX0b"
      }
    },
    {
      "cell_type": "markdown",
      "source": [
        "Part 1: TOP 3 Student(If someone has same marks the rank would be based on Alphabetical)\n",
        "\n",
        "Part 2 : Same marks get same rank"
      ],
      "metadata": {
        "id": "byQH6TT_0-Wh"
      }
    },
    {
      "cell_type": "code",
      "source": [
        "# solution"
      ],
      "metadata": {
        "id": "eq1gXfa3p1Op"
      },
      "execution_count": 5,
      "outputs": []
    },
    {
      "cell_type": "code",
      "source": [],
      "metadata": {
        "id": "UbzBwE9v74J9"
      },
      "execution_count": null,
      "outputs": []
    },
    {
      "cell_type": "code",
      "source": [],
      "metadata": {
        "id": "WoytZQ4X74HW"
      },
      "execution_count": null,
      "outputs": []
    },
    {
      "cell_type": "code",
      "source": [],
      "metadata": {
        "id": "VqjetFYO74E-"
      },
      "execution_count": null,
      "outputs": []
    },
    {
      "cell_type": "code",
      "source": [],
      "metadata": {
        "id": "ji3-RDyg74CW"
      },
      "execution_count": null,
      "outputs": []
    },
    {
      "cell_type": "code",
      "source": [],
      "metadata": {
        "id": "YQPuMjDG74AD"
      },
      "execution_count": null,
      "outputs": []
    },
    {
      "cell_type": "code",
      "source": [],
      "metadata": {
        "id": "qBgoQc91q67L"
      },
      "execution_count": null,
      "outputs": []
    },
    {
      "cell_type": "code",
      "source": [
        "# BINARY SEARCH ON EACH ROW\n",
        "list1 = [ [ 1 ,2,4,5,6 ]\n",
        "       [0,5,6,7,8]\n",
        "       [2,3,4,5,7]\n",
        "       ]\n",
        "\n",
        "rows*log(n)"
      ],
      "metadata": {
        "id": "SbbAqrs7q64M"
      },
      "execution_count": null,
      "outputs": []
    },
    {
      "cell_type": "code",
      "source": [
        "# BINARY SEARCH ON COLS TO FIND THE ROW NUMBER\n",
        "list1 = [ [ 1 ,2,4,5,6 ]\n",
        "           [8,44,66,70,81]\n",
        "           [85,95,104,105,177],\n",
        "         \n",
        "         ...\n",
        "       ]\n",
        "\n",
        "SEARCHING 9\n",
        "1, 8, 85... ,,,N \n",
        "\n",
        "LOG(COL)+LOG(ROW)"
      ],
      "metadata": {
        "id": "wAjjGfmdq61m"
      },
      "execution_count": null,
      "outputs": []
    },
    {
      "cell_type": "markdown",
      "source": [
        "You are given an array A of size N.\n",
        "\n",
        "denoting the prices of different models. \n",
        "The array is sorted based on prices in increasing order. \n",
        "You are given another array B of size Q denoting the queries.\n",
        "In i'th query, you need to tell the maximum distinct models of mobile phones he can buy with B[i] money"
      ],
      "metadata": {
        "id": "STMwqLCI4bXn"
      }
    },
    {
      "cell_type": "code",
      "source": [
        "N = [1,2,3,4,5,88, 90 ]\n",
        "\n",
        "B = [90, 22, 30, 50 ]\n",
        "\n",
        "OUTOUT [2, N, N, N ]\n",
        "90 RS - > [88,2] , [90], [1], [1,2] - > 2, "
      ],
      "metadata": {
        "id": "Fx3afSUH4eJ9"
      },
      "execution_count": null,
      "outputs": []
    }
  ]
}