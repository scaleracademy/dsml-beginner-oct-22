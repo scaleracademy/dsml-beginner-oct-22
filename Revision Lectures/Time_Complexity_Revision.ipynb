{
  "nbformat": 4,
  "nbformat_minor": 0,
  "metadata": {
    "colab": {
      "provenance": []
    },
    "kernelspec": {
      "name": "python3",
      "display_name": "Python 3"
    },
    "language_info": {
      "name": "python"
    }
  },
  "cells": [
    {
      "cell_type": "code",
      "execution_count": null,
      "metadata": {
        "id": "N2aIeJhAlyiN"
      },
      "outputs": [],
      "source": [
        "def func(n):\n",
        "  a = 10 # n^0 + c\n",
        "  b = 20 # n^0 +c\n",
        "  c = 40 # n^0 + c\n",
        "  print(a+b+c) # n^0 + c1\n",
        "\n",
        "func(n)"
      ]
    },
    {
      "cell_type": "markdown",
      "source": [
        "- n^0 +c + n^0 + c + n^0 + c +n^0 +c\n",
        "- 3(n^0 +c) +n^0 + c1\n",
        "- 4n^0+c + c1\n",
        "- 4 + c + c1 --> c3\n",
        "- n^0 + c3\n",
        "- Independent of n: we say that this algorithm always takes constant time: O(1)\n",
        "\n"
      ],
      "metadata": {
        "id": "DvRWf2hBrTyZ"
      }
    },
    {
      "cell_type": "code",
      "source": [
        "def func1(n):\n",
        "  for i in range(n):  # c\n",
        "    print(\"Hello\") # n\n",
        "\n",
        "func1(4)"
      ],
      "metadata": {
        "id": "d12fxn8mq5n5"
      },
      "execution_count": null,
      "outputs": []
    },
    {
      "cell_type": "markdown",
      "source": [
        "- TC = n+c\n",
        "- O(n)\n",
        "- Linear Complexity "
      ],
      "metadata": {
        "id": "PGjdIB85vGJ0"
      }
    },
    {
      "cell_type": "code",
      "source": [
        "range(4)"
      ],
      "metadata": {
        "id": "KGqOTKKPq6l0",
        "colab": {
          "base_uri": "https://localhost:8080/"
        },
        "outputId": "4249f2a6-1c5e-47b0-9726-6a9ad9fb4f1c"
      },
      "execution_count": null,
      "outputs": [
        {
          "output_type": "execute_result",
          "data": {
            "text/plain": [
              "range(0, 4)"
            ]
          },
          "metadata": {},
          "execution_count": 1
        }
      ]
    },
    {
      "cell_type": "code",
      "source": [
        "def func2(n):\n",
        "  for i in range(n):  # c\n",
        "    print(\"Hello\") # n\n",
        "\n",
        "  for i in range(n): # c\n",
        "    print(\"Bye\") # n\n",
        "\n",
        "  \n",
        "\n",
        "func2(4)"
      ],
      "metadata": {
        "id": "Uy_5DKCCq6i_"
      },
      "execution_count": null,
      "outputs": []
    },
    {
      "cell_type": "markdown",
      "source": [
        "- TC = n+n+c+c = 2n+2c \n",
        "- Ignore the Coefficients as well as Constant Term\n",
        "- O(n)\n"
      ],
      "metadata": {
        "id": "BILZEfRNvgJX"
      }
    },
    {
      "cell_type": "code",
      "source": [
        "def func3(n):\n",
        "  for i in range(n):  # c\n",
        "    for j in range(n): # n \n",
        "      print(\"Hello\")    # n^2"
      ],
      "metadata": {
        "id": "1-73aij7q72W"
      },
      "execution_count": null,
      "outputs": []
    },
    {
      "cell_type": "markdown",
      "source": [
        "- TC = n^2 + n + c\n",
        "- O(n^2)"
      ],
      "metadata": {
        "id": "mw00px4TyBjF"
      }
    },
    {
      "cell_type": "code",
      "source": [
        "def func3(n):\n",
        "  for i in range(n):  # c\n",
        "    for j in range(n): # n \n",
        "      print(\"Hello\")    # n^2\n",
        "\n",
        "  for k in range(n):  # c\n",
        "    for l in range(10): # n  \n",
        "      print(\"Bye\") # 10*n\n",
        "\n"
      ],
      "metadata": {
        "id": "WCKWowRCq7zx"
      },
      "execution_count": null,
      "outputs": []
    },
    {
      "cell_type": "markdown",
      "source": [
        "TC = c + n +n^2 + c + n +10n => n^2 + 12n + 2c\n",
        "\n",
        "O(n^2)"
      ],
      "metadata": {
        "id": "o5StQNbWykPf"
      }
    },
    {
      "cell_type": "code",
      "source": [
        "n = 20\n",
        "for i in range(n):  # c\n",
        "  j=i               # n\n",
        "  while j<i:        # n\n",
        "    print(j)        # 0\n",
        "    j=j+1           # 0\n",
        "\n"
      ],
      "metadata": {
        "id": "tLgP2gppq7xr"
      },
      "execution_count": null,
      "outputs": []
    },
    {
      "cell_type": "markdown",
      "source": [
        "- TC = c+ n + n = c + 2(n)\n",
        "- O (n)"
      ],
      "metadata": {
        "id": "cKukY9J-3tzF"
      }
    },
    {
      "cell_type": "code",
      "source": [
        "c = 0  # c\n",
        "for i in range(1, n+1):  # c\n",
        "    for j in range(1, n+1): # n \n",
        "        for k in range(n//2, n+1, n//2): # n*n\n",
        "            c += 1       # 2 *n*n times"
      ],
      "metadata": {
        "id": "A__tRWNvq7vd"
      },
      "execution_count": null,
      "outputs": []
    },
    {
      "cell_type": "markdown",
      "source": [
        "- TC = c + c + n + 3n^2 + 2\n",
        "- O(n^2)"
      ],
      "metadata": {
        "id": "EjK4DIlb6yBO"
      }
    },
    {
      "cell_type": "code",
      "source": [
        "n = 2\n",
        "for i in range(1, n+1):  # c\n",
        "    for j in range(1, n+1): #n\n",
        "      print(range(n//2, n+1, n//2)) #2*n*n"
      ],
      "metadata": {
        "id": "BDH1Y5QVq7s-",
        "colab": {
          "base_uri": "https://localhost:8080/"
        },
        "outputId": "19aeadf2-dce5-4375-dd8b-23b2237e439d"
      },
      "execution_count": null,
      "outputs": [
        {
          "output_type": "stream",
          "name": "stdout",
          "text": [
            "range(1, 3)\n",
            "range(1, 3)\n",
            "range(1, 3)\n",
            "range(1, 3)\n"
          ]
        }
      ]
    },
    {
      "cell_type": "markdown",
      "source": [],
      "metadata": {
        "id": "fuWypE4u6hgO"
      }
    },
    {
      "cell_type": "code",
      "source": [
        "n =  100\n",
        "print(list(range(n//2, n+1, n//2)))"
      ],
      "metadata": {
        "id": "KmlpCP5-q7qj",
        "colab": {
          "base_uri": "https://localhost:8080/"
        },
        "outputId": "534a15ab-4172-4007-b51f-837cce7c8779"
      },
      "execution_count": null,
      "outputs": [
        {
          "output_type": "stream",
          "name": "stdout",
          "text": [
            "[50, 100]\n"
          ]
        }
      ]
    },
    {
      "cell_type": "code",
      "source": [
        "50, 101, 50 "
      ],
      "metadata": {
        "id": "nHeYPeS1q7oS"
      },
      "execution_count": null,
      "outputs": []
    },
    {
      "cell_type": "code",
      "source": [
        "1000, \n",
        "500, 10001, 500\n",
        "[500,1000]"
      ],
      "metadata": {
        "id": "2myd8Cqxq7l3"
      },
      "execution_count": null,
      "outputs": []
    },
    {
      "cell_type": "code",
      "source": [
        "def isprime(n):\n",
        "  for i in range(2, int(n**0.5)+1): # c\n",
        "    if n%i==0:   # n^(0.5)-2             \n",
        "      return False #   0 or 1   = c            \n",
        "  return True # 0 or 1 = c"
      ],
      "metadata": {
        "id": "AteO2qxQq7jm"
      },
      "execution_count": null,
      "outputs": []
    },
    {
      "cell_type": "markdown",
      "source": [
        "- TC: n^0.5 + c + (0,c) + (0,c)\n",
        "- O(n^0.5)"
      ],
      "metadata": {
        "id": "u3ZSnaU49Q0v"
      }
    },
    {
      "cell_type": "code",
      "source": [
        "n = 10\n",
        "isprime(n)"
      ],
      "metadata": {
        "id": "Kqk4TwTTq7hV"
      },
      "execution_count": null,
      "outputs": []
    },
    {
      "cell_type": "code",
      "source": [
        "for i in range(1,n): # c\n",
        "  for j in range(i): # n-1\n",
        "    print(\"x\",end=\" \") # 1, 2,3,4...... n-1 => (n*(n+1)/2) - n -> n^2/2 + n/2 - n \n",
        "  print()                # n-1"
      ],
      "metadata": {
        "id": "hGcrdnuoq7fT"
      },
      "execution_count": null,
      "outputs": []
    },
    {
      "cell_type": "markdown",
      "source": [
        "- TC - >  c + n-1  + n^2/2 + n/2 - n + n-1 = > (n^2)/2 + n-2+c\n",
        "- O(N^2)"
      ],
      "metadata": {
        "id": "tHQqLghQ-Jii"
      }
    },
    {
      "cell_type": "code",
      "source": [
        "def fibonacci(n):\n",
        "  if n <= 1: # c \n",
        "        return n # 0, 1\n",
        "  return fibonacci(n-1) + fibonacci(n-2) # 2*2*2*2   ^ 2n -> 2^n\n",
        "\n",
        "n = 9\n",
        "print(fibonacci(n))"
      ],
      "metadata": {
        "id": "nMkzeO8Zq7c3"
      },
      "execution_count": null,
      "outputs": []
    },
    {
      "cell_type": "markdown",
      "source": [
        "2^(n)"
      ],
      "metadata": {
        "id": "mCZbktwUBsJx"
      }
    },
    {
      "cell_type": "code",
      "source": [
        "def random_algo()\n",
        "  if n <= 1: # c \n",
        "        return n # 0, 1\n",
        "  return random_algo(n-1) + random_algo(n-2) + random_algo(n-3) # 3*3*3*3   ^ 3*n -> 3^n"
      ],
      "metadata": {
        "id": "vLyeMmpMq7ak"
      },
      "execution_count": null,
      "outputs": []
    },
    {
      "cell_type": "code",
      "source": [
        "def binary_search(a, target):\n",
        "    start = 0 #c \n",
        "    end = len(a)-1 #c\n",
        "    \n",
        "    while start <= end:  # c\n",
        "        mid = (start + end)//2 \n",
        "        \n",
        "        print(f\"Start = {start}, End = {end}, Mid = {mid}\")\n",
        "        print(f\"List = {a[start:end+1]}\")\n",
        "        print(\"-\"*50)\n",
        "        \n",
        "        if a[mid] == target:\n",
        "            return mid\n",
        "        elif a[mid] > target:\n",
        "            end = mid - 1\n",
        "        else:\n",
        "            start = mid + 1\n",
        "            \n",
        "    return -1"
      ],
      "metadata": {
        "id": "_t1dZCPkq7Vg"
      },
      "execution_count": null,
      "outputs": []
    },
    {
      "cell_type": "markdown",
      "source": [
        "n/2 + n/4+ n/8 ......... 1 - > (n/2)^k + c \n",
        "\n",
        "- n/(2^k) = 1\n",
        "- n = 2^k\n",
        "- log(n) = k\n",
        "- k = log(n)\n",
        "- Logarithmic Complexity"
      ],
      "metadata": {
        "id": "xNwxu0F8C5CR"
      }
    },
    {
      "cell_type": "code",
      "source": [
        "def f(): \n",
        "  ans = 0 \n",
        "  for i in range(1,n+1): c \n",
        "    for j in range(i,n+1,i): # n\n",
        "      ans += 1 \n",
        "      print(ans) # "
      ],
      "metadata": {
        "id": "1e3M-Ilgq7Qq"
      },
      "execution_count": null,
      "outputs": []
    },
    {
      "cell_type": "code",
      "source": [
        "n = 10\n",
        "i = \n",
        "range(3, 11 , 3)\n",
        "\n",
        "n+ n/2 + n/3,,, 1 - > n"
      ],
      "metadata": {
        "id": "Ts1QrbxUq7Ol"
      },
      "execution_count": null,
      "outputs": []
    },
    {
      "cell_type": "code",
      "source": [
        "def solve(N):\n",
        "  for i in range(2**N): # c\n",
        "    j=i 2^n\n",
        "    while j>0: # 2^n\n",
        "      j-=1 #2^n + 2^n + 2^n -1 +1 "
      ],
      "metadata": {
        "id": "Dwrg4Lu7q7L-"
      },
      "execution_count": null,
      "outputs": []
    },
    {
      "cell_type": "code",
      "source": [
        "(2^n)^2^n -> 2^(Cn)"
      ],
      "metadata": {
        "id": "oDsDtdXDq7Ju"
      },
      "execution_count": null,
      "outputs": []
    },
    {
      "cell_type": "code",
      "source": [
        "2^4^2 = 2^8"
      ],
      "metadata": {
        "id": "KbdmxP8fq7Hd"
      },
      "execution_count": null,
      "outputs": []
    },
    {
      "cell_type": "code",
      "source": [
        "i = n\n",
        "while i>0: # c\n",
        "  j = 1 \n",
        "  while j<=n: n/2 + n/4 +  \n",
        "    j = j*2   n/2+ n/4+  .....\n",
        "  i = i//2\n",
        "\n"
      ],
      "metadata": {
        "id": "MwCYs-EXq7FC"
      },
      "execution_count": null,
      "outputs": []
    },
    {
      "cell_type": "code",
      "source": [
        "TC= 10^(3n+1) = O(n)\n",
        "TC= nlog2n = nLog(n) \n",
        "TC = n√n  = g"
      ],
      "metadata": {
        "id": "i83a8g0Xq7Cp"
      },
      "execution_count": null,
      "outputs": []
    },
    {
      "cell_type": "code",
      "source": [],
      "metadata": {
        "id": "yvVyRryOq7AK"
      },
      "execution_count": null,
      "outputs": []
    },
    {
      "cell_type": "code",
      "source": [],
      "metadata": {
        "id": "0grsIHJ2q696"
      },
      "execution_count": null,
      "outputs": []
    },
    {
      "cell_type": "code",
      "source": [],
      "metadata": {
        "id": "qBgoQc91q67L"
      },
      "execution_count": null,
      "outputs": []
    },
    {
      "cell_type": "code",
      "source": [
        "# BINARY SEARCH ON EACH ROW\n",
        "list1 = [ [ 1 ,2,4,5,6 ]\n",
        "       [0,5,6,7,8]\n",
        "       [2,3,4,5,7]\n",
        "       ]\n",
        "\n",
        "rows*log(n)"
      ],
      "metadata": {
        "id": "SbbAqrs7q64M"
      },
      "execution_count": null,
      "outputs": []
    },
    {
      "cell_type": "code",
      "source": [
        "# BINARY SEARCH ON COLS TO FIND THE ROW NUMBER\n",
        "list1 = [ [ 1 ,2,4,5,6 ]\n",
        "           [8,44,66,70,81]\n",
        "           [85,95,104,105,177],\n",
        "         \n",
        "         ...\n",
        "       ]\n",
        "\n",
        "SEARCHIN 9\n",
        "1, 8, 85... ,,,N \n",
        "\n",
        "LOG(COL)+LOG(ROW)"
      ],
      "metadata": {
        "id": "wAjjGfmdq61m"
      },
      "execution_count": null,
      "outputs": []
    },
    {
      "cell_type": "markdown",
      "source": [
        "You are given an array A of size N.\n",
        "\n",
        "denoting the prices of different models. \n",
        "The array is sorted based on prices in increasing order. \n",
        "You are given another array B of size Q denoting the queries.\n",
        "In i'th query, you need to tell the maximum distinct models of mobile phones he can buy with B[i] money"
      ],
      "metadata": {
        "id": "STMwqLCI4bXn"
      }
    },
    {
      "cell_type": "code",
      "source": [
        "N = [1,2,3,4,5,88, 90 ]\n",
        "\n",
        "B = [90, 22, 30, 50 ]\n",
        "\n",
        "OUTOUT [2, N, N, N ]\n",
        "90 RS - > [88,2] , [90], [1], [1,2] - > 2, "
      ],
      "metadata": {
        "id": "Fx3afSUH4eJ9"
      },
      "execution_count": null,
      "outputs": []
    }
  ]
}