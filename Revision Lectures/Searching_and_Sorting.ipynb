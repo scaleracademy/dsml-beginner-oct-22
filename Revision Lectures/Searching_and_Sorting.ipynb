{
  "nbformat": 4,
  "nbformat_minor": 0,
  "metadata": {
    "colab": {
      "provenance": []
    },
    "kernelspec": {
      "name": "python3",
      "display_name": "Python 3"
    },
    "language_info": {
      "name": "python"
    }
  },
  "cells": [
    {
      "cell_type": "code",
      "execution_count": 5,
      "metadata": {
        "colab": {
          "base_uri": "https://localhost:8080/"
        },
        "id": "N_3J5OUJFyLg",
        "outputId": "4a77549f-7821-4822-8381-5c9acd208911"
      },
      "outputs": [
        {
          "output_type": "execute_result",
          "data": {
            "text/plain": [
              "6"
            ]
          },
          "metadata": {},
          "execution_count": 5
        }
      ],
      "source": [
        "def linear_search(list1, target):\n",
        "  for index in range(len(list1)):\n",
        "    if list1[index]==target:\n",
        "      return index\n",
        "  return False\n",
        "\n",
        "list1 = [2,3,4,4,6,7,9,139]\n",
        "target = 9\n",
        "linear_search(list1, target)"
      ]
    },
    {
      "cell_type": "markdown",
      "source": [
        "Standard Binary Search:"
      ],
      "metadata": {
        "id": "E2JjeDeIIIbs"
      }
    },
    {
      "cell_type": "code",
      "source": [
        "def binary_search(list1, target):\n",
        "  lo, hi = 0, len(list1)-1\n",
        "  while lo<=hi:\n",
        "    mid = (lo+hi)//2\n",
        "    if target>list1[mid]:\n",
        "      lo = mid+1\n",
        "    elif target<list1[mid]:\n",
        "      hi = mid-1\n",
        "    else:\n",
        "      return mid\n",
        "  \n",
        "  return -1\n",
        "    \n",
        "list1 = [22,44]\n",
        "target = 44\n",
        "binary_search(list1, target)"
      ],
      "metadata": {
        "colab": {
          "base_uri": "https://localhost:8080/"
        },
        "id": "UiDoGkW6GI1u",
        "outputId": "80d11889-d3a0-4b2a-e994-0697bb0561e6"
      },
      "execution_count": 48,
      "outputs": [
        {
          "output_type": "execute_result",
          "data": {
            "text/plain": [
              "1"
            ]
          },
          "metadata": {},
          "execution_count": 48
        }
      ]
    },
    {
      "cell_type": "code",
      "source": [
        "def binary_search(list1, target, lo, hi):\n",
        "  # remove pass and write your code here recursive\n",
        "  pass\n",
        "  \n",
        "  \n",
        "  return -1\n",
        "    \n",
        "list1 = [22,44]\n",
        "target = 44\n",
        "binary_search(list1, target, 0 , len(list1)-1)"
      ],
      "metadata": {
        "id": "v5nLP2a7Lik3"
      },
      "execution_count": null,
      "outputs": []
    },
    {
      "cell_type": "code",
      "source": [
        "def binary_search(list1, target, lo, hi):\n",
        "  # remove pass and write your code here recursive\n",
        "  if lo<=hi:\n",
        "    mid = (lo+hi)//2\n",
        "    if target>list1[mid]:\n",
        "      return binary_search(list1, target, mid+1, hi)\n",
        "    elif target<list1[mid]:\n",
        "      return binary_search(list1, target, lo, mid-1)\n",
        "    else:\n",
        "      return mid\n",
        "  return -1\n",
        "    \n",
        "list1 = [22,44]\n",
        "target = 44\n",
        "binary_search(list1, target, 0 , len(list1)-1)"
      ],
      "metadata": {
        "colab": {
          "base_uri": "https://localhost:8080/"
        },
        "id": "CaKVtVyyL4kB",
        "outputId": "59b86fa4-37e5-44de-d3d1-88c2cf4f0912"
      },
      "execution_count": 52,
      "outputs": [
        {
          "output_type": "execute_result",
          "data": {
            "text/plain": [
              "1"
            ]
          },
          "metadata": {},
          "execution_count": 52
        }
      ]
    },
    {
      "cell_type": "markdown",
      "source": [
        "Next Largest Element or Last Element if next Largest not available"
      ],
      "metadata": {
        "id": "c_1NiF_CKXiq"
      }
    },
    {
      "cell_type": "code",
      "source": [
        "def binary_search(list1, target):\n",
        "  lo, hi = 0, len(list1)-1\n",
        "  while lo<=hi:\n",
        "    mid = (lo+hi)//2\n",
        "    if target>list1[mid]:\n",
        "      lo = mid+1\n",
        "    elif target<list1[mid]:\n",
        "      hi = mid-1\n",
        "    else:\n",
        "      return mid\n",
        "  return mid, list1[mid]\n",
        "    \n",
        "list1 = [2,3,4,4,6,7,9,139]\n",
        "target = 8\n",
        "binary_search(list1, target)"
      ],
      "metadata": {
        "colab": {
          "base_uri": "https://localhost:8080/"
        },
        "id": "EfSi3fXwG6Dc",
        "outputId": "e3debcf5-b9fe-4dd9-9a6f-c8f760aa615a"
      },
      "execution_count": 43,
      "outputs": [
        {
          "output_type": "execute_result",
          "data": {
            "text/plain": [
              "(6, 9)"
            ]
          },
          "metadata": {},
          "execution_count": 43
        }
      ]
    },
    {
      "cell_type": "markdown",
      "source": [
        "### Binary Search on Matrix"
      ],
      "metadata": {
        "id": "jYhJJdxKKmmN"
      }
    },
    {
      "cell_type": "code",
      "source": [
        "matrix = [[1,2,3,4],\n",
        "          [5,7,8,9],\n",
        "          [10,20,30,40]\n",
        "          ]\n",
        "target = 2\n",
        "\n",
        "# step1: Identify row with Binary Search\n",
        "n_rows = len(matrix)\n",
        "n_cols = len(matrix[0])\n",
        "\n",
        "\n",
        "first_elem = []\n",
        "for i in range(n_rows):\n",
        "  first_elem.append(matrix[i][0])\n",
        "first_elem"
      ],
      "metadata": {
        "colab": {
          "base_uri": "https://localhost:8080/"
        },
        "id": "ywD-Aj4NJ2N8",
        "outputId": "36d164ab-3116-4a71-9467-5aa9707072bf"
      },
      "execution_count": 11,
      "outputs": [
        {
          "output_type": "execute_result",
          "data": {
            "text/plain": [
              "[1, 5, 10]"
            ]
          },
          "metadata": {},
          "execution_count": 11
        }
      ]
    },
    {
      "cell_type": "code",
      "source": [
        "lo, hi = 0, len(first_elem)-1\n",
        "\n",
        "while lo<=hi:\n",
        "    mid = (lo+hi)//2\n",
        "    if target>first_elem[mid]:\n",
        "      lo = mid+1\n",
        "    elif target<first_elem[mid]:\n",
        "      hi = mid-1\n",
        "    else:\n",
        "      break \n",
        "\n",
        "if matrix[mid][0]>target:\n",
        "  row_num = mid-1\n",
        "else:\n",
        "  row_num = mid\n",
        "\n",
        "print(row_num)"
      ],
      "metadata": {
        "colab": {
          "base_uri": "https://localhost:8080/"
        },
        "id": "rBTwA9Y0UQ0U",
        "outputId": "98d941eb-faad-45eb-bd8d-ca00b99314e4"
      },
      "execution_count": 12,
      "outputs": [
        {
          "output_type": "stream",
          "name": "stdout",
          "text": [
            "0\n"
          ]
        }
      ]
    },
    {
      "cell_type": "code",
      "source": [
        "list1 = matrix[row_num]\n",
        "lo, hi = 0, len(list1)-1\n",
        "while lo<=hi:\n",
        "  mid = (lo+hi)//2\n",
        "  if target>list1[mid]:\n",
        "    lo = mid+1\n",
        "  elif target<list1[mid]:\n",
        "    hi = mid-1\n",
        "  else:\n",
        "    print(row_num, mid)\n",
        "    break"
      ],
      "metadata": {
        "colab": {
          "base_uri": "https://localhost:8080/"
        },
        "id": "4EaGdM8FRhgm",
        "outputId": "58b9d184-f2b4-40ba-8678-74a8c34d6663"
      },
      "execution_count": 13,
      "outputs": [
        {
          "output_type": "stream",
          "name": "stdout",
          "text": [
            "0 1\n"
          ]
        }
      ]
    },
    {
      "cell_type": "code",
      "source": [],
      "metadata": {
        "id": "wO8KWklhTGDI"
      },
      "execution_count": null,
      "outputs": []
    },
    {
      "cell_type": "markdown",
      "source": [
        "### Bubble Sort"
      ],
      "metadata": {
        "id": "gPjXrWbPYtr-"
      }
    },
    {
      "cell_type": "code",
      "source": [
        "def bubble_sort(arr):\n",
        "  for i in range(len(arr)):\n",
        "    for j in range(0,len(arr)-1):\n",
        "      if arr[j]>arr[j+1]:\n",
        "        arr[j+1],arr[j]=arr[j], arr[j+1]\n",
        "\n",
        "  return arr\n",
        "\n",
        "arr = [46, 86, 55, 13, 19, 40, 80, 78]\n",
        "\n",
        "bubble_sort(arr)"
      ],
      "metadata": {
        "colab": {
          "base_uri": "https://localhost:8080/"
        },
        "id": "n_G4OR_6Yu8W",
        "outputId": "5b272e5e-65b1-4cfa-b068-04f55c5e049d"
      },
      "execution_count": 31,
      "outputs": [
        {
          "output_type": "execute_result",
          "data": {
            "text/plain": [
              "[13, 19, 40, 46, 55, 78, 80, 86]"
            ]
          },
          "metadata": {},
          "execution_count": 31
        }
      ]
    },
    {
      "cell_type": "markdown",
      "source": [
        "Required number of passes? N-1 Passses"
      ],
      "metadata": {
        "id": "TXOmTH1HfuuI"
      }
    },
    {
      "cell_type": "code",
      "source": [
        "def bubble_sort(arr):\n",
        "  for i in range(len(arr)):\n",
        "    for j in range(0,len(arr)-1-i):\n",
        "      if arr[j]>arr[j+1]:\n",
        "        arr[j+1],arr[j]=arr[j], arr[j+1]\n",
        "\n",
        "  return arr\n",
        "\n",
        "arr = [46, 86, 55, 13, 19, 40, 80, 78]\n",
        "\n",
        "bubble_sort(arr)"
      ],
      "metadata": {
        "colab": {
          "base_uri": "https://localhost:8080/"
        },
        "id": "fn-LOJmwfaZX",
        "outputId": "6655c88e-e95c-4e87-d857-6788af9db35c"
      },
      "execution_count": 32,
      "outputs": [
        {
          "output_type": "execute_result",
          "data": {
            "text/plain": [
              "[13, 19, 40, 46, 55, 78, 80, 86]"
            ]
          },
          "metadata": {},
          "execution_count": 32
        }
      ]
    },
    {
      "cell_type": "code",
      "source": [
        "def bubble_sort(arr):\n",
        "  for i in range(len(arr)):\n",
        "    swap = False\n",
        "    for j in range(0,len(arr)-1-i):\n",
        "      if arr[j]>arr[j+1]:\n",
        "        swap = True\n",
        "        arr[j+1],arr[j]=arr[j], arr[j+1]\n",
        "      \n",
        "    if swap==False:\n",
        "      return arr\n",
        "\n",
        "  return arr\n",
        "\n",
        "arr = [46, 86, 55, 13, 19, 40, 80, 78]\n",
        "\n",
        "bubble_sort(arr)"
      ],
      "metadata": {
        "colab": {
          "base_uri": "https://localhost:8080/"
        },
        "id": "2AK26pHVg8Ei",
        "outputId": "d79819d0-0497-43e5-e33c-135ba23d72f2"
      },
      "execution_count": 35,
      "outputs": [
        {
          "output_type": "execute_result",
          "data": {
            "text/plain": [
              "[13, 19, 40, 46, 55, 78, 80, 86]"
            ]
          },
          "metadata": {},
          "execution_count": 35
        }
      ]
    },
    {
      "cell_type": "markdown",
      "source": [
        "\n",
        "For 1 pass, maximum no. of comparisons is n-1.\n",
        "Similarly for 2 passes maximum no. of comparisons is (n-1) + (n-2)\n",
        "..\n",
        "For k passes maximum no. of comparisons is (n-1) + (n-2) + …+ (n-k)\n",
        "= k(n) - (k(k+1)/2)\n",
        "= (2kn - k2 - k)/2"
      ],
      "metadata": {
        "id": "J49sT77bYvuJ"
      }
    },
    {
      "cell_type": "code",
      "source": [],
      "metadata": {
        "id": "n0oK4DLuZuVA"
      },
      "execution_count": null,
      "outputs": []
    },
    {
      "cell_type": "code",
      "source": [
        "def bubbleSort(arr,k):\n",
        "    for i in range(k):\n",
        "        for j in range(0, k-i-1):\n",
        "            if arr[j] > arr[j + 1] :\n",
        "                arr[j], arr[j + 1] = arr[j + 1], arr[j]\n",
        "    \n",
        "    res= arr[0]+arr[-1]\n",
        "    return res\n",
        "\n",
        "arr = [46, 86, 55, 13, 19, 40, 80, 78]\n",
        "k = 6\n",
        "\n",
        "bubbleSort(arr,k)"
      ],
      "metadata": {
        "colab": {
          "base_uri": "https://localhost:8080/"
        },
        "id": "7HtiL1SfYwFV",
        "outputId": "afffc3d6-2abf-4853-b267-27d9878153df"
      },
      "execution_count": 29,
      "outputs": [
        {
          "output_type": "execute_result",
          "data": {
            "text/plain": [
              "91"
            ]
          },
          "metadata": {},
          "execution_count": 29
        }
      ]
    },
    {
      "cell_type": "markdown",
      "source": [
        "### Selection Sort:"
      ],
      "metadata": {
        "id": "a2y8Pza4jR5l"
      }
    },
    {
      "cell_type": "code",
      "source": [
        "def selection_sort(arr):\n",
        "  for i in range(len(arr)):\n",
        "    min_ind = i \n",
        "    for j in range(i+1, len(arr)):\n",
        "      if arr[j]<arr[min_ind]:\n",
        "        min_ind = j \n",
        "\n",
        "    if min_ind!=i:\n",
        "      arr[i], arr[min_ind]= arr[min_ind], arr[i]\n",
        "  return arr\n",
        "\n",
        "arr = [46, 86, 55, 13, 19, 40, 80, 78]\n",
        "selection_sort(arr)"
      ],
      "metadata": {
        "colab": {
          "base_uri": "https://localhost:8080/"
        },
        "id": "xuoxZw5gZ5Hj",
        "outputId": "78ce797e-fc5c-4d46-9167-b7c6446902cd"
      },
      "execution_count": 37,
      "outputs": [
        {
          "output_type": "execute_result",
          "data": {
            "text/plain": [
              "[13, 19, 40, 46, 55, 78, 80, 86]"
            ]
          },
          "metadata": {},
          "execution_count": 37
        }
      ]
    },
    {
      "cell_type": "markdown",
      "source": [
        "ap: O(n^2)"
      ],
      "metadata": {
        "id": "IQq0PwPXkH1N"
      }
    },
    {
      "cell_type": "markdown",
      "source": [
        "Insertion Sort:"
      ],
      "metadata": {
        "id": "vE9hzPF6l9WW"
      }
    },
    {
      "cell_type": "code",
      "source": [
        "def insertionsort(arr):\n",
        "  for i in range(1, len(arr)):\n",
        "    index_to_insert = i\n",
        "    j = i-1 \n",
        "    while j>=0:\n",
        "      if arr[j]<arr[index_to_insert]:\n",
        "        break\n",
        "\n",
        "      else:\n",
        "        arr[j], arr[index_to_insert]=  arr[index_to_insert], arr[j]\n",
        "        index_to_insert=j\n",
        "        j-=1\n",
        "  return arr\n",
        "\n",
        "arr = [46, 86, 55, 13, 19, 40, 80, 78]\n",
        "insertionsort(arr)     "
      ],
      "metadata": {
        "colab": {
          "base_uri": "https://localhost:8080/"
        },
        "id": "iNhqPh7Wj3KE",
        "outputId": "013a437e-5284-42dd-d5c2-07b486d1f631"
      },
      "execution_count": 40,
      "outputs": [
        {
          "output_type": "execute_result",
          "data": {
            "text/plain": [
              "[13, 19, 40, 46, 55, 78, 80, 86]"
            ]
          },
          "metadata": {},
          "execution_count": 40
        }
      ]
    },
    {
      "cell_type": "code",
      "source": [],
      "metadata": {
        "id": "qR8xwmSUmhqq"
      },
      "execution_count": null,
      "outputs": []
    }
  ]
}