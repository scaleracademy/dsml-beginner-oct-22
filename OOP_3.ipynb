{
  "nbformat": 4,
  "nbformat_minor": 0,
  "metadata": {
    "colab": {
      "provenance": [],
      "authorship_tag": "ABX9TyPKAjBjRiopOLEuuK8WGeMT",
      "include_colab_link": true
    },
    "kernelspec": {
      "name": "python3",
      "display_name": "Python 3"
    },
    "language_info": {
      "name": "python"
    }
  },
  "cells": [
    {
      "cell_type": "markdown",
      "metadata": {
        "id": "view-in-github",
        "colab_type": "text"
      },
      "source": [
        "<a href=\"https://colab.research.google.com/github/scaleracademy/dsml-beginner-oct-22/blob/main/OOP_3.ipynb\" target=\"_parent\"><img src=\"https://colab.research.google.com/assets/colab-badge.svg\" alt=\"Open In Colab\"/></a>"
      ]
    },
    {
      "cell_type": "code",
      "execution_count": 1,
      "metadata": {
        "id": "sW6fiFE29Dqn"
      },
      "outputs": [],
      "source": [
        "class Dog:\n",
        "  name = \"Togo\"\n",
        "  breed = \"Shitzu\"\n",
        "\n",
        "  def intro(self):\n",
        "    print(f\"Hello my name is {self.name}, bhau bhau\")"
      ]
    },
    {
      "cell_type": "code",
      "source": [
        "d1 = Dog()"
      ],
      "metadata": {
        "id": "gaGSIpsjCVwp"
      },
      "execution_count": 2,
      "outputs": []
    },
    {
      "cell_type": "code",
      "source": [
        "print(d1.breed)"
      ],
      "metadata": {
        "colab": {
          "base_uri": "https://localhost:8080/"
        },
        "id": "Phz2aNgACgE8",
        "outputId": "1e680046-dff7-4b66-abe8-ebe3e83dc796"
      },
      "execution_count": 3,
      "outputs": [
        {
          "output_type": "stream",
          "name": "stdout",
          "text": [
            "Shitzu\n"
          ]
        }
      ]
    },
    {
      "cell_type": "code",
      "source": [
        "d2 = Dog()\n",
        "d2.breed = \"Pitbull\"\n",
        "\n",
        "print(d1.breed)\n",
        "print(d2.breed)"
      ],
      "metadata": {
        "colab": {
          "base_uri": "https://localhost:8080/"
        },
        "id": "tLRYaFwdCkKV",
        "outputId": "34a557ac-baa3-4920-f7b9-619dfaab73d1"
      },
      "execution_count": 4,
      "outputs": [
        {
          "output_type": "stream",
          "name": "stdout",
          "text": [
            "Shitzu\n",
            "Pitbull\n"
          ]
        }
      ]
    },
    {
      "cell_type": "code",
      "source": [
        "class Dog:\n",
        "  name = \"Togo\"\n",
        "  tricks = []\n",
        "\n",
        "  def check_memory_add(self):\n",
        "    print(id(self.name))\n",
        "\n",
        "  def change_name(self, new_name):\n",
        "    self.name = new_name\n",
        "\n",
        "  def teach_trick(self, trick):\n",
        "    self.tricks.append(trick)\n",
        "  "
      ],
      "metadata": {
        "id": "t8E6tWtlCweS"
      },
      "execution_count": 19,
      "outputs": []
    },
    {
      "cell_type": "code",
      "source": [
        "d1 = Dog()\n",
        "d1.teach_trick(\"fetch\")\n",
        "d1.teach_trick(\"handshake\")\n",
        "\n",
        "print(id(d1.tricks))\n",
        "\n",
        "d2 = Dog()\n",
        "d2.teach_trick(\"jump\")\n",
        "\n",
        "print(id(d2.tricks))\n",
        "\n",
        "print(id(Dog.tricks))\n",
        "\n",
        "print(d1.tricks)\n",
        "print(d2.tricks)"
      ],
      "metadata": {
        "colab": {
          "base_uri": "https://localhost:8080/"
        },
        "id": "vSndr40UHFdL",
        "outputId": "9af6c785-cceb-428e-b98a-112efdedbdc6"
      },
      "execution_count": 20,
      "outputs": [
        {
          "output_type": "stream",
          "name": "stdout",
          "text": [
            "140142698044544\n",
            "140142698044544\n",
            "140142698044544\n",
            "['fetch', 'handshake', 'jump']\n",
            "['fetch', 'handshake', 'jump']\n"
          ]
        }
      ]
    },
    {
      "cell_type": "code",
      "source": [
        "d1 = Dog()\n",
        "d1.change_name(\"Tuffy\")\n",
        "\n",
        "d2 = Dog()\n",
        "d2.change_name(\"Polo\")\n",
        "\n",
        "print(d1.name)\n",
        "print(d2.name)\n",
        "\n",
        "d1.check_memory_add()\n",
        "d2.check_memory_add()"
      ],
      "metadata": {
        "colab": {
          "base_uri": "https://localhost:8080/"
        },
        "id": "MIk-5CPqDryu",
        "outputId": "4f6f2248-be65-4628-92a6-817276bc4788"
      },
      "execution_count": 16,
      "outputs": [
        {
          "output_type": "stream",
          "name": "stdout",
          "text": [
            "Tuffy\n",
            "Polo\n",
            "140142697756080\n",
            "140142697756976\n"
          ]
        }
      ]
    },
    {
      "cell_type": "code",
      "source": [
        "d1 = Dog()\n",
        "d1.teach_trick(\"fetch\")\n",
        "d1.teach_trick(\"handshake\")\n",
        "\n",
        "d2 = Dog()\n",
        "d2.teach_trick(\"jump\")\n",
        "\n",
        "print(d1.tricks)\n",
        "print(d2.tricks)"
      ],
      "metadata": {
        "colab": {
          "base_uri": "https://localhost:8080/"
        },
        "id": "LdehmCDzDBSw",
        "outputId": "f5ec5a59-70e0-45a3-f617-787e36c61e96"
      },
      "execution_count": 11,
      "outputs": [
        {
          "output_type": "stream",
          "name": "stdout",
          "text": [
            "['fetch', 'handshake', 'jump']\n",
            "['fetch', 'handshake', 'jump']\n"
          ]
        }
      ]
    },
    {
      "cell_type": "code",
      "source": [
        "d1 = Dog()\n",
        "d1.teach_trick(\"fetch\")\n",
        "d1.teach_trick(\"handshake\")\n",
        "\n",
        "d2 = Dog()\n",
        "d2.teach_trick(\"jump\")\n",
        "\n",
        "print(d1.tricks)\n",
        "print(d2.tricks)"
      ],
      "metadata": {
        "id": "Be1BPS6gDZob"
      },
      "execution_count": null,
      "outputs": []
    },
    {
      "cell_type": "code",
      "source": [
        "class Dog:\n",
        "  name = \"Togo\"\n",
        "\n",
        "  def __init__(self):\n",
        "    self.tricks = []\n",
        "\n",
        "  def change_name(self, new_name):\n",
        "    self.name = new_name\n",
        "\n",
        "  def teach_trick(self, trick):\n",
        "    self.tricks.append(trick)\n",
        "  "
      ],
      "metadata": {
        "id": "X6_y9ArbFU04"
      },
      "execution_count": 17,
      "outputs": []
    },
    {
      "cell_type": "code",
      "source": [
        "d1 = Dog()\n",
        "d1.teach_trick(\"fetch\")\n",
        "d1.teach_trick(\"handshake\")\n",
        "\n",
        "d2 = Dog()\n",
        "d2.teach_trick(\"jump\")\n",
        "\n",
        "print(d1.tricks)\n",
        "print(d2.tricks)"
      ],
      "metadata": {
        "colab": {
          "base_uri": "https://localhost:8080/"
        },
        "id": "EYm0pgTSGY6J",
        "outputId": "d0db1c8c-1735-42e9-e913-c256dd230737"
      },
      "execution_count": 18,
      "outputs": [
        {
          "output_type": "stream",
          "name": "stdout",
          "text": [
            "['fetch', 'handshake']\n",
            "['jump']\n"
          ]
        }
      ]
    },
    {
      "cell_type": "code",
      "source": [],
      "metadata": {
        "id": "ZJcELZqFGbif"
      },
      "execution_count": null,
      "outputs": []
    },
    {
      "cell_type": "code",
      "source": [
        "class A:\n",
        "  x = 5\n",
        "\n",
        "class B(A):\n",
        "  pass\n",
        "\n",
        "class C(B):\n",
        "  pass\n",
        "\n",
        "class D(A):\n",
        "  x = 10\n",
        "\n",
        "class E(C, D):\n",
        "  pass"
      ],
      "metadata": {
        "id": "WVsz0hoqHteF"
      },
      "execution_count": 24,
      "outputs": []
    },
    {
      "cell_type": "code",
      "source": [
        "e = E()\n",
        "print(e.x)"
      ],
      "metadata": {
        "colab": {
          "base_uri": "https://localhost:8080/"
        },
        "id": "G46PSaZgIhEy",
        "outputId": "f4a62ff1-50da-4aff-a70c-79132a344fb8"
      },
      "execution_count": 25,
      "outputs": [
        {
          "output_type": "stream",
          "name": "stdout",
          "text": [
            "10\n"
          ]
        }
      ]
    },
    {
      "cell_type": "code",
      "source": [
        "E.mro()"
      ],
      "metadata": {
        "colab": {
          "base_uri": "https://localhost:8080/"
        },
        "id": "Z4lHAPeoIl92",
        "outputId": "2ecf708c-c060-4afb-99c0-ab3de7e57c19"
      },
      "execution_count": 26,
      "outputs": [
        {
          "output_type": "execute_result",
          "data": {
            "text/plain": [
              "[__main__.E, __main__.C, __main__.B, __main__.D, __main__.A, object]"
            ]
          },
          "metadata": {},
          "execution_count": 26
        }
      ]
    },
    {
      "cell_type": "code",
      "source": [],
      "metadata": {
        "id": "lui6k1TNJMr1"
      },
      "execution_count": null,
      "outputs": []
    },
    {
      "cell_type": "code",
      "source": [
        "class Dog:\n",
        "  name = \"Togo\"\n",
        "\n",
        "  def __init__(self):\n",
        "    self.tricks = []\n",
        "\n",
        "  def change_name(self, new_name):\n",
        "    self.name = new_name\n",
        "\n",
        "  def teach_trick(self, trick):\n",
        "    self.tricks.append(trick)\n",
        "  "
      ],
      "metadata": {
        "id": "z-srIN9IMgx9"
      },
      "execution_count": 27,
      "outputs": []
    },
    {
      "cell_type": "code",
      "source": [
        "d1 = Dog()"
      ],
      "metadata": {
        "id": "dzfxxPrhMmQ-"
      },
      "execution_count": 28,
      "outputs": []
    },
    {
      "cell_type": "code",
      "source": [
        "id(d1)"
      ],
      "metadata": {
        "colab": {
          "base_uri": "https://localhost:8080/"
        },
        "id": "wQFq7s17M6e7",
        "outputId": "8c9bbcae-7e6f-43b5-b601-b94e71ced4e0"
      },
      "execution_count": 29,
      "outputs": [
        {
          "output_type": "execute_result",
          "data": {
            "text/plain": [
              "140142698063856"
            ]
          },
          "metadata": {},
          "execution_count": 29
        }
      ]
    },
    {
      "cell_type": "code",
      "source": [
        "d1.change_name(\"something\")"
      ],
      "metadata": {
        "id": "DUmX24FmM8gL"
      },
      "execution_count": 30,
      "outputs": []
    },
    {
      "cell_type": "code",
      "source": [
        "id(d1)"
      ],
      "metadata": {
        "colab": {
          "base_uri": "https://localhost:8080/"
        },
        "id": "sGdxFggMM-lW",
        "outputId": "6b8b412a-24ac-4fe0-cc61-0ff16c3f91d7"
      },
      "execution_count": 31,
      "outputs": [
        {
          "output_type": "execute_result",
          "data": {
            "text/plain": [
              "140142698063856"
            ]
          },
          "metadata": {},
          "execution_count": 31
        }
      ]
    },
    {
      "cell_type": "code",
      "source": [
        "arr = [1, 2, 3]\n",
        "arr.sort()\n",
        "arr.append(5)"
      ],
      "metadata": {
        "id": "ce5lMtBdNDCw"
      },
      "execution_count": null,
      "outputs": []
    },
    {
      "cell_type": "markdown",
      "source": [
        "Methods that perform change or update on an object are called mutations\n",
        "<br>\n",
        "Objects with mutations are mutable and without mutations are immutable"
      ],
      "metadata": {
        "id": "vZRz2ky-ONLz"
      }
    },
    {
      "cell_type": "markdown",
      "source": [
        "# Homework\n",
        "1. Write the code for the inheritence graph and verify the MRO\n",
        "2. Read the principles of functional programming from [this](https://medium.com/@kumbhar.pradnya/functional-programming-principles-6f59bc6764ff) article"
      ],
      "metadata": {
        "id": "dAUp9duqPA28"
      }
    },
    {
      "cell_type": "code",
      "source": [
        "class A:\n",
        "  pass\n",
        "class B(A):\n",
        "  x = 5\n",
        "class C(A):\n",
        "  pass\n",
        "class D(C):\n",
        "  pass\n",
        "class E(C):\n",
        "  x = 10\n",
        "class F(D, E):\n",
        "  pass\n",
        "class G(B, F):\n",
        "  pass"
      ],
      "metadata": {
        "id": "XzkbOylrQgVX"
      },
      "execution_count": 35,
      "outputs": []
    },
    {
      "cell_type": "code",
      "source": [
        "G.mro()"
      ],
      "metadata": {
        "colab": {
          "base_uri": "https://localhost:8080/"
        },
        "id": "Km6ZeEDlRjBh",
        "outputId": "e21b2162-5e0e-4132-fdb6-a63873885c48"
      },
      "execution_count": 36,
      "outputs": [
        {
          "output_type": "execute_result",
          "data": {
            "text/plain": [
              "[__main__.G,\n",
              " __main__.B,\n",
              " __main__.F,\n",
              " __main__.D,\n",
              " __main__.E,\n",
              " __main__.C,\n",
              " __main__.A,\n",
              " object]"
            ]
          },
          "metadata": {},
          "execution_count": 36
        }
      ]
    },
    {
      "cell_type": "code",
      "source": [
        "a = [1,2, 3]\n",
        "b = a\n",
        "\n",
        "b[0] = 100\n",
        "print(a)"
      ],
      "metadata": {
        "id": "vgwi0PSBRjsg"
      },
      "execution_count": null,
      "outputs": []
    },
    {
      "cell_type": "code",
      "source": [
        "class Dog:\n",
        "  name = \"Togo\"\n",
        "\n",
        "  def __init__(self):\n",
        "    self.tricks = []\n",
        "\n",
        "  def whats_my_name(self):\n",
        "    print(name)\n",
        "  "
      ],
      "metadata": {
        "id": "AKdd4yFJTVNj"
      },
      "execution_count": 39,
      "outputs": []
    },
    {
      "cell_type": "code",
      "source": [
        "d1 = Dog()\n",
        "d1.whats_my_name()"
      ],
      "metadata": {
        "colab": {
          "base_uri": "https://localhost:8080/",
          "height": 291
        },
        "id": "0nVMTT5uTbkv",
        "outputId": "798c20d4-20f0-46d6-c248-8547acb239a0"
      },
      "execution_count": 40,
      "outputs": [
        {
          "output_type": "error",
          "ename": "NameError",
          "evalue": "ignored",
          "traceback": [
            "\u001b[0;31m---------------------------------------------------------------------------\u001b[0m",
            "\u001b[0;31mNameError\u001b[0m                                 Traceback (most recent call last)",
            "\u001b[0;32m<ipython-input-40-64216fa06477>\u001b[0m in \u001b[0;36m<module>\u001b[0;34m\u001b[0m\n\u001b[1;32m      1\u001b[0m \u001b[0md1\u001b[0m \u001b[0;34m=\u001b[0m \u001b[0mDog\u001b[0m\u001b[0;34m(\u001b[0m\u001b[0;34m)\u001b[0m\u001b[0;34m\u001b[0m\u001b[0;34m\u001b[0m\u001b[0m\n\u001b[0;32m----> 2\u001b[0;31m \u001b[0md1\u001b[0m\u001b[0;34m.\u001b[0m\u001b[0mwhats_my_name\u001b[0m\u001b[0;34m(\u001b[0m\u001b[0;34m)\u001b[0m\u001b[0;34m\u001b[0m\u001b[0;34m\u001b[0m\u001b[0m\n\u001b[0m",
            "\u001b[0;32m<ipython-input-39-5ee2d5f7c6b6>\u001b[0m in \u001b[0;36mwhats_my_name\u001b[0;34m(self)\u001b[0m\n\u001b[1;32m      6\u001b[0m \u001b[0;34m\u001b[0m\u001b[0m\n\u001b[1;32m      7\u001b[0m   \u001b[0;32mdef\u001b[0m \u001b[0mwhats_my_name\u001b[0m\u001b[0;34m(\u001b[0m\u001b[0mself\u001b[0m\u001b[0;34m)\u001b[0m\u001b[0;34m:\u001b[0m\u001b[0;34m\u001b[0m\u001b[0;34m\u001b[0m\u001b[0m\n\u001b[0;32m----> 8\u001b[0;31m     \u001b[0mprint\u001b[0m\u001b[0;34m(\u001b[0m\u001b[0mname\u001b[0m\u001b[0;34m)\u001b[0m\u001b[0;34m\u001b[0m\u001b[0;34m\u001b[0m\u001b[0m\n\u001b[0m\u001b[1;32m      9\u001b[0m \u001b[0;34m\u001b[0m\u001b[0m\n",
            "\u001b[0;31mNameError\u001b[0m: name 'name' is not defined"
          ]
        }
      ]
    },
    {
      "cell_type": "code",
      "source": [
        "class Student:\n",
        "  pass"
      ],
      "metadata": {
        "id": "ByIb5YjNTeed"
      },
      "execution_count": 41,
      "outputs": []
    },
    {
      "cell_type": "code",
      "source": [
        "s1 = Student()\n",
        "s1.name = \"Jatin\"\n",
        "s1.roll_number = 1"
      ],
      "metadata": {
        "id": "7zYmwBxgTqxE"
      },
      "execution_count": 42,
      "outputs": []
    },
    {
      "cell_type": "code",
      "source": [
        "class Student:\n",
        "  def __init__(self, name, roll_number):\n",
        "    self.name = name\n",
        "    self.roll_number = roll_number"
      ],
      "metadata": {
        "id": "pTWBuav6Tt-o"
      },
      "execution_count": 43,
      "outputs": []
    },
    {
      "cell_type": "code",
      "source": [
        "s1 = Student(\"Jatin\", 1)"
      ],
      "metadata": {
        "id": "8l8nS6pnT0p7"
      },
      "execution_count": 44,
      "outputs": []
    },
    {
      "cell_type": "code",
      "source": [
        "class Member:\n",
        "  def __init__(self, name):\n",
        "    self.name = \"Sir/Maam \" + name\n",
        "\n",
        "  def intro(self):\n",
        "    print(\"Hello my name is\", self.name)\n",
        "\n",
        "class Teacher(Member):\n",
        "  # This Overriding the init method of member\n",
        "  def __init__(self, name, subject):\n",
        "    super().__init__(name)\n",
        "    self.subject = subject\n",
        "  \n",
        "class Student(Member):\n",
        "  def __init__(self, name, course):\n",
        "    super().__init__(name)\n",
        "    self.course = course\n",
        "\n",
        "  def intro(self):\n",
        "    print(f\"Hello I am a student and my name is {self.name}\")"
      ],
      "metadata": {
        "id": "b_bHGxWNT3VC"
      },
      "execution_count": null,
      "outputs": []
    }
  ]
}