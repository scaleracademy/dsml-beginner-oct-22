{
  "nbformat": 4,
  "nbformat_minor": 0,
  "metadata": {
    "colab": {
      "provenance": [],
      "authorship_tag": "ABX9TyMSljYLPwrd+nO9PsrXVCKb",
      "include_colab_link": true
    },
    "kernelspec": {
      "name": "python3",
      "display_name": "Python 3"
    },
    "language_info": {
      "name": "python"
    }
  },
  "cells": [
    {
      "cell_type": "markdown",
      "metadata": {
        "id": "view-in-github",
        "colab_type": "text"
      },
      "source": [
        "<a href=\"https://colab.research.google.com/github/scaleracademy/dsml-beginner-oct-22/blob/main/OOPS_2.ipynb\" target=\"_parent\"><img src=\"https://colab.research.google.com/assets/colab-badge.svg\" alt=\"Open In Colab\"/></a>"
      ]
    },
    {
      "cell_type": "code",
      "execution_count": 1,
      "metadata": {
        "id": "RQmCxRjTpiuC"
      },
      "outputs": [],
      "source": [
        "a = [1, 2, 3, 4]\n",
        "\n",
        "# Return a list with squares of even number\n",
        "\n"
      ]
    },
    {
      "cell_type": "code",
      "source": [
        "def even_squares(arr):\n",
        "  result = []\n",
        "  for i in arr:\n",
        "    if i % 2 == 0:\n",
        "      result.append(i**2)\n",
        "  return result\n",
        "\n",
        "even_squares(a) # Highly abstracted"
      ],
      "metadata": {
        "id": "G7wB_MS9wUVN"
      },
      "execution_count": 2,
      "outputs": []
    },
    {
      "cell_type": "code",
      "source": [
        "def get_even_numbers(arr):\n",
        "  result = []\n",
        "  for i in arr:\n",
        "    if i % 2 == 0:\n",
        "      result.append(i)\n",
        "  return result\n",
        "\n",
        "def squares(arr):\n",
        "  return [i**2 for i in arr]\n",
        "\n",
        "print(squares(get_even_numbers(a))) # Low abstraction"
      ],
      "metadata": {
        "id": "I72knIrnwkcv"
      },
      "execution_count": 3,
      "outputs": []
    },
    {
      "cell_type": "code",
      "source": [],
      "metadata": {
        "id": "dGycQQnswpyp"
      },
      "execution_count": null,
      "outputs": []
    },
    {
      "cell_type": "code",
      "source": [
        "names = [\"Vineet\", \"Ashish\", \"Nabina\", \"Pranav\", \"Samuel\", \"Vipul\", \"Anup\"]\n",
        "marks = [100, 90, 95, 80, 92, 99, 96]"
      ],
      "metadata": {
        "id": "stRSnH-nxfPT"
      },
      "execution_count": 4,
      "outputs": []
    },
    {
      "cell_type": "code",
      "source": [
        "names.index(\"Pranav\")"
      ],
      "metadata": {
        "colab": {
          "base_uri": "https://localhost:8080/"
        },
        "id": "llzx3SkIxffY",
        "outputId": "c75898a4-4ccc-462a-b0be-78b62d200953"
      },
      "execution_count": 6,
      "outputs": [
        {
          "output_type": "execute_result",
          "data": {
            "text/plain": [
              "3"
            ]
          },
          "metadata": {},
          "execution_count": 6
        }
      ]
    },
    {
      "cell_type": "code",
      "source": [
        "marks[3]"
      ],
      "metadata": {
        "colab": {
          "base_uri": "https://localhost:8080/"
        },
        "id": "DY1A1vhdxfx1",
        "outputId": "5ac59609-f877-4329-c112-058069e23d16"
      },
      "execution_count": 7,
      "outputs": [
        {
          "output_type": "execute_result",
          "data": {
            "text/plain": [
              "80"
            ]
          },
          "metadata": {},
          "execution_count": 7
        }
      ]
    },
    {
      "cell_type": "code",
      "source": [
        "students = [\n",
        "    {\"name\": \"Vineet\", \"marks\": 100}, \n",
        "    {\"name\": \"Ashish\", \"marks\": 90}, \n",
        "]"
      ],
      "metadata": {
        "id": "ZvPebS-Z1rVG"
      },
      "execution_count": null,
      "outputs": []
    },
    {
      "cell_type": "code",
      "source": [],
      "metadata": {
        "id": "84PzrU183r7T"
      },
      "execution_count": null,
      "outputs": []
    },
    {
      "cell_type": "code",
      "source": [
        "class Member:\n",
        "  name = \"\"\n"
      ],
      "metadata": {
        "id": "Ht3d03jl3sHQ"
      },
      "execution_count": 9,
      "outputs": []
    },
    {
      "cell_type": "code",
      "source": [
        "m1 = Member()\n",
        "m1.name = \"Jatin\""
      ],
      "metadata": {
        "id": "BRM9Iq4l3xNo"
      },
      "execution_count": 10,
      "outputs": []
    },
    {
      "cell_type": "code",
      "source": [
        "print(m1.name)"
      ],
      "metadata": {
        "colab": {
          "base_uri": "https://localhost:8080/"
        },
        "id": "PQnHVYu937Pe",
        "outputId": "08d58341-f9ea-4f22-c10f-f7613fe08d25"
      },
      "execution_count": 11,
      "outputs": [
        {
          "output_type": "stream",
          "name": "stdout",
          "text": [
            "Jatin\n"
          ]
        }
      ]
    },
    {
      "cell_type": "code",
      "source": [
        "m2 = Member()\n",
        "print(m2.name)"
      ],
      "metadata": {
        "colab": {
          "base_uri": "https://localhost:8080/"
        },
        "id": "ZXG7w-lP4C6H",
        "outputId": "c9830f1d-8a2c-48d5-a7f2-01c6919d411f"
      },
      "execution_count": 12,
      "outputs": [
        {
          "output_type": "stream",
          "name": "stdout",
          "text": [
            "\n"
          ]
        }
      ]
    },
    {
      "cell_type": "code",
      "source": [
        "m2.name = \"Vineet\"\n",
        "print(m2.name)"
      ],
      "metadata": {
        "colab": {
          "base_uri": "https://localhost:8080/"
        },
        "id": "OlK8I9xh4Zbo",
        "outputId": "ad87c373-0b7e-42ca-d3a1-3778cfccb241"
      },
      "execution_count": 13,
      "outputs": [
        {
          "output_type": "stream",
          "name": "stdout",
          "text": [
            "Vineet\n"
          ]
        }
      ]
    },
    {
      "cell_type": "code",
      "source": [
        "class Member:\n",
        "  def __init__(self, name, id):\n",
        "    self.name = name\n",
        "    self.id = id"
      ],
      "metadata": {
        "id": "7-UKhOv64clm"
      },
      "execution_count": 29,
      "outputs": []
    },
    {
      "cell_type": "code",
      "source": [
        "m1 = Member(\"Vineet\", 1)"
      ],
      "metadata": {
        "id": "g1jbmmjb5s7z"
      },
      "execution_count": 30,
      "outputs": []
    },
    {
      "cell_type": "code",
      "source": [
        "print(m1.name)"
      ],
      "metadata": {
        "colab": {
          "base_uri": "https://localhost:8080/"
        },
        "id": "Ey2Pyxkc5uO5",
        "outputId": "94c88be1-3061-4bbb-885d-f4bd697afb4f"
      },
      "execution_count": 25,
      "outputs": [
        {
          "output_type": "stream",
          "name": "stdout",
          "text": [
            "Vineet\n"
          ]
        }
      ]
    },
    {
      "cell_type": "code",
      "source": [
        "m2 = Member(\"Jatin\", 2)\n",
        "print(m2.name)"
      ],
      "metadata": {
        "colab": {
          "base_uri": "https://localhost:8080/"
        },
        "id": "ISoHGEkW6G0S",
        "outputId": "b5a0da4b-3fa6-42c5-9164-31da547f24d0"
      },
      "execution_count": 31,
      "outputs": [
        {
          "output_type": "stream",
          "name": "stdout",
          "text": [
            "Jatin\n"
          ]
        }
      ]
    },
    {
      "cell_type": "code",
      "source": [
        "m3 = Member()"
      ],
      "metadata": {
        "colab": {
          "base_uri": "https://localhost:8080/",
          "height": 167
        },
        "id": "L6ixkzJ76oH3",
        "outputId": "2d563162-ed7b-479c-f965-b4a926fd9fe4"
      },
      "execution_count": 27,
      "outputs": [
        {
          "output_type": "error",
          "ename": "TypeError",
          "evalue": "ignored",
          "traceback": [
            "\u001b[0;31m---------------------------------------------------------------------------\u001b[0m",
            "\u001b[0;31mTypeError\u001b[0m                                 Traceback (most recent call last)",
            "\u001b[0;32m<ipython-input-27-969b3c590324>\u001b[0m in \u001b[0;36m<module>\u001b[0;34m\u001b[0m\n\u001b[0;32m----> 1\u001b[0;31m \u001b[0mm3\u001b[0m \u001b[0;34m=\u001b[0m \u001b[0mMember\u001b[0m\u001b[0;34m(\u001b[0m\u001b[0;34m)\u001b[0m\u001b[0;34m\u001b[0m\u001b[0;34m\u001b[0m\u001b[0m\n\u001b[0m",
            "\u001b[0;31mTypeError\u001b[0m: __init__() missing 1 required positional argument: 'name'"
          ]
        }
      ]
    },
    {
      "cell_type": "code",
      "source": [
        "class Member:\n",
        "  def __init__(self, name):\n",
        "    self.name = \"Sir/Maam \" + name\n",
        "\n",
        "  def intro(self):\n",
        "    print(\"Hello my name is\", self.name)\n",
        "\n",
        "class Teacher(Member):\n",
        "  # This Overriding the init method of member\n",
        "  def __init__(self, name, subject):\n",
        "    super().__init__(name)\n",
        "    self.subject = subject\n",
        "  \n",
        "class Student(Member):\n",
        "  def __init__(self, name, course):\n",
        "    super().__init__(name)\n",
        "    self.course = course\n"
      ],
      "metadata": {
        "id": "OEsSKN5q6uQ5"
      },
      "execution_count": 60,
      "outputs": []
    },
    {
      "cell_type": "code",
      "source": [
        "t1 = Teacher(\"Jatin\", \"Python\")"
      ],
      "metadata": {
        "colab": {
          "base_uri": "https://localhost:8080/"
        },
        "id": "v9icLf4-8egi",
        "outputId": "52daf8d2-b84d-4b3e-90e0-387c89a93b6b"
      },
      "execution_count": 61,
      "outputs": [
        {
          "output_type": "stream",
          "name": "stdout",
          "text": [
            "teacher initialisation\n",
            "member initialisation\n"
          ]
        }
      ]
    },
    {
      "cell_type": "code",
      "source": [
        "t1.name"
      ],
      "metadata": {
        "colab": {
          "base_uri": "https://localhost:8080/",
          "height": 35
        },
        "id": "oMwfnyNkBK0B",
        "outputId": "648657bc-3d5b-4189-a313-370b2a745292"
      },
      "execution_count": 59,
      "outputs": [
        {
          "output_type": "execute_result",
          "data": {
            "text/plain": [
              "'Sir/Maam Jatin'"
            ],
            "application/vnd.google.colaboratory.intrinsic+json": {
              "type": "string"
            }
          },
          "metadata": {},
          "execution_count": 59
        }
      ]
    },
    {
      "cell_type": "code",
      "source": [
        "t1.intro()"
      ],
      "metadata": {
        "colab": {
          "base_uri": "https://localhost:8080/"
        },
        "id": "x7Lqs7x_9Am6",
        "outputId": "fd6e3fa6-0665-4853-e0b6-f2ff5bb10eca"
      },
      "execution_count": 54,
      "outputs": [
        {
          "output_type": "stream",
          "name": "stdout",
          "text": [
            "I'm your teacher don't ask for intro\n"
          ]
        }
      ]
    },
    {
      "cell_type": "code",
      "source": [
        "class Counter:\n",
        "    def __init__(self):\n",
        "        self.count = 5\n",
        "        self.count = self.count + 1\n",
        "\n",
        "c = Counter()\n",
        "print(c.count)"
      ],
      "metadata": {
        "colab": {
          "base_uri": "https://localhost:8080/"
        },
        "id": "XiItnZqr9ZL2",
        "outputId": "7a13eec7-f138-4675-b5b4-48a4b053a47e"
      },
      "execution_count": 63,
      "outputs": [
        {
          "output_type": "stream",
          "name": "stdout",
          "text": [
            "6\n"
          ]
        }
      ]
    },
    {
      "cell_type": "code",
      "source": [
        "class Car:\n",
        "  def __init__(self, name, mileage):\n",
        "    self.name = name\n",
        "    self.mileage = mileage\n",
        "  \n",
        "  def __add__(self, other):\n",
        "    return self.mileage + other.mileage"
      ],
      "metadata": {
        "id": "TmnkcBYRDt82"
      },
      "execution_count": 66,
      "outputs": []
    },
    {
      "cell_type": "code",
      "source": [
        "c1 = Car(\"Swift\", 17)\n",
        "c2 = Car(\"i20\", 14)\n",
        "\n",
        "c1 + c2\n",
        "c1.__add__(c2)"
      ],
      "metadata": {
        "colab": {
          "base_uri": "https://localhost:8080/"
        },
        "id": "AeeiSNbwFY8w",
        "outputId": "c67e495b-ec0d-44a3-cc4d-f4d0ed49b2aa"
      },
      "execution_count": 67,
      "outputs": [
        {
          "output_type": "execute_result",
          "data": {
            "text/plain": [
              "31"
            ]
          },
          "metadata": {},
          "execution_count": 67
        }
      ]
    },
    {
      "cell_type": "code",
      "source": [],
      "metadata": {
        "id": "Rm8mTv_6Fgqi"
      },
      "execution_count": null,
      "outputs": []
    }
  ]
}