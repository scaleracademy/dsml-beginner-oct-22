{
  "nbformat": 4,
  "nbformat_minor": 0,
  "metadata": {
    "colab": {
      "provenance": [],
      "authorship_tag": "ABX9TyNE1Mg8I65Vn4T1znyFTbXG",
      "include_colab_link": true
    },
    "kernelspec": {
      "name": "python3",
      "display_name": "Python 3"
    },
    "language_info": {
      "name": "python"
    }
  },
  "cells": [
    {
      "cell_type": "markdown",
      "metadata": {
        "id": "view-in-github",
        "colab_type": "text"
      },
      "source": [
        "<a href=\"https://colab.research.google.com/github/scaleracademy/dsml-beginner-oct-22/blob/main/Problem_Solving_2.ipynb\" target=\"_parent\"><img src=\"https://colab.research.google.com/assets/colab-badge.svg\" alt=\"Open In Colab\"/></a>"
      ]
    },
    {
      "cell_type": "markdown",
      "source": [
        "# Class will start 9:05PM\n",
        "Since this is a doubt/problem solving please curate your doubts in the questions tab."
      ],
      "metadata": {
        "id": "hKV3CEAtSfE8"
      }
    },
    {
      "cell_type": "code",
      "execution_count": 1,
      "metadata": {
        "colab": {
          "base_uri": "https://localhost:8080/"
        },
        "id": "ebEsaVJSSbH1",
        "outputId": "23fbc29e-ed84-4a84-fae1-778ff85d3c16"
      },
      "outputs": [
        {
          "output_type": "execute_result",
          "data": {
            "text/plain": [
              "3"
            ]
          },
          "metadata": {},
          "execution_count": 1
        }
      ],
      "source": [
        "a = \"abchixyzhidefhi\"\n",
        "a.find(\"hi\")"
      ]
    },
    {
      "cell_type": "code",
      "source": [
        "b = \"abcdef\"\n",
        "b.find(\"hi\")"
      ],
      "metadata": {
        "colab": {
          "base_uri": "https://localhost:8080/"
        },
        "id": "X4MU3AfyaI_4",
        "outputId": "519b303b-0d7f-4713-a06b-39c52231ceab"
      },
      "execution_count": 2,
      "outputs": [
        {
          "output_type": "execute_result",
          "data": {
            "text/plain": [
              "-1"
            ]
          },
          "metadata": {},
          "execution_count": 2
        }
      ]
    },
    {
      "cell_type": "code",
      "source": [
        "a = \"abchixyzhidefhialskdjflkjahialksdjflkdsajfhi\"\n",
        "def solve(s):\n",
        "  idx = s.find(\"hi\")\n",
        "\n",
        "  if idx == -1:\n",
        "    return 0\n",
        "\n",
        "  return 1 + solve(s[idx+1:])"
      ],
      "metadata": {
        "id": "VsmI8z12aR2Z"
      },
      "execution_count": 7,
      "outputs": []
    },
    {
      "cell_type": "code",
      "source": [
        "solve(a)"
      ],
      "metadata": {
        "colab": {
          "base_uri": "https://localhost:8080/"
        },
        "id": "cM14ShLccN0F",
        "outputId": "f3dfe0f3-fdb7-4a47-e939-d21d891c4f7c"
      },
      "execution_count": 8,
      "outputs": [
        {
          "output_type": "execute_result",
          "data": {
            "text/plain": [
              "5"
            ]
          },
          "metadata": {},
          "execution_count": 8
        }
      ]
    },
    {
      "cell_type": "markdown",
      "source": [
        "```\n",
        "What would be the maximum number of comparisons in the 3rd iteration of Insertion sort? \n",
        "\n",
        "The first iteration starts with the element with index = 1. Note: n is the number of elements.\n",
        "```"
      ],
      "metadata": {
        "id": "7QnjlVaOdc15"
      }
    },
    {
      "cell_type": "code",
      "source": [],
      "metadata": {
        "id": "ucQ0O9yBdcqP"
      },
      "execution_count": null,
      "outputs": []
    },
    {
      "cell_type": "markdown",
      "source": [
        "```\n",
        "Given an array A, check if it is sorted in non decreasing order or not.\n",
        "```"
      ],
      "metadata": {
        "id": "W3khrUaqjBXO"
      }
    },
    {
      "cell_type": "code",
      "source": [
        "arr = [1, 2, 3, 4, 5, 6, 7, 8]"
      ],
      "metadata": {
        "id": "NImz4REQcOdT"
      },
      "execution_count": 9,
      "outputs": []
    },
    {
      "cell_type": "code",
      "source": [
        "def solve(arr):\n",
        "  n = len(arr)\n",
        "\n",
        "  for i in range(n-1):\n",
        "    if arr[i] > arr[i+1]:\n",
        "      return False\n",
        "  \n",
        "  return True"
      ],
      "metadata": {
        "id": "KcVBLc6ojDnQ"
      },
      "execution_count": 10,
      "outputs": []
    },
    {
      "cell_type": "code",
      "source": [
        "solve(arr)"
      ],
      "metadata": {
        "colab": {
          "base_uri": "https://localhost:8080/"
        },
        "id": "AwTRgJJJjiJ9",
        "outputId": "1c10112b-3138-4ece-82df-e227fd9d97c7"
      },
      "execution_count": 11,
      "outputs": [
        {
          "output_type": "execute_result",
          "data": {
            "text/plain": [
              "True"
            ]
          },
          "metadata": {},
          "execution_count": 11
        }
      ]
    },
    {
      "cell_type": "code",
      "source": [
        "arr2 = [1, 2, 3, 2, 4, 5, 6]\n",
        "solve(arr2)"
      ],
      "metadata": {
        "colab": {
          "base_uri": "https://localhost:8080/"
        },
        "id": "FuCOcPbrji7p",
        "outputId": "47c1fe0d-4655-407f-ff2a-1db328abbb83"
      },
      "execution_count": 12,
      "outputs": [
        {
          "output_type": "execute_result",
          "data": {
            "text/plain": [
              "False"
            ]
          },
          "metadata": {},
          "execution_count": 12
        }
      ]
    },
    {
      "cell_type": "code",
      "source": [
        "def factorial(n):\n",
        "  if n == 1 or n == 0:\n",
        "    return 1\n",
        "\n",
        "  return n * factorial(n-1)"
      ],
      "metadata": {
        "id": "Ju7yuuoXjnXy"
      },
      "execution_count": null,
      "outputs": []
    },
    {
      "cell_type": "markdown",
      "source": [
        "```\n",
        "Given a list [10, 8, 12, 3, 1], \n",
        "what will be the total cost for the first 3 iterations of insertion sort, \n",
        "considering the fact that the cost of an insertion operation is 50 rupees?\n",
        "```"
      ],
      "metadata": {
        "id": "qyWI2CZ5lAok"
      }
    },
    {
      "cell_type": "code",
      "source": [],
      "metadata": {
        "id": "33wUjG8xlDxf"
      },
      "execution_count": null,
      "outputs": []
    },
    {
      "cell_type": "markdown",
      "source": [
        "```\n",
        "(4k^2-k)/2\n",
        "(2kn-k^2-k)/2\n",
        "(2kn-k^2+k)/3\n",
        "(2kn+k^2-k)/2\n",
        "```"
      ],
      "metadata": {
        "id": "KmXTjzYgogFS"
      }
    },
    {
      "cell_type": "code",
      "source": [
        "n = 10\n",
        "i,j,k,p = 0\n",
        "for i in range(n): # n\n",
        "  p = 0\n",
        "  j = n\n",
        "  while(j>1): # log(n)\n",
        "    p+=1\n",
        "    k = 1\n",
        "    while(k<p): # log(log(n))\n",
        "      k *=2\n",
        "    j = j/2"
      ],
      "metadata": {
        "id": "oVOX0aNXog_D"
      },
      "execution_count": null,
      "outputs": []
    },
    {
      "cell_type": "code",
      "source": [
        "for i in range(100):\n",
        "  j = i\n",
        "  while j > 1:\n",
        "    j /= 2"
      ],
      "metadata": {
        "id": "K5Q8aU_0qyr8"
      },
      "execution_count": null,
      "outputs": []
    },
    {
      "cell_type": "markdown",
      "source": [
        "```\n",
        "\n",
        "\n",
        "```"
      ],
      "metadata": {
        "id": "rVuwzsohr7EH"
      }
    },
    {
      "cell_type": "code",
      "source": [
        "def f():\n",
        "  ans = 0\n",
        "  for i in range(1,n+1):\n",
        "    for j in range(i,n+1,i):\n",
        "      ans += 1\n",
        "  print(ans)"
      ],
      "metadata": {
        "id": "S-v6fXD6r8F7"
      },
      "execution_count": null,
      "outputs": []
    },
    {
      "cell_type": "code",
      "source": [
        "for i in range(n): # n\n",
        "  for j in range(i,0,-1): # n\n",
        "    if(j>i):\n",
        "      for k in range(n):\n",
        "        print(i,j,k)"
      ],
      "metadata": {
        "id": "87iu7_nHv2ix"
      },
      "execution_count": null,
      "outputs": []
    }
  ]
}