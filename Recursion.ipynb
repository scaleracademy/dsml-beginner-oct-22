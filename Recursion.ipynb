{
  "nbformat": 4,
  "nbformat_minor": 0,
  "metadata": {
    "colab": {
      "provenance": [],
      "authorship_tag": "ABX9TyPuFU6ehoglESxZV90IqG4W",
      "include_colab_link": true
    },
    "kernelspec": {
      "name": "python3",
      "display_name": "Python 3"
    },
    "language_info": {
      "name": "python"
    }
  },
  "cells": [
    {
      "cell_type": "markdown",
      "metadata": {
        "id": "view-in-github",
        "colab_type": "text"
      },
      "source": [
        "<a href=\"https://colab.research.google.com/github/scaleracademy/dsml-beginner-oct-22/blob/main/Recursion.ipynb\" target=\"_parent\"><img src=\"https://colab.research.google.com/assets/colab-badge.svg\" alt=\"Open In Colab\"/></a>"
      ]
    },
    {
      "cell_type": "markdown",
      "source": [
        "1. Class will start STRICTLY at 9:05PM\n",
        "2. If you take a leave, make sure to cover the previous topic\n",
        "3. There will a problem solving class on Tuesday with assignments for topics up until now\n",
        "4. Every topic will repeated at most 3 times\n",
        "    a. Intro\n",
        "    b. Explanation\n",
        "    c. Revision\n",
        "5. Anything outside the above structure will go into Questions tab\n",
        "6. Research is important, will post daily updates, findings and outside syllabus doubts in the Slack Channel"
      ],
      "metadata": {
        "id": "nXIhMFvF0vfr"
      }
    },
    {
      "cell_type": "markdown",
      "source": [
        "## Factorial"
      ],
      "metadata": {
        "id": "bByyyW0x8uH0"
      }
    },
    {
      "cell_type": "code",
      "execution_count": 2,
      "metadata": {
        "id": "SbkV3zpwviQv"
      },
      "outputs": [],
      "source": [
        "def factorial(n):\n",
        "  print(\"executing factorial of\", n)\n",
        "  if n == 1 or n == 0:\n",
        "    return 1\n",
        "\n",
        "  res = n * factorial(n-1)\n",
        "  print(\"completed calculating factorial of\", n)\n",
        "  return res"
      ]
    },
    {
      "cell_type": "code",
      "source": [
        "factorial(5)"
      ],
      "metadata": {
        "colab": {
          "base_uri": "https://localhost:8080/"
        },
        "id": "kTU9b2BC81Au",
        "outputId": "7c8bc64f-07f5-46b4-cc3c-f6b7cbb4a83c"
      },
      "execution_count": 3,
      "outputs": [
        {
          "output_type": "stream",
          "name": "stdout",
          "text": [
            "executing factorial of 5\n",
            "executing factorial of 4\n",
            "executing factorial of 3\n",
            "executing factorial of 2\n",
            "executing factorial of 1\n",
            "completed calculating factorial of 2\n",
            "completed calculating factorial of 3\n",
            "completed calculating factorial of 4\n",
            "completed calculating factorial of 5\n"
          ]
        },
        {
          "output_type": "execute_result",
          "data": {
            "text/plain": [
              "120"
            ]
          },
          "metadata": {},
          "execution_count": 3
        }
      ]
    },
    {
      "cell_type": "code",
      "source": [
        "def merge(arr1, arr2):\n",
        "  i = 0 # iterate over arr1\n",
        "  j = 0 # iterate over arr2\n",
        "  result = []\n",
        "\n",
        "  while i < len(arr1) and j < len(arr2):\n",
        "    if arr1[i] < arr2[j]:\n",
        "      result.append(arr1[i])\n",
        "      i += 1\n",
        "    else:\n",
        "      result.append(arr2[j])\n",
        "      j += 1\n",
        "\n",
        "  if i < len(arr1):\n",
        "    result = result + arr1[i:]\n",
        "\n",
        "  if j < len(arr2):\n",
        "    result = result + arr2[j:]\n",
        "  \n",
        "  return result"
      ],
      "metadata": {
        "id": "GYh89MN89DKD"
      },
      "execution_count": 4,
      "outputs": []
    },
    {
      "cell_type": "code",
      "source": [
        "merge([1, 4, 7, 9], [2, 3, 10, 12])"
      ],
      "metadata": {
        "id": "8L4joPDHJzVo"
      },
      "execution_count": null,
      "outputs": []
    },
    {
      "cell_type": "code",
      "source": [
        "def merge_sort(arr):\n",
        "  n = len(arr)\n",
        "  if n == 1:\n",
        "    return arr\n",
        "\n",
        "  mid = n // 2\n",
        "  \n",
        "  left = merge_sort(arr[:mid])\n",
        "  right = merge_sort(arr[mid:])\n",
        "  return merge(left, right)\n"
      ],
      "metadata": {
        "id": "dKDLKBj9-cFX"
      },
      "execution_count": 5,
      "outputs": []
    },
    {
      "cell_type": "code",
      "source": [
        "merge_sort([5, 2, 6, 1, 7, 8, 3, 4])"
      ],
      "metadata": {
        "colab": {
          "base_uri": "https://localhost:8080/"
        },
        "id": "Ies9HepV_Yw1",
        "outputId": "db463941-7cf0-4790-e80e-52be1f151841"
      },
      "execution_count": 6,
      "outputs": [
        {
          "output_type": "execute_result",
          "data": {
            "text/plain": [
              "[1, 2, 3, 4, 5, 6, 7, 8]"
            ]
          },
          "metadata": {},
          "execution_count": 6
        }
      ]
    },
    {
      "cell_type": "code",
      "source": [
        "def foo(n):\n",
        "  i = n\n",
        "  while i > 1:\n",
        "    i /= 2"
      ],
      "metadata": {
        "id": "EdUKlGlJ_b2e"
      },
      "execution_count": null,
      "outputs": []
    },
    {
      "cell_type": "markdown",
      "source": [
        "### HW: Find the time complexity of Merge Sort using PMI\n",
        "\n",
        "PMI = Principle Mathematical Induction"
      ],
      "metadata": {
        "id": "7fw8-zqsOwz_"
      }
    },
    {
      "cell_type": "code",
      "source": [],
      "metadata": {
        "id": "B9Yc_dyCNzmH"
      },
      "execution_count": null,
      "outputs": []
    }
  ]
}