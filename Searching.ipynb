{
  "nbformat": 4,
  "nbformat_minor": 0,
  "metadata": {
    "colab": {
      "provenance": [],
      "authorship_tag": "ABX9TyMMSYSZJCxNk9LXfzt/12aK",
      "include_colab_link": true
    },
    "kernelspec": {
      "name": "python3",
      "display_name": "Python 3"
    },
    "language_info": {
      "name": "python"
    }
  },
  "cells": [
    {
      "cell_type": "markdown",
      "metadata": {
        "id": "view-in-github",
        "colab_type": "text"
      },
      "source": [
        "<a href=\"https://colab.research.google.com/github/scaleracademy/dsml-beginner-oct-22/blob/main/Searching.ipynb\" target=\"_parent\"><img src=\"https://colab.research.google.com/assets/colab-badge.svg\" alt=\"Open In Colab\"/></a>"
      ]
    },
    {
      "cell_type": "markdown",
      "source": [
        "```\n",
        "fruits = [\"apple\", \"banana\", \"cherry\", \"kiwi\", \"mango\"] \n",
        "1)newlist = [x for x in fruits if x != \"apple\" ] print(newlist) \n",
        "2)newlist = [x if x != \"banana\" else \"orange\" for x in fruits] \n",
        "\n",
        "why in these examples 'if' statements are differently positioned?\n",
        "```"
      ],
      "metadata": {
        "id": "p8ct0cz7b1mK"
      }
    },
    {
      "cell_type": "code",
      "execution_count": 1,
      "metadata": {
        "id": "aWEaicSZYVcO"
      },
      "outputs": [],
      "source": [
        "fruits = [\"apple\", \"banana\", \"cherry\", \"kiwi\", \"mango\"] "
      ]
    },
    {
      "cell_type": "code",
      "source": [
        "newlist = [x for x in fruits if x != \"apple\" ] \n",
        "print(newlist)"
      ],
      "metadata": {
        "colab": {
          "base_uri": "https://localhost:8080/"
        },
        "id": "ruRUM0qqcBu9",
        "outputId": "e51b63a0-513b-4a44-d656-d5ea41b00094"
      },
      "execution_count": 3,
      "outputs": [
        {
          "output_type": "stream",
          "name": "stdout",
          "text": [
            "['banana', 'cherry', 'kiwi', 'mango']\n"
          ]
        }
      ]
    },
    {
      "cell_type": "code",
      "source": [
        "newlist = [x for x in fruits] \n",
        "print(newlist)"
      ],
      "metadata": {
        "id": "2LTGWzJNcrZQ"
      },
      "execution_count": null,
      "outputs": []
    },
    {
      "cell_type": "code",
      "source": [],
      "metadata": {
        "id": "n7CfhDmEcyKf"
      },
      "execution_count": null,
      "outputs": []
    },
    {
      "cell_type": "code",
      "source": [
        "newlist = [x if x != \"banana\" else \"orange\" for x in fruits] \n",
        "print(newlist)"
      ],
      "metadata": {
        "colab": {
          "base_uri": "https://localhost:8080/"
        },
        "id": "hGkbC23WcLr7",
        "outputId": "b86817bb-3728-4c82-e09b-56af72336fbb"
      },
      "execution_count": 4,
      "outputs": [
        {
          "output_type": "stream",
          "name": "stdout",
          "text": [
            "['apple', 'orange', 'cherry', 'kiwi', 'mango']\n"
          ]
        }
      ]
    },
    {
      "cell_type": "markdown",
      "source": [
        "```\n",
        "Question 1 - \n",
        "Given a list of students and a target student.\n",
        "Write a function which prints the index of the target in the list.\n",
        "If target is not present, it should print -1.\n",
        "```"
      ],
      "metadata": {
        "id": "I8_kDpzIkzA8"
      }
    },
    {
      "cell_type": "code",
      "source": [
        "students = [\"Pranav\", \"Sunitha\", \"Kapil\", \"Vishnu\", \"Suraj\", \"Anup\"]"
      ],
      "metadata": {
        "id": "NtrJtGVGd0wf"
      },
      "execution_count": 5,
      "outputs": []
    },
    {
      "cell_type": "markdown",
      "source": [
        "## Linear Search"
      ],
      "metadata": {
        "id": "WWokAW9nlTi2"
      }
    },
    {
      "cell_type": "code",
      "source": [
        "def linear_search(arr, target):\n",
        "  for i in range(len(arr)):\n",
        "    if arr[i] == target:\n",
        "      return i\n",
        "\n",
        "student_to_find = \"Kapil\"\n",
        "print(linear_search(students, student_to_find))"
      ],
      "metadata": {
        "colab": {
          "base_uri": "https://localhost:8080/"
        },
        "id": "cT4qLXtikvHd",
        "outputId": "fef7d8af-28bc-4767-dec6-815583c4bad6"
      },
      "execution_count": 11,
      "outputs": [
        {
          "output_type": "stream",
          "name": "stdout",
          "text": [
            "2\n"
          ]
        }
      ]
    },
    {
      "cell_type": "code",
      "source": [
        "for x in enumerate(students):\n",
        "  print(x)"
      ],
      "metadata": {
        "colab": {
          "base_uri": "https://localhost:8080/"
        },
        "id": "cVAJsCZllFky",
        "outputId": "da5482eb-4690-438e-fc4c-bc1471558e82"
      },
      "execution_count": 12,
      "outputs": [
        {
          "output_type": "stream",
          "name": "stdout",
          "text": [
            "(0, 'Pranav')\n",
            "(1, 'Sunitha')\n",
            "(2, 'Kapil')\n",
            "(3, 'Vishnu')\n",
            "(4, 'Suraj')\n",
            "(5, 'Anup')\n"
          ]
        }
      ]
    },
    {
      "cell_type": "code",
      "source": [
        "def linear_search(arr, target):\n",
        "  for i, val in enumerate(arr):\n",
        "    if val == target:\n",
        "      return i\n",
        "\n",
        "student_to_find = \"Kapil\"\n",
        "print(linear_search(students, student_to_find))"
      ],
      "metadata": {
        "colab": {
          "base_uri": "https://localhost:8080/"
        },
        "id": "75BzxuUNm8u2",
        "outputId": "5ea7ad51-4e64-4589-a044-6095c5585cb5"
      },
      "execution_count": 13,
      "outputs": [
        {
          "output_type": "stream",
          "name": "stdout",
          "text": [
            "2\n"
          ]
        }
      ]
    },
    {
      "cell_type": "markdown",
      "source": [
        "## Binary Search"
      ],
      "metadata": {
        "id": "GrIfjk_6szRN"
      }
    },
    {
      "cell_type": "code",
      "source": [
        "def binary_search(sorted_arr, target):\n",
        "  start = 0\n",
        "  end = len(sorted_arr) - 1\n",
        "  count = 0\n",
        "  while start <= end:\n",
        "    count += 1\n",
        "    print(\"Iteration #\", count)\n",
        "    \n",
        "    mid = (start + end) // 2\n",
        "    if sorted_arr[mid] == target:\n",
        "      return mid\n",
        "    elif target > sorted_arr[mid]:\n",
        "      start = mid + 1\n",
        "    elif target < sorted_arr[mid]:\n",
        "      end = mid - 1\n",
        "\n",
        "  return -1\n",
        "\n",
        "arr = [7, 16, 25, 38, 92, 105, 210, 420]\n",
        "target = 5678\n",
        "print(binary_search(arr, target))"
      ],
      "metadata": {
        "colab": {
          "base_uri": "https://localhost:8080/"
        },
        "id": "Z1QMTU9anICg",
        "outputId": "ca8ab667-eaed-4c23-e7bd-8ab59c77ac57"
      },
      "execution_count": 20,
      "outputs": [
        {
          "output_type": "stream",
          "name": "stdout",
          "text": [
            "Iteration # 1\n",
            "Iteration # 2\n",
            "Iteration # 3\n",
            "Iteration # 4\n",
            "-1\n"
          ]
        }
      ]
    },
    {
      "cell_type": "code",
      "source": [
        "students = sorted([\"Pranav\", \"Sunitha\", \"Kapil\", \"Vishnu\", \"Suraj\", \"Anup\", \"Rhythm\", \"Smit\", \"Jatin\", \"Manjunath\", \"Vijay\"])"
      ],
      "metadata": {
        "id": "qBFw9qNG0LCu"
      },
      "execution_count": 23,
      "outputs": []
    },
    {
      "cell_type": "code",
      "source": [
        "print(students)\n",
        "print(len(students))"
      ],
      "metadata": {
        "colab": {
          "base_uri": "https://localhost:8080/"
        },
        "id": "6vRignKHuwRb",
        "outputId": "4f9e6dc5-d83c-4b65-de8b-2e7fb93ad6f5"
      },
      "execution_count": 24,
      "outputs": [
        {
          "output_type": "stream",
          "name": "stdout",
          "text": [
            "['Anup', 'Jatin', 'Kapil', 'Manjunath', 'Pranav', 'Rhythm', 'Smit', 'Sunitha', 'Suraj', 'Vijay', 'Vishnu']\n",
            "11\n"
          ]
        }
      ]
    },
    {
      "cell_type": "code",
      "source": [
        "binary_search(students, \"Sunitha\")"
      ],
      "metadata": {
        "colab": {
          "base_uri": "https://localhost:8080/"
        },
        "id": "dIgVTqnE0ElE",
        "outputId": "95de5750-2450-480b-a681-62e5087a9724"
      },
      "execution_count": 25,
      "outputs": [
        {
          "output_type": "stream",
          "name": "stdout",
          "text": [
            "Iteration # 1\n",
            "Iteration # 2\n",
            "Iteration # 3\n",
            "Iteration # 4\n"
          ]
        },
        {
          "output_type": "execute_result",
          "data": {
            "text/plain": [
              "7"
            ]
          },
          "metadata": {},
          "execution_count": 25
        }
      ]
    },
    {
      "cell_type": "code",
      "source": [],
      "metadata": {
        "id": "QrDastmX0R9e"
      },
      "execution_count": null,
      "outputs": []
    }
  ]
}