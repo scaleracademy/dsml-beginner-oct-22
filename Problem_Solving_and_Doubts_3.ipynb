{
  "nbformat": 4,
  "nbformat_minor": 0,
  "metadata": {
    "colab": {
      "provenance": [],
      "authorship_tag": "ABX9TyNXN1CzjkClzkBzqamBWonh",
      "include_colab_link": true
    },
    "kernelspec": {
      "name": "python3",
      "display_name": "Python 3"
    },
    "language_info": {
      "name": "python"
    }
  },
  "cells": [
    {
      "cell_type": "markdown",
      "metadata": {
        "id": "view-in-github",
        "colab_type": "text"
      },
      "source": [
        "<a href=\"https://colab.research.google.com/github/scaleracademy/dsml-beginner-oct-22/blob/main/Problem_Solving_and_Doubts_3.ipynb\" target=\"_parent\"><img src=\"https://colab.research.google.com/assets/colab-badge.svg\" alt=\"Open In Colab\"/></a>"
      ]
    },
    {
      "cell_type": "markdown",
      "source": [
        "Take a list of numbers as input and print their squares\n",
        "\n",
        "Sample Input:\n",
        "```\n",
        "1 2 3 4\n",
        "```\n",
        "\n",
        "Sample Output:\n",
        "```\n",
        "1 4 9 16\n",
        "```"
      ],
      "metadata": {
        "id": "zabpb5S0CEaj"
      }
    },
    {
      "cell_type": "code",
      "source": [
        "arr = input().split(\" \")\n",
        "for i in range(len(arr)):\n",
        "  arr[i] = int(arr[i])"
      ],
      "metadata": {
        "colab": {
          "base_uri": "https://localhost:8080/"
        },
        "id": "WFwQYl3h7qGf",
        "outputId": "6c0e4067-ade6-4417-8294-c1c6756a386a"
      },
      "execution_count": 5,
      "outputs": [
        {
          "name": "stdout",
          "output_type": "stream",
          "text": [
            "1 2 3 4\n"
          ]
        }
      ]
    },
    {
      "cell_type": "code",
      "execution_count": 6,
      "metadata": {
        "colab": {
          "base_uri": "https://localhost:8080/"
        },
        "id": "NzZj-Dyy7ipn",
        "outputId": "e5dcabb7-c965-4ae5-c4c0-20a4c6efb6b2"
      },
      "outputs": [
        {
          "output_type": "execute_result",
          "data": {
            "text/plain": [
              "[1, 2, 3, 4]"
            ]
          },
          "metadata": {},
          "execution_count": 6
        }
      ],
      "source": [
        "arr"
      ]
    },
    {
      "cell_type": "code",
      "source": [
        "arr = list(map(int, input().split()))"
      ],
      "metadata": {
        "colab": {
          "base_uri": "https://localhost:8080/"
        },
        "id": "iF3J9rYxChL5",
        "outputId": "5d2b14c1-6a7d-45fc-b819-33cca8425034"
      },
      "execution_count": 12,
      "outputs": [
        {
          "name": "stdout",
          "output_type": "stream",
          "text": [
            "1 2 3 4\n"
          ]
        }
      ]
    },
    {
      "cell_type": "code",
      "source": [
        "for x in arr:\n",
        "  print(x)"
      ],
      "metadata": {
        "colab": {
          "base_uri": "https://localhost:8080/"
        },
        "id": "GbiCMrS6DQZE",
        "outputId": "35d9642b-00f2-4cc0-f0bb-630301f37b87"
      },
      "execution_count": 10,
      "outputs": [
        {
          "output_type": "stream",
          "name": "stdout",
          "text": [
            "1\n",
            "2\n",
            "3\n",
            "4\n"
          ]
        }
      ]
    },
    {
      "cell_type": "code",
      "source": [
        "input().split(\" \")"
      ],
      "metadata": {
        "colab": {
          "base_uri": "https://localhost:8080/"
        },
        "id": "yBKxT2LXDUqU",
        "outputId": "d534637a-18ec-4c95-eaf1-60f05cf802c8"
      },
      "execution_count": 11,
      "outputs": [
        {
          "name": "stdout",
          "output_type": "stream",
          "text": [
            "1 2 3 4\n"
          ]
        },
        {
          "output_type": "execute_result",
          "data": {
            "text/plain": [
              "['1', '2', '3', '4']"
            ]
          },
          "metadata": {},
          "execution_count": 11
        }
      ]
    },
    {
      "cell_type": "code",
      "source": [
        "int(\"abc\")"
      ],
      "metadata": {
        "colab": {
          "base_uri": "https://localhost:8080/",
          "height": 167
        },
        "id": "ZQcdgvnhDmWD",
        "outputId": "62310277-a8c6-4947-ed23-330258145d2c"
      },
      "execution_count": 13,
      "outputs": [
        {
          "output_type": "error",
          "ename": "ValueError",
          "evalue": "ignored",
          "traceback": [
            "\u001b[0;31m---------------------------------------------------------------------------\u001b[0m",
            "\u001b[0;31mValueError\u001b[0m                                Traceback (most recent call last)",
            "\u001b[0;32m<ipython-input-13-2dda1cc00c48>\u001b[0m in \u001b[0;36m<module>\u001b[0;34m\u001b[0m\n\u001b[0;32m----> 1\u001b[0;31m \u001b[0mint\u001b[0m\u001b[0;34m(\u001b[0m\u001b[0;34m\"abc\"\u001b[0m\u001b[0;34m)\u001b[0m\u001b[0;34m\u001b[0m\u001b[0;34m\u001b[0m\u001b[0m\n\u001b[0m",
            "\u001b[0;31mValueError\u001b[0m: invalid literal for int() with base 10: 'abc'"
          ]
        }
      ]
    },
    {
      "cell_type": "code",
      "source": [
        "int(\"1 2 3 4\".replace(\" \", \"\"))"
      ],
      "metadata": {
        "colab": {
          "base_uri": "https://localhost:8080/"
        },
        "id": "TSAk4CpJEQOn",
        "outputId": "3766fad0-d269-462a-8d88-fa811c04e468"
      },
      "execution_count": 15,
      "outputs": [
        {
          "output_type": "execute_result",
          "data": {
            "text/plain": [
              "1234"
            ]
          },
          "metadata": {},
          "execution_count": 15
        }
      ]
    },
    {
      "cell_type": "markdown",
      "source": [
        "```\n",
        "6 5 1 2 3 4 5\n",
        "```"
      ],
      "metadata": {
        "id": "kTLPLnZzFGNl"
      }
    },
    {
      "cell_type": "code",
      "source": [
        "arr = list(map(int, input().split()))"
      ],
      "metadata": {
        "colab": {
          "base_uri": "https://localhost:8080/"
        },
        "id": "nyP3KRxEEb6N",
        "outputId": "2a1bbe8d-a6e4-4191-a6ad-85303a75581e"
      },
      "execution_count": 16,
      "outputs": [
        {
          "name": "stdout",
          "output_type": "stream",
          "text": [
            "6 5 1 2 3 4 5\n"
          ]
        }
      ]
    },
    {
      "cell_type": "code",
      "source": [
        "arr[1:]"
      ],
      "metadata": {
        "colab": {
          "base_uri": "https://localhost:8080/"
        },
        "id": "42YQ4STnFsUr",
        "outputId": "588b8850-b391-46e1-aed2-bbb47ef3da5c"
      },
      "execution_count": 17,
      "outputs": [
        {
          "output_type": "execute_result",
          "data": {
            "text/plain": [
              "[5, 1, 2, 3, 4, 5]"
            ]
          },
          "metadata": {},
          "execution_count": 17
        }
      ]
    },
    {
      "cell_type": "code",
      "source": [
        "input()"
      ],
      "metadata": {
        "colab": {
          "base_uri": "https://localhost:8080/",
          "height": 53
        },
        "id": "sqaA76OxFuWK",
        "outputId": "b87d247f-2773-4cfb-a192-9b0a53bb8344"
      },
      "execution_count": 18,
      "outputs": [
        {
          "name": "stdout",
          "output_type": "stream",
          "text": [
            "123456789987sdfghjkjhgf.     \n"
          ]
        },
        {
          "output_type": "execute_result",
          "data": {
            "text/plain": [
              "'123456789987sdfghjkjhgf.     '"
            ],
            "application/vnd.google.colaboratory.intrinsic+json": {
              "type": "string"
            }
          },
          "metadata": {},
          "execution_count": 18
        }
      ]
    },
    {
      "cell_type": "markdown",
      "source": [
        "```\n",
        "int a;\n",
        "cin >> a;\n",
        "```\n",
        "\n",
        "```\n",
        "1 2 3\n",
        "```\n",
        "\n",
        "```\n",
        "a = 1\n",
        "```"
      ],
      "metadata": {
        "id": "q2TT9vi-GaSp"
      }
    },
    {
      "cell_type": "markdown",
      "source": [
        "```\n",
        "5 1 2 3 4 5\n",
        "```"
      ],
      "metadata": {
        "id": "8aZkmDBtG6Gi"
      }
    },
    {
      "cell_type": "code",
      "source": [
        "a = list(map(int, input().split()))\n",
        "a[1:]"
      ],
      "metadata": {
        "colab": {
          "base_uri": "https://localhost:8080/"
        },
        "id": "8-aKFvtIGQzV",
        "outputId": "19b6d13c-f6bb-4767-d5b6-b3ccf49949fc"
      },
      "execution_count": 20,
      "outputs": [
        {
          "name": "stdout",
          "output_type": "stream",
          "text": [
            "5 1 2 3 4 5\n"
          ]
        },
        {
          "output_type": "execute_result",
          "data": {
            "text/plain": [
              "[1, 2, 3, 4, 5]"
            ]
          },
          "metadata": {},
          "execution_count": 20
        }
      ]
    },
    {
      "cell_type": "markdown",
      "source": [
        "You are given two matrices A & B of equal dimensions and you have to check whether two matrices are equal or not"
      ],
      "metadata": {
        "id": "hn7gmuVmHPjp"
      }
    },
    {
      "cell_type": "code",
      "source": [
        "def solve(A, B): \n",
        "  for i in range(len(A)): \n",
        "    for j in range(len(A[i])):\n",
        "      if A[i][j] != B[i][j]: \n",
        "        return 0\n",
        "  return 1"
      ],
      "metadata": {
        "id": "tHuM4nqsG5Ba"
      },
      "execution_count": 32,
      "outputs": []
    },
    {
      "cell_type": "code",
      "source": [
        "A = [[100, 200, 300], [4, 5, 6], [7, 8, 9456789876543]]\n",
        "B = [[100, 200, 300], [4, 5, 6], [7, 8, 9456789876543]]\n",
        "\n",
        "solve(A, B)"
      ],
      "metadata": {
        "colab": {
          "base_uri": "https://localhost:8080/"
        },
        "id": "bDWfucbyHjlN",
        "outputId": "27632106-1552-4693-8e12-b57790f94aad"
      },
      "execution_count": 26,
      "outputs": [
        {
          "output_type": "execute_result",
          "data": {
            "text/plain": [
              "1"
            ]
          },
          "metadata": {},
          "execution_count": 26
        }
      ]
    },
    {
      "cell_type": "code",
      "source": [
        "A == B"
      ],
      "metadata": {
        "colab": {
          "base_uri": "https://localhost:8080/"
        },
        "id": "HtYFQqBRIMyQ",
        "outputId": "8a4688fe-bd25-4250-b4fb-ba00c583dc84"
      },
      "execution_count": 27,
      "outputs": [
        {
          "output_type": "execute_result",
          "data": {
            "text/plain": [
              "True"
            ]
          },
          "metadata": {},
          "execution_count": 27
        }
      ]
    },
    {
      "cell_type": "markdown",
      "source": [
        "Which of the options are true that define a set s consisting of strings 'Scaler', 'Academy', 'is', 'Awesome'?\n",
        "```\n",
        "s = set(['Scaler', 'Academy', 'is', 'Awesome'])\n",
        "s = set('Scaler', 'Academy', 'is', 'Awesome')\n",
        "s = set('Scaler Academy is Awesome')\n",
        "s ={'Scaler', 'Academy', 'is', 'Awesome'}\n",
        "```"
      ],
      "metadata": {
        "id": "_cG4RHVuI36t"
      }
    },
    {
      "cell_type": "code",
      "source": [
        "set('Scaler', 'Academy', 'is', 'Awesome')"
      ],
      "metadata": {
        "colab": {
          "base_uri": "https://localhost:8080/",
          "height": 167
        },
        "id": "j_ztGsmOIPw7",
        "outputId": "f0c40088-94e3-4d80-a2a6-54f14e85634e"
      },
      "execution_count": 29,
      "outputs": [
        {
          "output_type": "error",
          "ename": "TypeError",
          "evalue": "ignored",
          "traceback": [
            "\u001b[0;31m---------------------------------------------------------------------------\u001b[0m",
            "\u001b[0;31mTypeError\u001b[0m                                 Traceback (most recent call last)",
            "\u001b[0;32m<ipython-input-29-15efa8e64558>\u001b[0m in \u001b[0;36m<module>\u001b[0;34m\u001b[0m\n\u001b[0;32m----> 1\u001b[0;31m \u001b[0mset\u001b[0m\u001b[0;34m(\u001b[0m\u001b[0;34m'Scaler'\u001b[0m\u001b[0;34m,\u001b[0m \u001b[0;34m'Academy'\u001b[0m\u001b[0;34m,\u001b[0m \u001b[0;34m'is'\u001b[0m\u001b[0;34m,\u001b[0m \u001b[0;34m'Awesome'\u001b[0m\u001b[0;34m)\u001b[0m\u001b[0;34m\u001b[0m\u001b[0;34m\u001b[0m\u001b[0m\n\u001b[0m",
            "\u001b[0;31mTypeError\u001b[0m: set expected at most 1 argument, got 4"
          ]
        }
      ]
    },
    {
      "cell_type": "code",
      "source": [
        "set('Scaler Academy is Awesome')"
      ],
      "metadata": {
        "colab": {
          "base_uri": "https://localhost:8080/"
        },
        "id": "48kQ2XG0JCl6",
        "outputId": "1efdc64c-689e-4c01-a1c1-b4e28af7d49f"
      },
      "execution_count": 30,
      "outputs": [
        {
          "output_type": "execute_result",
          "data": {
            "text/plain": [
              "{' ', 'A', 'S', 'a', 'c', 'd', 'e', 'i', 'l', 'm', 'o', 'r', 's', 'w', 'y'}"
            ]
          },
          "metadata": {},
          "execution_count": 30
        }
      ]
    },
    {
      "cell_type": "code",
      "source": [
        "set?"
      ],
      "metadata": {
        "id": "k4NcHpavJI__"
      },
      "execution_count": 31,
      "outputs": []
    },
    {
      "cell_type": "markdown",
      "source": [
        "a=[1,56,6,8,5,65,2145,24,7]\n",
        "1,7,8 in a output-\n",
        "(1, 7, True)"
      ],
      "metadata": {
        "id": "BpLnZRMsK5NF"
      }
    },
    {
      "cell_type": "code",
      "source": [
        "a=[1,56,6,8,5,65,2145,24,7]"
      ],
      "metadata": {
        "id": "QyMVI9rQJYM6"
      },
      "execution_count": 36,
      "outputs": []
    },
    {
      "cell_type": "code",
      "source": [
        "b = [1, 7, 8]"
      ],
      "metadata": {
        "id": "rnWr-27UK6yp"
      },
      "execution_count": 37,
      "outputs": []
    },
    {
      "cell_type": "code",
      "source": [
        "a_set = set(a)\n",
        "for x in b:\n",
        "  if x in a_set:\n",
        "    print(\"True\")\n",
        "  else:\n",
        "    print(\"False\")"
      ],
      "metadata": {
        "colab": {
          "base_uri": "https://localhost:8080/"
        },
        "id": "ljErtiK4K-wP",
        "outputId": "402e6673-e828-4930-99b1-e3f87134aa1e"
      },
      "execution_count": 40,
      "outputs": [
        {
          "output_type": "stream",
          "name": "stdout",
          "text": [
            "True\n",
            "True\n",
            "True\n"
          ]
        }
      ]
    },
    {
      "cell_type": "code",
      "source": [
        "a={1,56,6,8,5,65,2145,24,7}\n",
        "\n",
        "1, 7, 8 in a"
      ],
      "metadata": {
        "colab": {
          "base_uri": "https://localhost:8080/"
        },
        "id": "yQ40uD-sLJXs",
        "outputId": "2eca5c9f-b15d-436f-9ed7-f8e3094d3163"
      },
      "execution_count": 41,
      "outputs": [
        {
          "output_type": "execute_result",
          "data": {
            "text/plain": [
              "(1, 7, True)"
            ]
          },
          "metadata": {},
          "execution_count": 41
        }
      ]
    },
    {
      "cell_type": "code",
      "source": [
        "a = 1, 2, 3 + 6"
      ],
      "metadata": {
        "id": "pfR0__HCLtOh"
      },
      "execution_count": 42,
      "outputs": []
    },
    {
      "cell_type": "code",
      "source": [
        "type(a)"
      ],
      "metadata": {
        "colab": {
          "base_uri": "https://localhost:8080/"
        },
        "id": "-LyyJ3_mL3oK",
        "outputId": "d4947117-792b-46ba-f89f-eb3afa047db7"
      },
      "execution_count": 43,
      "outputs": [
        {
          "output_type": "execute_result",
          "data": {
            "text/plain": [
              "tuple"
            ]
          },
          "metadata": {},
          "execution_count": 43
        }
      ]
    },
    {
      "cell_type": "code",
      "source": [
        "a"
      ],
      "metadata": {
        "colab": {
          "base_uri": "https://localhost:8080/"
        },
        "id": "03kMVQJuL4R0",
        "outputId": "1ad42acf-fc88-4e9f-b42b-c6375e647a28"
      },
      "execution_count": 44,
      "outputs": [
        {
          "output_type": "execute_result",
          "data": {
            "text/plain": [
              "(1, 2, 3)"
            ]
          },
          "metadata": {},
          "execution_count": 44
        }
      ]
    },
    {
      "cell_type": "code",
      "source": [
        "a = 100\n",
        "def foo():\n",
        "  a = 200\n",
        "  def bar():\n",
        "    nonlocal a\n",
        "    a = 300\n",
        "    def baz():\n",
        "      nonlocal a\n",
        "      a = 400\n",
        "      print(a)\n",
        "    baz()\n",
        "    print(a)\n",
        "  bar()\n",
        "  print(a)\n",
        "foo()\n",
        "print(a)"
      ],
      "metadata": {
        "colab": {
          "base_uri": "https://localhost:8080/"
        },
        "id": "mSwSLVxBMOnn",
        "outputId": "0c100916-dca7-4b8b-d5c9-6aa966b6ee71"
      },
      "execution_count": 45,
      "outputs": [
        {
          "output_type": "stream",
          "name": "stdout",
          "text": [
            "400\n",
            "400\n",
            "400\n",
            "100\n"
          ]
        }
      ]
    },
    {
      "cell_type": "markdown",
      "source": [
        "Given an integer array A, find the inverse of the array A and return it. All the elements of the given array are distinct and elements of the array lie in the range [0, |A|).\n",
        "\n",
        "```\n",
        "A = [3, 1, 0, 2]\n",
        "```\n",
        "\n",
        "```\n",
        "2 1 3 0\n",
        "```"
      ],
      "metadata": {
        "id": "-Bu8l1y4Qj7Q"
      }
    },
    {
      "cell_type": "code",
      "source": [],
      "metadata": {
        "id": "IcJzFXiqN_Dd"
      },
      "execution_count": null,
      "outputs": []
    },
    {
      "cell_type": "markdown",
      "source": [
        "```\n",
        "45\n",
        "65\n",
        "78\n",
        "```"
      ],
      "metadata": {
        "id": "4VoTz0HOSSEB"
      }
    },
    {
      "cell_type": "code",
      "source": [
        "input()"
      ],
      "metadata": {
        "colab": {
          "base_uri": "https://localhost:8080/",
          "height": 53
        },
        "id": "t52-v4wQSUV9",
        "outputId": "9646f4d1-83bc-41ab-c7f6-e0d8ed58f715"
      },
      "execution_count": 46,
      "outputs": [
        {
          "name": "stdout",
          "output_type": "stream",
          "text": [
            "45\n"
          ]
        },
        {
          "output_type": "execute_result",
          "data": {
            "text/plain": [
              "'45'"
            ],
            "application/vnd.google.colaboratory.intrinsic+json": {
              "type": "string"
            }
          },
          "metadata": {},
          "execution_count": 46
        }
      ]
    },
    {
      "cell_type": "code",
      "source": [
        "for i in range(3):\n",
        "  a = input()"
      ],
      "metadata": {
        "id": "Hd0Z20AqShoV"
      },
      "execution_count": null,
      "outputs": []
    },
    {
      "cell_type": "markdown",
      "source": [
        "```\n",
        "Write a function to print out the frequency of all the unique elements present in a given tuple. output format is 10 : 3\n",
        "8 : 4\n",
        "5 : 2\n",
        "2 : 2\n",
        "15 : 1 where left side are element and right side is frequency\n",
        "```"
      ],
      "metadata": {
        "id": "jWV3SysES8qC"
      }
    },
    {
      "cell_type": "code",
      "source": [
        "arr = (10, 10, 10, 8, 8, 8, 8, 5, 5, 2, 2, 15)"
      ],
      "metadata": {
        "id": "f6nxjs0WS9ig"
      },
      "execution_count": 48,
      "outputs": []
    },
    {
      "cell_type": "code",
      "source": [
        "ft = {\n",
        "    10: 2\n",
        "}\n",
        "\n",
        "for x in arr:\n",
        "  if x in ft:\n",
        "    ft[x] += 1\n",
        "  else:\n",
        "    ft[x] = 1"
      ],
      "metadata": {
        "id": "X-wxud-DTC5p"
      },
      "execution_count": null,
      "outputs": []
    },
    {
      "cell_type": "code",
      "source": [
        "\"12\".isnumeric()"
      ],
      "metadata": {
        "colab": {
          "base_uri": "https://localhost:8080/"
        },
        "id": "eDcD6vLAWBO2",
        "outputId": "078cdfe6-c7d2-478a-f9ce-7ee2fd06161c"
      },
      "execution_count": 52,
      "outputs": [
        {
          "output_type": "execute_result",
          "data": {
            "text/plain": [
              "False"
            ]
          },
          "metadata": {},
          "execution_count": 52
        }
      ]
    },
    {
      "cell_type": "code",
      "source": [
        "a = \"12qfce3sd353sf3231\"\n",
        "\n",
        "temp = \"\"\n",
        "result = []\n",
        "for char in a + \" \":\n",
        "  if char.isnumeric():\n",
        "    temp += char\n",
        "  elif temp.isnumeric():\n",
        "    result.append(int(temp))\n",
        "    temp = \"\""
      ],
      "metadata": {
        "id": "D2bfhj9lWCWn"
      },
      "execution_count": 55,
      "outputs": []
    },
    {
      "cell_type": "code",
      "source": [
        "result"
      ],
      "metadata": {
        "colab": {
          "base_uri": "https://localhost:8080/"
        },
        "id": "sc6EscHrXAS0",
        "outputId": "22ce5c1a-603d-475c-f298-c3cf7d60ab50"
      },
      "execution_count": 56,
      "outputs": [
        {
          "output_type": "execute_result",
          "data": {
            "text/plain": [
              "[12, 3, 353, 3231]"
            ]
          },
          "metadata": {},
          "execution_count": 56
        }
      ]
    },
    {
      "cell_type": "code",
      "source": [
        "a = {\n",
        "    \"name\": \"scaler\",\n",
        "    \"domain\": \"edtech\",\n",
        "    \"rating\": 100\n",
        "}"
      ],
      "metadata": {
        "id": "C4GslLtDXBOt"
      },
      "execution_count": 57,
      "outputs": []
    },
    {
      "cell_type": "code",
      "source": [
        "for key, value in a.items():\n",
        "  print(key, \"=>\", \"va\")"
      ],
      "metadata": {
        "colab": {
          "base_uri": "https://localhost:8080/"
        },
        "id": "OxiySKGtZ54u",
        "outputId": "3dd1f7c5-ad14-461a-829c-0d30ff50e0a6"
      },
      "execution_count": 61,
      "outputs": [
        {
          "output_type": "stream",
          "name": "stdout",
          "text": [
            "name => scaler\n",
            "domain => edtech\n",
            "rating => 100\n"
          ]
        }
      ]
    },
    {
      "cell_type": "code",
      "source": [],
      "metadata": {
        "id": "WI7I-WdCZ8QY"
      },
      "execution_count": null,
      "outputs": []
    }
  ]
}