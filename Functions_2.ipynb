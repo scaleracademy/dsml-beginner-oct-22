{
  "nbformat": 4,
  "nbformat_minor": 0,
  "metadata": {
    "colab": {
      "provenance": [],
      "authorship_tag": "ABX9TyO18R+1kvS7sPnOZ9V80Acy",
      "include_colab_link": true
    },
    "kernelspec": {
      "name": "python3",
      "display_name": "Python 3"
    },
    "language_info": {
      "name": "python"
    }
  },
  "cells": [
    {
      "cell_type": "markdown",
      "metadata": {
        "id": "view-in-github",
        "colab_type": "text"
      },
      "source": [
        "<a href=\"https://colab.research.google.com/github/scaleracademy/dsml-beginner-oct-22/blob/main/Functions_2.ipynb\" target=\"_parent\"><img src=\"https://colab.research.google.com/assets/colab-badge.svg\" alt=\"Open In Colab\"/></a>"
      ]
    },
    {
      "cell_type": "code",
      "source": [
        "def add(a, b):\n",
        "  s = a + b\n",
        "  return s"
      ],
      "metadata": {
        "id": "uM-A-2-xCqzj"
      },
      "execution_count": 1,
      "outputs": []
    },
    {
      "cell_type": "code",
      "execution_count": null,
      "metadata": {
        "id": "_a7TArszAd8_"
      },
      "outputs": [],
      "source": [
        "add(1, 2)"
      ]
    },
    {
      "cell_type": "code",
      "source": [],
      "metadata": {
        "id": "nO1nLbYoIRXz"
      },
      "execution_count": null,
      "outputs": []
    },
    {
      "cell_type": "code",
      "source": [
        "def foo(a, b, c):\n",
        "  print(a)\n",
        "  print(b)\n",
        "  print(c)"
      ],
      "metadata": {
        "id": "5Z1i20dlIRnP"
      },
      "execution_count": 2,
      "outputs": []
    },
    {
      "cell_type": "code",
      "source": [
        "foo(1, 2, 3)"
      ],
      "metadata": {
        "colab": {
          "base_uri": "https://localhost:8080/"
        },
        "id": "GFPjKkGpIaup",
        "outputId": "c63b3016-cb48-4a41-a21e-b36dc3e5a656"
      },
      "execution_count": 3,
      "outputs": [
        {
          "output_type": "stream",
          "name": "stdout",
          "text": [
            "1\n",
            "2\n",
            "3\n"
          ]
        }
      ]
    },
    {
      "cell_type": "code",
      "source": [
        "foo(1, 2)"
      ],
      "metadata": {
        "colab": {
          "base_uri": "https://localhost:8080/",
          "height": 167
        },
        "id": "tAdtCqFhIicz",
        "outputId": "8be2dae3-7988-41c8-ac23-d498a8b6707c"
      },
      "execution_count": 4,
      "outputs": [
        {
          "output_type": "error",
          "ename": "TypeError",
          "evalue": "ignored",
          "traceback": [
            "\u001b[0;31m---------------------------------------------------------------------------\u001b[0m",
            "\u001b[0;31mTypeError\u001b[0m                                 Traceback (most recent call last)",
            "\u001b[0;32m<ipython-input-4-d3151bdab612>\u001b[0m in \u001b[0;36m<module>\u001b[0;34m\u001b[0m\n\u001b[0;32m----> 1\u001b[0;31m \u001b[0mfoo\u001b[0m\u001b[0;34m(\u001b[0m\u001b[0;36m1\u001b[0m\u001b[0;34m,\u001b[0m \u001b[0;36m2\u001b[0m\u001b[0;34m)\u001b[0m\u001b[0;34m\u001b[0m\u001b[0;34m\u001b[0m\u001b[0m\n\u001b[0m",
            "\u001b[0;31mTypeError\u001b[0m: foo() missing 1 required positional argument: 'c'"
          ]
        }
      ]
    },
    {
      "cell_type": "markdown",
      "source": [
        "default formal argument\n",
        "\n",
        "If `c` is not given an actual argument, it will use `20` as the default value"
      ],
      "metadata": {
        "id": "1MCrDLZSI2g9"
      }
    },
    {
      "cell_type": "code",
      "source": [
        "def foo(a, b, c = 20):\n",
        "  print(a)\n",
        "  print(b)\n",
        "  print(c)"
      ],
      "metadata": {
        "id": "cam2YjIVIqLN"
      },
      "execution_count": 6,
      "outputs": []
    },
    {
      "cell_type": "code",
      "source": [
        "foo(1, 2, 3)"
      ],
      "metadata": {
        "colab": {
          "base_uri": "https://localhost:8080/"
        },
        "id": "2b5ZMR_QI_dc",
        "outputId": "a9055904-89fa-463e-b740-ca36df5816b2"
      },
      "execution_count": 7,
      "outputs": [
        {
          "output_type": "stream",
          "name": "stdout",
          "text": [
            "1\n",
            "2\n",
            "3\n"
          ]
        }
      ]
    },
    {
      "cell_type": "code",
      "source": [
        "foo(1)"
      ],
      "metadata": {
        "colab": {
          "base_uri": "https://localhost:8080/"
        },
        "id": "I53IWT8_JXAV",
        "outputId": "b4cf3d31-d520-46c3-ed56-c7114ca50521"
      },
      "execution_count": 8,
      "outputs": [
        {
          "output_type": "stream",
          "name": "stdout",
          "text": [
            "1\n",
            "2\n",
            "20\n"
          ]
        }
      ]
    },
    {
      "cell_type": "markdown",
      "source": [
        "keyworded actual arguments"
      ],
      "metadata": {
        "id": "Fsookd0RJ1B-"
      }
    },
    {
      "cell_type": "code",
      "source": [
        "def foo(a, b, c):\n",
        "  print(a)\n",
        "  print(b)\n",
        "  print(c)"
      ],
      "metadata": {
        "id": "jpBaJX5qJclF"
      },
      "execution_count": 10,
      "outputs": []
    },
    {
      "cell_type": "code",
      "source": [
        "foo(b = 2, a = 1, c = 3)"
      ],
      "metadata": {
        "colab": {
          "base_uri": "https://localhost:8080/"
        },
        "id": "1wAk70dNJ43j",
        "outputId": "8d5b7999-3247-4f9a-9ed9-b17f2c87590e"
      },
      "execution_count": 11,
      "outputs": [
        {
          "output_type": "stream",
          "name": "stdout",
          "text": [
            "1\n",
            "2\n",
            "3\n"
          ]
        }
      ]
    },
    {
      "cell_type": "code",
      "source": [
        "def car(engine = \"ddis\", brand = \"Maruti\", transmission = \"manual\"):\n",
        "  print(engine)\n",
        "  print(brand)\n",
        "  print(transmission)"
      ],
      "metadata": {
        "id": "gL4PIDB8LHEX"
      },
      "execution_count": 13,
      "outputs": []
    },
    {
      "cell_type": "code",
      "source": [
        "car()"
      ],
      "metadata": {
        "colab": {
          "base_uri": "https://localhost:8080/"
        },
        "id": "hojACti3LTJP",
        "outputId": "ce043c31-8a85-4777-b0a5-dcc5633967ef"
      },
      "execution_count": 14,
      "outputs": [
        {
          "output_type": "stream",
          "name": "stdout",
          "text": [
            "ddis\n",
            "Maruti\n",
            "manual\n"
          ]
        }
      ]
    },
    {
      "cell_type": "code",
      "source": [
        "car(transmission = \"automatic\")"
      ],
      "metadata": {
        "colab": {
          "base_uri": "https://localhost:8080/"
        },
        "id": "xeOJpPwuLjPr",
        "outputId": "9cf46246-8fed-4033-ed3e-66e6ab5259c8"
      },
      "execution_count": 15,
      "outputs": [
        {
          "output_type": "stream",
          "name": "stdout",
          "text": [
            "ddis\n",
            "Maruti\n",
            "automatic\n"
          ]
        }
      ]
    },
    {
      "cell_type": "code",
      "source": [
        "print(\"Hello\", end = \"\")\n",
        "print(\"World\")"
      ],
      "metadata": {
        "colab": {
          "base_uri": "https://localhost:8080/"
        },
        "id": "zbPvkF2rLmXu",
        "outputId": "99275054-3501-4858-8ac1-d833c1a84683"
      },
      "execution_count": 16,
      "outputs": [
        {
          "output_type": "stream",
          "name": "stdout",
          "text": [
            "HelloWorld\n"
          ]
        }
      ]
    },
    {
      "cell_type": "code",
      "source": [
        "print()"
      ],
      "metadata": {
        "colab": {
          "base_uri": "https://localhost:8080/"
        },
        "id": "LL420gixMwPs",
        "outputId": "4bff56ff-388f-452c-f320-7065d727955c"
      },
      "execution_count": 17,
      "outputs": [
        {
          "output_type": "stream",
          "name": "stdout",
          "text": [
            "\n"
          ]
        }
      ]
    },
    {
      "cell_type": "code",
      "source": [
        "print(1, 2, 3, 4, 5, 6, 7, 8, 9, 10)"
      ],
      "metadata": {
        "colab": {
          "base_uri": "https://localhost:8080/"
        },
        "id": "mGcRpeTWM2RO",
        "outputId": "65c5b4ac-52ad-43f0-d7ac-7ea5c66a9e06"
      },
      "execution_count": 18,
      "outputs": [
        {
          "output_type": "stream",
          "name": "stdout",
          "text": [
            "1 2 3 4 5 6 7 8 9 10\n"
          ]
        }
      ]
    },
    {
      "cell_type": "markdown",
      "source": [
        "packing positional arguments (*args)"
      ],
      "metadata": {
        "id": "37oJcQ2nNBYS"
      }
    },
    {
      "cell_type": "code",
      "source": [
        "def foo(a, *b):\n",
        "  print(a)\n",
        "  print(b)\n",
        "  print(type(b))"
      ],
      "metadata": {
        "id": "WWX2cG-GM8yu"
      },
      "execution_count": 20,
      "outputs": []
    },
    {
      "cell_type": "code",
      "source": [
        "foo(1, 2, 3, 4, 5)"
      ],
      "metadata": {
        "colab": {
          "base_uri": "https://localhost:8080/"
        },
        "id": "98lq_k08NNWW",
        "outputId": "a4331189-d70e-4e91-914f-e3b434044025"
      },
      "execution_count": 21,
      "outputs": [
        {
          "output_type": "stream",
          "name": "stdout",
          "text": [
            "1\n",
            "(2, 3, 4, 5)\n",
            "<class 'tuple'>\n"
          ]
        }
      ]
    },
    {
      "cell_type": "code",
      "source": [
        "def foo(a, *b, c):\n",
        "  print(a)\n",
        "  print(b)\n",
        "  print(c)"
      ],
      "metadata": {
        "id": "Y-ymbHbUNUkS"
      },
      "execution_count": 22,
      "outputs": []
    },
    {
      "cell_type": "code",
      "source": [
        "foo(1, 2, 3, 4, 5, 6, 7)"
      ],
      "metadata": {
        "colab": {
          "base_uri": "https://localhost:8080/",
          "height": 167
        },
        "id": "d483lU0zNdBa",
        "outputId": "816e36aa-7a27-4549-d1b6-bdbe49b80c72"
      },
      "execution_count": 23,
      "outputs": [
        {
          "output_type": "error",
          "ename": "TypeError",
          "evalue": "ignored",
          "traceback": [
            "\u001b[0;31m---------------------------------------------------------------------------\u001b[0m",
            "\u001b[0;31mTypeError\u001b[0m                                 Traceback (most recent call last)",
            "\u001b[0;32m<ipython-input-23-0e89dd68111f>\u001b[0m in \u001b[0;36m<module>\u001b[0;34m\u001b[0m\n\u001b[0;32m----> 1\u001b[0;31m \u001b[0mfoo\u001b[0m\u001b[0;34m(\u001b[0m\u001b[0;36m1\u001b[0m\u001b[0;34m,\u001b[0m \u001b[0;36m2\u001b[0m\u001b[0;34m,\u001b[0m \u001b[0;36m3\u001b[0m\u001b[0;34m,\u001b[0m \u001b[0;36m4\u001b[0m\u001b[0;34m,\u001b[0m \u001b[0;36m5\u001b[0m\u001b[0;34m,\u001b[0m \u001b[0;36m6\u001b[0m\u001b[0;34m,\u001b[0m \u001b[0;36m7\u001b[0m\u001b[0;34m)\u001b[0m\u001b[0;34m\u001b[0m\u001b[0;34m\u001b[0m\u001b[0m\n\u001b[0m",
            "\u001b[0;31mTypeError\u001b[0m: foo() missing 1 required keyword-only argument: 'c'"
          ]
        }
      ]
    },
    {
      "cell_type": "code",
      "source": [
        "foo(1, 2, 3, 4, 5, 6, c = 7)"
      ],
      "metadata": {
        "id": "1AzF63biNrsD"
      },
      "execution_count": null,
      "outputs": []
    },
    {
      "cell_type": "code",
      "source": [
        "def foo(*a):\n",
        "  print(a)"
      ],
      "metadata": {
        "id": "abCaROyiOFPe"
      },
      "execution_count": 24,
      "outputs": []
    },
    {
      "cell_type": "code",
      "source": [
        "foo(1, 2, 3, 4)"
      ],
      "metadata": {
        "colab": {
          "base_uri": "https://localhost:8080/"
        },
        "id": "cAtkb-s7OGhS",
        "outputId": "800fca90-72e9-408b-f6fe-b8c5f10bd11e"
      },
      "execution_count": 25,
      "outputs": [
        {
          "output_type": "stream",
          "name": "stdout",
          "text": [
            "(1, 2, 3, 4)\n"
          ]
        }
      ]
    },
    {
      "cell_type": "code",
      "source": [
        "foo()"
      ],
      "metadata": {
        "colab": {
          "base_uri": "https://localhost:8080/"
        },
        "id": "uCzKnoKeOIVP",
        "outputId": "24d53067-4f95-4dbc-ab99-cf799ca1de21"
      },
      "execution_count": 26,
      "outputs": [
        {
          "output_type": "stream",
          "name": "stdout",
          "text": [
            "()\n"
          ]
        }
      ]
    },
    {
      "cell_type": "code",
      "source": [
        "def foo(a, *b, c = 20):\n",
        "  print(a)\n",
        "  print(b)\n",
        "  print(c)"
      ],
      "metadata": {
        "id": "s3-x4wOvOI27"
      },
      "execution_count": 29,
      "outputs": []
    },
    {
      "cell_type": "code",
      "source": [
        "foo(1, 2, 3, 4, 5)"
      ],
      "metadata": {
        "colab": {
          "base_uri": "https://localhost:8080/"
        },
        "id": "kFW8IWMMOOCO",
        "outputId": "2a0608af-609b-4051-cb86-be0239bab18e"
      },
      "execution_count": 30,
      "outputs": [
        {
          "output_type": "stream",
          "name": "stdout",
          "text": [
            "1\n",
            "(2, 3, 4, 5)\n",
            "20\n"
          ]
        }
      ]
    },
    {
      "cell_type": "code",
      "source": [
        "foo(1, 2, 3, 4, c = 5)"
      ],
      "metadata": {
        "colab": {
          "base_uri": "https://localhost:8080/"
        },
        "id": "WowQMgYlOP3w",
        "outputId": "e7d2bdc2-e3dc-4116-dfef-667891fa47ea"
      },
      "execution_count": 31,
      "outputs": [
        {
          "output_type": "stream",
          "name": "stdout",
          "text": [
            "1\n",
            "(2, 3, 4)\n",
            "5\n"
          ]
        }
      ]
    },
    {
      "cell_type": "markdown",
      "source": [
        "packing keyworded arguments(**kwargs)"
      ],
      "metadata": {
        "id": "WEw1CxcsPM8h"
      }
    },
    {
      "cell_type": "code",
      "source": [
        "def foo(a, b, **c):\n",
        "  print(a)\n",
        "  print(b)\n",
        "  print(c)\n",
        "  print(c[\"name\"])\n",
        "  print(type(c))"
      ],
      "metadata": {
        "id": "-NL5ERtIOW9z"
      },
      "execution_count": 35,
      "outputs": []
    },
    {
      "cell_type": "code",
      "source": [
        "foo(b = 2, a = 1, name = \"jatin\", company = \"scaler\")"
      ],
      "metadata": {
        "colab": {
          "base_uri": "https://localhost:8080/"
        },
        "id": "od9DZGwdPZWY",
        "outputId": "20414bb1-ea20-4b2c-e5ce-9120597eaf5c"
      },
      "execution_count": 36,
      "outputs": [
        {
          "output_type": "stream",
          "name": "stdout",
          "text": [
            "1\n",
            "2\n",
            "{'name': 'jatin', 'company': 'scaler'}\n",
            "jatin\n",
            "<class 'dict'>\n"
          ]
        }
      ]
    },
    {
      "cell_type": "code",
      "source": [
        "def foo(a, b, **kwargs):\n",
        "  print(a)\n",
        "  print(b)\n",
        "  print(kwargs)"
      ],
      "metadata": {
        "id": "3qFTDSMKPl-9"
      },
      "execution_count": 37,
      "outputs": []
    },
    {
      "cell_type": "code",
      "source": [
        "foo(1, 2)"
      ],
      "metadata": {
        "colab": {
          "base_uri": "https://localhost:8080/"
        },
        "id": "TtTOjnXZQEzA",
        "outputId": "597d1548-4d6d-426c-f5a7-689dec50d210"
      },
      "execution_count": 38,
      "outputs": [
        {
          "output_type": "stream",
          "name": "stdout",
          "text": [
            "1\n",
            "2\n",
            "{}\n"
          ]
        }
      ]
    },
    {
      "cell_type": "markdown",
      "source": [
        "Order of definition of formal arguments"
      ],
      "metadata": {
        "id": "_h053UFRQVq1"
      }
    },
    {
      "cell_type": "code",
      "source": [
        "def foo(a, b = 1, *args, c, d = 2, **kwargs):\n",
        "  print(a)\n",
        "  print(b)\n",
        "  print(args)\n",
        "  print(c)\n",
        "  print(d)\n",
        "  print(kwargs)"
      ],
      "metadata": {
        "id": "NxmtOnKoQFTy"
      },
      "execution_count": null,
      "outputs": []
    },
    {
      "cell_type": "markdown",
      "source": [
        "Returning multiple values"
      ],
      "metadata": {
        "id": "ZPm3NhHZSGcJ"
      }
    },
    {
      "cell_type": "code",
      "source": [
        "def foo(a, b):\n",
        "  return a**2, b**2"
      ],
      "metadata": {
        "id": "CGYMEeDRSQji"
      },
      "execution_count": 39,
      "outputs": []
    },
    {
      "cell_type": "code",
      "source": [
        "x = foo(2, 3)"
      ],
      "metadata": {
        "id": "J31-ZzjtSZUL"
      },
      "execution_count": 40,
      "outputs": []
    },
    {
      "cell_type": "code",
      "source": [
        "type(x)"
      ],
      "metadata": {
        "colab": {
          "base_uri": "https://localhost:8080/"
        },
        "id": "WGdAs9giSh9_",
        "outputId": "14af143f-36c0-4fb5-ba03-e1b3302cb1bc"
      },
      "execution_count": 41,
      "outputs": [
        {
          "output_type": "execute_result",
          "data": {
            "text/plain": [
              "tuple"
            ]
          },
          "metadata": {},
          "execution_count": 41
        }
      ]
    },
    {
      "cell_type": "code",
      "source": [
        "x = 3, 4, 5"
      ],
      "metadata": {
        "id": "mc2l8UeESnPP"
      },
      "execution_count": 42,
      "outputs": []
    },
    {
      "cell_type": "code",
      "source": [
        "type(x)"
      ],
      "metadata": {
        "colab": {
          "base_uri": "https://localhost:8080/"
        },
        "id": "d-AYlFpYSr1g",
        "outputId": "1a3cb2d1-362d-4814-e167-ac31f6c9820c"
      },
      "execution_count": 43,
      "outputs": [
        {
          "output_type": "execute_result",
          "data": {
            "text/plain": [
              "tuple"
            ]
          },
          "metadata": {},
          "execution_count": 43
        }
      ]
    },
    {
      "cell_type": "code",
      "source": [
        "x, y = foo(5, 6)"
      ],
      "metadata": {
        "id": "yYiQgE3ISsbi"
      },
      "execution_count": 44,
      "outputs": []
    },
    {
      "cell_type": "code",
      "source": [
        "print(y)"
      ],
      "metadata": {
        "colab": {
          "base_uri": "https://localhost:8080/"
        },
        "id": "rLIQkmLBS1nK",
        "outputId": "77262042-9cf7-47f3-be7c-56fe53bd1963"
      },
      "execution_count": 46,
      "outputs": [
        {
          "output_type": "stream",
          "name": "stdout",
          "text": [
            "36\n"
          ]
        }
      ]
    },
    {
      "cell_type": "markdown",
      "source": [
        "unpacking"
      ],
      "metadata": {
        "id": "SAtIJdQ2TKfW"
      }
    },
    {
      "cell_type": "code",
      "source": [
        "a = 1, 2, 3"
      ],
      "metadata": {
        "id": "8jCoXWsBTMHR"
      },
      "execution_count": 47,
      "outputs": []
    },
    {
      "cell_type": "code",
      "source": [
        "type(a)"
      ],
      "metadata": {
        "colab": {
          "base_uri": "https://localhost:8080/"
        },
        "id": "qE9_f_RRTL6T",
        "outputId": "610ee13f-c7d8-4cb7-f991-b2595c5a5020"
      },
      "execution_count": 48,
      "outputs": [
        {
          "output_type": "execute_result",
          "data": {
            "text/plain": [
              "tuple"
            ]
          },
          "metadata": {},
          "execution_count": 48
        }
      ]
    },
    {
      "cell_type": "code",
      "source": [
        "x, y, z = a"
      ],
      "metadata": {
        "id": "W8eYljpUTPiY"
      },
      "execution_count": 49,
      "outputs": []
    },
    {
      "cell_type": "code",
      "source": [
        "print(x)"
      ],
      "metadata": {
        "colab": {
          "base_uri": "https://localhost:8080/"
        },
        "id": "YONBRgsMTZ0L",
        "outputId": "16af01d4-0dac-4e9a-802d-72fdf71d75a6"
      },
      "execution_count": 50,
      "outputs": [
        {
          "output_type": "stream",
          "name": "stdout",
          "text": [
            "1\n"
          ]
        }
      ]
    },
    {
      "cell_type": "code",
      "source": [
        "print(y)"
      ],
      "metadata": {
        "colab": {
          "base_uri": "https://localhost:8080/"
        },
        "id": "eJWUkxV8TbLY",
        "outputId": "4cd4c9e4-8952-45f6-de04-cfcc46a9bf47"
      },
      "execution_count": 51,
      "outputs": [
        {
          "output_type": "stream",
          "name": "stdout",
          "text": [
            "2\n"
          ]
        }
      ]
    },
    {
      "cell_type": "code",
      "source": [
        "print(z)"
      ],
      "metadata": {
        "colab": {
          "base_uri": "https://localhost:8080/"
        },
        "id": "lBVfuHwrTciy",
        "outputId": "332a2287-df4e-4ef7-dd47-8babf4038f1c"
      },
      "execution_count": 52,
      "outputs": [
        {
          "output_type": "stream",
          "name": "stdout",
          "text": [
            "3\n"
          ]
        }
      ]
    },
    {
      "cell_type": "code",
      "source": [
        "x, y, z = (1, 2, 3, 4)"
      ],
      "metadata": {
        "colab": {
          "base_uri": "https://localhost:8080/",
          "height": 167
        },
        "id": "fAXwlcDYTiqz",
        "outputId": "4ad0c777-6361-442b-f41b-59442f4ebb2e"
      },
      "execution_count": 54,
      "outputs": [
        {
          "output_type": "error",
          "ename": "ValueError",
          "evalue": "ignored",
          "traceback": [
            "\u001b[0;31m---------------------------------------------------------------------------\u001b[0m",
            "\u001b[0;31mValueError\u001b[0m                                Traceback (most recent call last)",
            "\u001b[0;32m<ipython-input-54-751b9158939d>\u001b[0m in \u001b[0;36m<module>\u001b[0;34m\u001b[0m\n\u001b[0;32m----> 1\u001b[0;31m \u001b[0mx\u001b[0m\u001b[0;34m,\u001b[0m \u001b[0my\u001b[0m\u001b[0;34m,\u001b[0m \u001b[0mz\u001b[0m \u001b[0;34m=\u001b[0m \u001b[0;34m(\u001b[0m\u001b[0;36m1\u001b[0m\u001b[0;34m,\u001b[0m \u001b[0;36m2\u001b[0m\u001b[0;34m,\u001b[0m \u001b[0;36m3\u001b[0m\u001b[0;34m,\u001b[0m \u001b[0;36m4\u001b[0m\u001b[0;34m)\u001b[0m\u001b[0;34m\u001b[0m\u001b[0;34m\u001b[0m\u001b[0m\n\u001b[0m",
            "\u001b[0;31mValueError\u001b[0m: too many values to unpack (expected 3)"
          ]
        }
      ]
    },
    {
      "cell_type": "code",
      "source": [
        "def foo(a, b):\n",
        "  return a**2, b**2\n",
        "  \n",
        "x, y, z = foo(5, 6)\n",
        "print(z)"
      ],
      "metadata": {
        "colab": {
          "base_uri": "https://localhost:8080/",
          "height": 185
        },
        "id": "nYWAMGuWS7bl",
        "outputId": "f4ebcb40-974b-4c24-d8a5-fae67d135410"
      },
      "execution_count": 55,
      "outputs": [
        {
          "output_type": "error",
          "ename": "ValueError",
          "evalue": "ignored",
          "traceback": [
            "\u001b[0;31m---------------------------------------------------------------------------\u001b[0m",
            "\u001b[0;31mValueError\u001b[0m                                Traceback (most recent call last)",
            "\u001b[0;32m<ipython-input-55-3e8eb3033630>\u001b[0m in \u001b[0;36m<module>\u001b[0;34m\u001b[0m\n\u001b[0;32m----> 1\u001b[0;31m \u001b[0mx\u001b[0m\u001b[0;34m,\u001b[0m \u001b[0my\u001b[0m\u001b[0;34m,\u001b[0m \u001b[0mz\u001b[0m \u001b[0;34m=\u001b[0m \u001b[0mfoo\u001b[0m\u001b[0;34m(\u001b[0m\u001b[0;36m5\u001b[0m\u001b[0;34m,\u001b[0m \u001b[0;36m6\u001b[0m\u001b[0;34m)\u001b[0m\u001b[0;34m\u001b[0m\u001b[0;34m\u001b[0m\u001b[0m\n\u001b[0m\u001b[1;32m      2\u001b[0m \u001b[0mprint\u001b[0m\u001b[0;34m(\u001b[0m\u001b[0mz\u001b[0m\u001b[0;34m)\u001b[0m\u001b[0;34m\u001b[0m\u001b[0;34m\u001b[0m\u001b[0m\n",
            "\u001b[0;31mValueError\u001b[0m: not enough values to unpack (expected 3, got 2)"
          ]
        }
      ]
    },
    {
      "cell_type": "code",
      "source": [
        "def foo():\n",
        "  return 1\n",
        "  return 2"
      ],
      "metadata": {
        "id": "sEiQ8H6pT8Jb"
      },
      "execution_count": 57,
      "outputs": []
    },
    {
      "cell_type": "code",
      "source": [
        "print(foo())"
      ],
      "metadata": {
        "colab": {
          "base_uri": "https://localhost:8080/"
        },
        "id": "wGSStZN9UVI7",
        "outputId": "8e982fba-a045-4555-b29e-74c71e712930"
      },
      "execution_count": 58,
      "outputs": [
        {
          "output_type": "stream",
          "name": "stdout",
          "text": [
            "1\n"
          ]
        }
      ]
    },
    {
      "cell_type": "code",
      "source": [
        "a = 5\n",
        "b = 9\n",
        "\n",
        "a, b = b, a"
      ],
      "metadata": {
        "id": "6CYtEnq2UeLd"
      },
      "execution_count": null,
      "outputs": []
    },
    {
      "cell_type": "code",
      "source": [
        "x = 5\n",
        "if True:\n",
        "  print(x)\n",
        "  x = 6\n",
        "print(x)"
      ],
      "metadata": {
        "colab": {
          "base_uri": "https://localhost:8080/"
        },
        "id": "wzepg_oSUu6t",
        "outputId": "8fec68b1-1ec1-49fb-8932-2b1df6c175ef"
      },
      "execution_count": 59,
      "outputs": [
        {
          "output_type": "stream",
          "name": "stdout",
          "text": [
            "5\n",
            "6\n"
          ]
        }
      ]
    },
    {
      "cell_type": "code",
      "source": [
        "if True:\n",
        "  my_var = \"scaler\"\n",
        "\n",
        "print(my_var)"
      ],
      "metadata": {
        "colab": {
          "base_uri": "https://localhost:8080/"
        },
        "id": "SfCVwSqGUupv",
        "outputId": "eb15ddaf-ee0c-407f-a829-f0d46fae79b7"
      },
      "execution_count": 60,
      "outputs": [
        {
          "output_type": "stream",
          "name": "stdout",
          "text": [
            "scaler\n"
          ]
        }
      ]
    },
    {
      "cell_type": "code",
      "source": [
        "for xyz in range(5):\n",
        "  print(xyz)"
      ],
      "metadata": {
        "colab": {
          "base_uri": "https://localhost:8080/"
        },
        "id": "ELDw-_GoVVeB",
        "outputId": "bd366d7c-9655-476c-ff44-48864f0ab594"
      },
      "execution_count": 61,
      "outputs": [
        {
          "output_type": "stream",
          "name": "stdout",
          "text": [
            "0\n",
            "1\n",
            "2\n",
            "3\n",
            "4\n"
          ]
        }
      ]
    },
    {
      "cell_type": "code",
      "source": [
        "print(xyz)"
      ],
      "metadata": {
        "colab": {
          "base_uri": "https://localhost:8080/"
        },
        "id": "Yr221TuxVfYY",
        "outputId": "b1cc2577-6f69-46f4-ca28-be1593fcf075"
      },
      "execution_count": 62,
      "outputs": [
        {
          "output_type": "stream",
          "name": "stdout",
          "text": [
            "4\n"
          ]
        }
      ]
    },
    {
      "cell_type": "markdown",
      "source": [
        "Local scope\n",
        "\n",
        "Creating a function creates a local scope in which the variables in function body are stored"
      ],
      "metadata": {
        "id": "F1cz4ygAV_om"
      }
    },
    {
      "cell_type": "code",
      "source": [
        "def foo():\n",
        "  abc = 10\n",
        "foo()\n",
        "print(abc)"
      ],
      "metadata": {
        "colab": {
          "base_uri": "https://localhost:8080/",
          "height": 203
        },
        "id": "pY2GsMl0VxX0",
        "outputId": "3c13aff3-8b36-4619-aeb4-a3ac7ffae738"
      },
      "execution_count": 65,
      "outputs": [
        {
          "output_type": "error",
          "ename": "NameError",
          "evalue": "ignored",
          "traceback": [
            "\u001b[0;31m---------------------------------------------------------------------------\u001b[0m",
            "\u001b[0;31mNameError\u001b[0m                                 Traceback (most recent call last)",
            "\u001b[0;32m<ipython-input-65-af9d22d2ef35>\u001b[0m in \u001b[0;36m<module>\u001b[0;34m\u001b[0m\n\u001b[1;32m      2\u001b[0m   \u001b[0mabc\u001b[0m \u001b[0;34m=\u001b[0m \u001b[0;36m10\u001b[0m\u001b[0;34m\u001b[0m\u001b[0;34m\u001b[0m\u001b[0m\n\u001b[1;32m      3\u001b[0m \u001b[0mfoo\u001b[0m\u001b[0;34m(\u001b[0m\u001b[0;34m)\u001b[0m\u001b[0;34m\u001b[0m\u001b[0;34m\u001b[0m\u001b[0m\n\u001b[0;32m----> 4\u001b[0;31m \u001b[0mprint\u001b[0m\u001b[0;34m(\u001b[0m\u001b[0mabc\u001b[0m\u001b[0;34m)\u001b[0m\u001b[0;34m\u001b[0m\u001b[0;34m\u001b[0m\u001b[0m\n\u001b[0m",
            "\u001b[0;31mNameError\u001b[0m: name 'abc' is not defined"
          ]
        }
      ]
    },
    {
      "cell_type": "code",
      "source": [
        "def foo():\n",
        "  abc = 10\n",
        "  print(locals())\n",
        "  print(globals())\n",
        "\n",
        "foo()"
      ],
      "metadata": {
        "colab": {
          "base_uri": "https://localhost:8080/"
        },
        "id": "uMOMymKtV0mz",
        "outputId": "52780ef7-6f4c-46e4-ef5d-064440915466"
      },
      "execution_count": 67,
      "outputs": [
        {
          "output_type": "stream",
          "name": "stdout",
          "text": [
            "{'abc': 10}\n",
            "{'__name__': '__main__', '__doc__': 'Automatically created module for IPython interactive environment', '__package__': None, '__loader__': None, '__spec__': None, '__builtin__': <module 'builtins' (built-in)>, '__builtins__': <module 'builtins' (built-in)>, '_ih': ['', 'def add(a, b):\\n  print(a + b)', 'def foo(a, b, c):\\n  print(a)\\n  print(b)\\n  print(c)', 'foo(1, 2, 3)', 'foo(1, 2)', 'def foo(a, b, c = 20):\\n  print(a)\\n  print(b)\\n  print(c)', 'def foo(a, b, c = 20):\\n  print(a)\\n  print(b)\\n  print(c)', 'foo(1, 2, 3)', 'foo(1, 2)', 'def foo(a, b, c):\\n  print(a)\\n  print(b)\\n  print(c)', 'def foo(a, b, c):\\n  print(a)\\n  print(b)\\n  print(c)', 'foo(b = 2, a = 1, c = 3)', 'def car(engine = \"ddis\", brand = \"Maruti\", transmission = \"manual\"):\\n  print(engine)\\n  print(brand)\\n  print(transmission)', 'def car(engine = \"ddis\", brand = \"Maruti\", transmission = \"manual\"):\\n  print(engine)\\n  print(brand)\\n  print(transmission)', 'car()', 'car(transmission = \"automatic\")', 'print(\"Hello\", end = \"\")\\nprint(\"World\")', 'print()', 'print(1, 2, 3, 4, 5, 6, 7, 8, 9, 10)', 'def foo(a, *b):\\n  print(a)\\n  print(b)', 'def foo(a, *b):\\n  print(a)\\n  print(b)\\n  print(type(b))', 'foo(1, 2, 3, 4, 5)', 'def foo(a, *b, c):\\n  print(a)\\n  print(b)\\n  print(c)', 'foo(1, 2, 3, 4, 5, 6, 7)', 'def foo(*a):\\n  print(a)', 'foo(1, 2, 3, 4)', 'foo()', 'def foo(a, *b, c = 5):\\n  print(a)\\n  print(b)\\n  print(c)', 'foo(1, 2, 3, 4, 5)', 'def foo(a, *b, c = 20):\\n  print(a)\\n  print(b)\\n  print(c)', 'foo(1, 2, 3, 4, 5)', 'foo(1, 2, 3, 4, c = 5)', 'def foo(a, b, **c):\\n  print(a)\\n  print(b)\\n  print(c)\\n  print(type(c))', 'def foo(a, b, **c):\\n  print(a)\\n  print(b)\\n  print(c)\\n  print(type(c))', 'foo(b = 2, a = 1, name = \"jatin\", company = \"scaler\")', 'def foo(a, b, **c):\\n  print(a)\\n  print(b)\\n  print(c)\\n  print(c[\"name\"])\\n  print(type(c))', 'foo(b = 2, a = 1, name = \"jatin\", company = \"scaler\")', 'def foo(a, b, **kwargs):\\n  print(a)\\n  print(b)\\n  print(kwargs)', 'foo(1, 2)', 'def foo(a, b):\\n  return a**2, b**2', 'x = foo(2, 3)', 'type(x)', 'x = 3, 4, 5', 'type(x)', 'x, y = foo(5, 6)', 'print(y)?', 'print(y)', 'a = 1, 2, 3', 'type(a)', 'x, y, z = a', 'print(x)', 'print(y)', 'print(z)', 'x, y, z = (1, 2)', 'x, y, z = (1, 2, 3, 4)', 'x, y, z = foo(5, 6)\\nprint(z)', 'def foo():\\n  return 1\\n  return 2', 'def foo():\\n  return 1\\n  return 2', 'print(foo())', 'x = 5\\nif True:\\n  print(x)\\n  x = 6\\nprint(x)', 'if True:\\n  my_var = \"scaler\"\\n\\nprint(my_var)', 'for xyz in range(5):\\n  print(xyz)', 'print(xyz)', 'globals()', 'abc', 'def foo():\\n  abc = 10\\nfoo()\\nprint(abc)', 'def foo():\\n  abc = 10\\n  print(locals())\\n\\nfoo()', 'def foo():\\n  abc = 10\\n  print(locals())\\n  print(globals())\\n\\nfoo()'], '_oh': {41: <class 'tuple'>, 43: <class 'tuple'>, 48: <class 'tuple'>, 63: {...}}, '_dh': ['/content'], 'In': ['', 'def add(a, b):\\n  print(a + b)', 'def foo(a, b, c):\\n  print(a)\\n  print(b)\\n  print(c)', 'foo(1, 2, 3)', 'foo(1, 2)', 'def foo(a, b, c = 20):\\n  print(a)\\n  print(b)\\n  print(c)', 'def foo(a, b, c = 20):\\n  print(a)\\n  print(b)\\n  print(c)', 'foo(1, 2, 3)', 'foo(1, 2)', 'def foo(a, b, c):\\n  print(a)\\n  print(b)\\n  print(c)', 'def foo(a, b, c):\\n  print(a)\\n  print(b)\\n  print(c)', 'foo(b = 2, a = 1, c = 3)', 'def car(engine = \"ddis\", brand = \"Maruti\", transmission = \"manual\"):\\n  print(engine)\\n  print(brand)\\n  print(transmission)', 'def car(engine = \"ddis\", brand = \"Maruti\", transmission = \"manual\"):\\n  print(engine)\\n  print(brand)\\n  print(transmission)', 'car()', 'car(transmission = \"automatic\")', 'print(\"Hello\", end = \"\")\\nprint(\"World\")', 'print()', 'print(1, 2, 3, 4, 5, 6, 7, 8, 9, 10)', 'def foo(a, *b):\\n  print(a)\\n  print(b)', 'def foo(a, *b):\\n  print(a)\\n  print(b)\\n  print(type(b))', 'foo(1, 2, 3, 4, 5)', 'def foo(a, *b, c):\\n  print(a)\\n  print(b)\\n  print(c)', 'foo(1, 2, 3, 4, 5, 6, 7)', 'def foo(*a):\\n  print(a)', 'foo(1, 2, 3, 4)', 'foo()', 'def foo(a, *b, c = 5):\\n  print(a)\\n  print(b)\\n  print(c)', 'foo(1, 2, 3, 4, 5)', 'def foo(a, *b, c = 20):\\n  print(a)\\n  print(b)\\n  print(c)', 'foo(1, 2, 3, 4, 5)', 'foo(1, 2, 3, 4, c = 5)', 'def foo(a, b, **c):\\n  print(a)\\n  print(b)\\n  print(c)\\n  print(type(c))', 'def foo(a, b, **c):\\n  print(a)\\n  print(b)\\n  print(c)\\n  print(type(c))', 'foo(b = 2, a = 1, name = \"jatin\", company = \"scaler\")', 'def foo(a, b, **c):\\n  print(a)\\n  print(b)\\n  print(c)\\n  print(c[\"name\"])\\n  print(type(c))', 'foo(b = 2, a = 1, name = \"jatin\", company = \"scaler\")', 'def foo(a, b, **kwargs):\\n  print(a)\\n  print(b)\\n  print(kwargs)', 'foo(1, 2)', 'def foo(a, b):\\n  return a**2, b**2', 'x = foo(2, 3)', 'type(x)', 'x = 3, 4, 5', 'type(x)', 'x, y = foo(5, 6)', 'print(y)?', 'print(y)', 'a = 1, 2, 3', 'type(a)', 'x, y, z = a', 'print(x)', 'print(y)', 'print(z)', 'x, y, z = (1, 2)', 'x, y, z = (1, 2, 3, 4)', 'x, y, z = foo(5, 6)\\nprint(z)', 'def foo():\\n  return 1\\n  return 2', 'def foo():\\n  return 1\\n  return 2', 'print(foo())', 'x = 5\\nif True:\\n  print(x)\\n  x = 6\\nprint(x)', 'if True:\\n  my_var = \"scaler\"\\n\\nprint(my_var)', 'for xyz in range(5):\\n  print(xyz)', 'print(xyz)', 'globals()', 'abc', 'def foo():\\n  abc = 10\\nfoo()\\nprint(abc)', 'def foo():\\n  abc = 10\\n  print(locals())\\n\\nfoo()', 'def foo():\\n  abc = 10\\n  print(locals())\\n  print(globals())\\n\\nfoo()'], 'Out': {41: <class 'tuple'>, 43: <class 'tuple'>, 48: <class 'tuple'>, 63: {...}}, 'get_ipython': <bound method InteractiveShell.get_ipython of <google.colab._shell.Shell object at 0x7f938d65b590>>, 'exit': <IPython.core.autocall.ZMQExitAutocall object at 0x7f938a61e590>, 'quit': <IPython.core.autocall.ZMQExitAutocall object at 0x7f938a61e590>, '_': {...}, '__': <class 'tuple'>, '___': <class 'tuple'>, '_i': 'def foo():\\n  abc = 10\\n  print(locals())\\n\\nfoo()', '_ii': 'def foo():\\n  abc = 10\\nfoo()\\nprint(abc)', '_iii': 'abc', '_i1': 'def add(a, b):\\n  print(a + b)', 'add': <function add at 0x7f937b3b90e0>, '_i2': 'def foo(a, b, c):\\n  print(a)\\n  print(b)\\n  print(c)', 'foo': <function foo at 0x7f9371bded40>, '_i3': 'foo(1, 2, 3)', '_i4': 'foo(1, 2)', '_i5': 'def foo(a, b, c = 20):\\n  print(a)\\n  print(b)\\n  print(c)', '_i6': 'def foo(a, b, c = 20):\\n  print(a)\\n  print(b)\\n  print(c)', '_i7': 'foo(1, 2, 3)', '_i8': 'foo(1, 2)', '_i9': 'def foo(a, b, c):\\n  print(a)\\n  print(b)\\n  print(c)', '_i10': 'def foo(a, b, c):\\n  print(a)\\n  print(b)\\n  print(c)', '_i11': 'foo(b = 2, a = 1, c = 3)', '_i12': 'def car(engine = \"ddis\", brand = \"Maruti\", transmission = \"manual\"):\\n  print(engine)\\n  print(brand)\\n  print(transmission)', 'car': <function car at 0x7f9371ce18c0>, '_i13': 'def car(engine = \"ddis\", brand = \"Maruti\", transmission = \"manual\"):\\n  print(engine)\\n  print(brand)\\n  print(transmission)', '_i14': 'car()', '_i15': 'car(transmission = \"automatic\")', '_i16': 'print(\"Hello\", end = \"\")\\nprint(\"World\")', '_i17': 'print()', '_i18': 'print(1, 2, 3, 4, 5, 6, 7, 8, 9, 10)', '_i19': 'def foo(a, *b):\\n  print(a)\\n  print(b)', '_i20': 'def foo(a, *b):\\n  print(a)\\n  print(b)\\n  print(type(b))', '_i21': 'foo(1, 2, 3, 4, 5)', '_i22': 'def foo(a, *b, c):\\n  print(a)\\n  print(b)\\n  print(c)', '_i23': 'foo(1, 2, 3, 4, 5, 6, 7)', '_i24': 'def foo(*a):\\n  print(a)', '_i25': 'foo(1, 2, 3, 4)', '_i26': 'foo()', '_i27': 'def foo(a, *b, c = 5):\\n  print(a)\\n  print(b)\\n  print(c)', '_i28': 'foo(1, 2, 3, 4, 5)', '_i29': 'def foo(a, *b, c = 20):\\n  print(a)\\n  print(b)\\n  print(c)', '_i30': 'foo(1, 2, 3, 4, 5)', '_i31': 'foo(1, 2, 3, 4, c = 5)', '_i32': 'def foo(a, b, **c):\\n  print(a)\\n  print(b)\\n  print(c)\\n  print(type(c))', '_i33': 'def foo(a, b, **c):\\n  print(a)\\n  print(b)\\n  print(c)\\n  print(type(c))', '_i34': 'foo(b = 2, a = 1, name = \"jatin\", company = \"scaler\")', '_i35': 'def foo(a, b, **c):\\n  print(a)\\n  print(b)\\n  print(c)\\n  print(c[\"name\"])\\n  print(type(c))', '_i36': 'foo(b = 2, a = 1, name = \"jatin\", company = \"scaler\")', '_i37': 'def foo(a, b, **kwargs):\\n  print(a)\\n  print(b)\\n  print(kwargs)', '_i38': 'foo(1, 2)', '_i39': 'def foo(a, b):\\n  return a**2, b**2', '_i40': 'x = foo(2, 3)', 'x': 6, '_i41': 'type(x)', '_41': <class 'tuple'>, '_i42': 'x = 3, 4, 5', '_i43': 'type(x)', '_43': <class 'tuple'>, '_i44': 'x, y = foo(5, 6)', 'y': 2, '_i45': 'print(y)?', '_i46': 'print(y)', '_i47': 'a = 1, 2, 3', 'a': (1, 2, 3), '_i48': 'type(a)', '_48': <class 'tuple'>, '_i49': 'x, y, z = a', 'z': 3, '_i50': 'print(x)', '_i51': 'print(y)', '_i52': 'print(z)', '_i53': 'x, y, z = (1, 2)', '_i54': 'x, y, z = (1, 2, 3, 4)', '_i55': 'x, y, z = foo(5, 6)\\nprint(z)', '_i56': 'def foo():\\n  return 1\\n  return 2', '_i57': 'def foo():\\n  return 1\\n  return 2', '_i58': 'print(foo())', '_i59': 'x = 5\\nif True:\\n  print(x)\\n  x = 6\\nprint(x)', '_i60': 'if True:\\n  my_var = \"scaler\"\\n\\nprint(my_var)', 'my_var': 'scaler', '_i61': 'for xyz in range(5):\\n  print(xyz)', 'xyz': 4, '_i62': 'print(xyz)', '_i63': 'globals()', '_63': {...}, '_i64': 'abc', '_i65': 'def foo():\\n  abc = 10\\nfoo()\\nprint(abc)', '_i66': 'def foo():\\n  abc = 10\\n  print(locals())\\n\\nfoo()', '_i67': 'def foo():\\n  abc = 10\\n  print(locals())\\n  print(globals())\\n\\nfoo()'}\n"
          ]
        }
      ]
    },
    {
      "cell_type": "code",
      "source": [
        "abc = 10\n",
        "def foo():\n",
        "  abc = 20\n",
        "  print(abc) # 20\n",
        "\n",
        "foo()\n",
        "print(abc) # 10"
      ],
      "metadata": {
        "colab": {
          "base_uri": "https://localhost:8080/"
        },
        "id": "asdEoD9ZWjz1",
        "outputId": "cef49c6e-7c6f-4012-96c4-9304b6bfda25"
      },
      "execution_count": 70,
      "outputs": [
        {
          "output_type": "stream",
          "name": "stdout",
          "text": [
            "20\n",
            "10\n"
          ]
        }
      ]
    },
    {
      "cell_type": "markdown",
      "source": [
        "HW:\n",
        "1. `global` keyword\n",
        "2. `nonlocal` keyword"
      ],
      "metadata": {
        "id": "nAyrm0j6XntC"
      }
    },
    {
      "cell_type": "code",
      "source": [
        "x = 10\n",
        "def foo():\n",
        "  y = 20\n",
        "  def bar():\n",
        "    x = 30\n",
        "    print(y)\n",
        "  bar()\n",
        "  print(x)\n",
        "foo()\n",
        "print(x)"
      ],
      "metadata": {
        "id": "ancKJAERXK_2"
      },
      "execution_count": null,
      "outputs": []
    },
    {
      "cell_type": "code",
      "source": [
        "a = (1, 2, 3)"
      ],
      "metadata": {
        "id": "B7yDlKYBaI9s"
      },
      "execution_count": 71,
      "outputs": []
    },
    {
      "cell_type": "code",
      "source": [
        "x, y, z = a"
      ],
      "metadata": {
        "id": "5yPWWK4haWd2"
      },
      "execution_count": 72,
      "outputs": []
    },
    {
      "cell_type": "code",
      "source": [
        "x, y, z = range(3)"
      ],
      "metadata": {
        "id": "KkymBMysalkN"
      },
      "execution_count": 73,
      "outputs": []
    },
    {
      "cell_type": "code",
      "source": [
        "print(x, y, z)"
      ],
      "metadata": {
        "colab": {
          "base_uri": "https://localhost:8080/"
        },
        "id": "LI7BM9Jxama0",
        "outputId": "236686a2-7812-4ebe-9e66-d69f0b6da818"
      },
      "execution_count": 74,
      "outputs": [
        {
          "output_type": "stream",
          "name": "stdout",
          "text": [
            "0 1 2\n"
          ]
        }
      ]
    },
    {
      "cell_type": "code",
      "source": [],
      "metadata": {
        "id": "ckKY-_JwasWc"
      },
      "execution_count": null,
      "outputs": []
    }
  ]
}