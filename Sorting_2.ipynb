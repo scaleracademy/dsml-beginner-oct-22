{
  "nbformat": 4,
  "nbformat_minor": 0,
  "metadata": {
    "colab": {
      "provenance": [],
      "authorship_tag": "ABX9TyO4rWchAflLTS0NFf++T/Ke",
      "include_colab_link": true
    },
    "kernelspec": {
      "name": "python3",
      "display_name": "Python 3"
    },
    "language_info": {
      "name": "python"
    }
  },
  "cells": [
    {
      "cell_type": "markdown",
      "metadata": {
        "id": "view-in-github",
        "colab_type": "text"
      },
      "source": [
        "<a href=\"https://colab.research.google.com/github/scaleracademy/dsml-beginner-oct-22/blob/main/Sorting_2.ipynb\" target=\"_parent\"><img src=\"https://colab.research.google.com/assets/colab-badge.svg\" alt=\"Open In Colab\"/></a>"
      ]
    },
    {
      "cell_type": "code",
      "execution_count": null,
      "metadata": {
        "id": "39RkMtY9LaAw"
      },
      "outputs": [],
      "source": [
        "a = 5 + 9\n",
        "b = 2 * 8\n",
        "c = 2 ** 3"
      ]
    },
    {
      "cell_type": "code",
      "source": [
        "a = 5 < 9"
      ],
      "metadata": {
        "id": "hmGAHTrKNvbw"
      },
      "execution_count": null,
      "outputs": []
    },
    {
      "cell_type": "code",
      "source": [
        "def summation(n):\n",
        "  s = 0\n",
        "  a = 5 + 6\n",
        "  for i in range(10):\n",
        "    print(x)\n",
        "\n",
        "  for x in range(n):\n",
        "    s += x\n"
      ],
      "metadata": {
        "id": "c_zKIkxdN00O"
      },
      "execution_count": null,
      "outputs": []
    },
    {
      "cell_type": "code",
      "source": [
        "def summation(n):\n",
        "  if n == 10:\n",
        "    return -1\n",
        "\n",
        "  for x in range(n):\n",
        "    s += x\n"
      ],
      "metadata": {
        "id": "vvxmyqmXQZ9J"
      },
      "execution_count": 1,
      "outputs": []
    },
    {
      "cell_type": "code",
      "source": [
        "summation(100)"
      ],
      "metadata": {
        "id": "4eKTjyKOQl3r"
      },
      "execution_count": null,
      "outputs": []
    },
    {
      "cell_type": "code",
      "source": [
        "def foo(n):\n",
        "  for i in range(n):\n",
        "    for j in range(n):\n",
        "      print(i + j)"
      ],
      "metadata": {
        "id": "rxL_Hl2fRSMh"
      },
      "execution_count": null,
      "outputs": []
    },
    {
      "cell_type": "code",
      "source": [
        "def summation(n):\n",
        "  s = 0\n",
        "  for x in range(n):\n",
        "    if x == 10:\n",
        "      return s\n",
        "    s += x\n"
      ],
      "metadata": {
        "id": "2GkZlIpKR0vF"
      },
      "execution_count": null,
      "outputs": []
    },
    {
      "cell_type": "code",
      "source": [
        "summation(1000)"
      ],
      "metadata": {
        "id": "jlk5ksoWR-KD"
      },
      "execution_count": null,
      "outputs": []
    },
    {
      "cell_type": "code",
      "source": [
        "def summation(n):\n",
        "  s = 0\n",
        "  s1 = 100000\n",
        "  for x in range(n):\n",
        "    s += x\n",
        "  \n",
        "  for x in range(n):\n",
        "    s1 -= x"
      ],
      "metadata": {
        "id": "URajQMx-SZfx"
      },
      "execution_count": null,
      "outputs": []
    },
    {
      "cell_type": "code",
      "source": [
        "def foo(n):\n",
        "  i = n\n",
        "  while i > 1:\n",
        "    i /= 2"
      ],
      "metadata": {
        "id": "xJEp4DYUWwbp"
      },
      "execution_count": null,
      "outputs": []
    },
    {
      "cell_type": "code",
      "source": [
        "def foo(n):\n",
        "  s = 0\n",
        "  for x in range(n//2):\n",
        "    s += x"
      ],
      "metadata": {
        "id": "HwvywyhsXqWZ"
      },
      "execution_count": null,
      "outputs": []
    },
    {
      "cell_type": "code",
      "source": [
        "def merge(arr1, arr2):\n",
        "  i = 0 # iterate over arr1\n",
        "  j = 0 # iterate over arr2\n",
        "  result = []\n",
        "\n",
        "  while i < len(arr1) and j < len(arr2):\n",
        "    if arr1[i] < arr2[j]:\n",
        "      result.append(arr1[i])\n",
        "      i += 1\n",
        "    else:\n",
        "      result.append(arr2[j])\n",
        "      j += 1\n",
        "\n",
        "  if i < len(arr1):\n",
        "    result = result + arr1[i:]\n",
        "\n",
        "  if j < len(arr2):\n",
        "    result = result + arr2[j:]\n",
        "  \n",
        "  return result"
      ],
      "metadata": {
        "id": "a828ihSbczuZ"
      },
      "execution_count": 2,
      "outputs": []
    },
    {
      "cell_type": "code",
      "source": [
        "merge([1, 9, 12], [3, 10, 14, 16, 18])"
      ],
      "metadata": {
        "colab": {
          "base_uri": "https://localhost:8080/"
        },
        "id": "uEQRUFHwfz_f",
        "outputId": "e6dc3120-21d6-46c1-a681-99574006f861"
      },
      "execution_count": 3,
      "outputs": [
        {
          "output_type": "execute_result",
          "data": {
            "text/plain": [
              "[1, 3, 9, 10, 12, 14, 16, 18]"
            ]
          },
          "metadata": {},
          "execution_count": 3
        }
      ]
    },
    {
      "cell_type": "code",
      "source": [
        "a = [9]\n"
      ],
      "metadata": {
        "id": "VGEvUTcif3FL"
      },
      "execution_count": null,
      "outputs": []
    },
    {
      "cell_type": "markdown",
      "source": [
        "```\n",
        "for (i=N;i>0;i=i/2){for(j=1;j<=i;j++){print(i+j)}}\n",
        "```"
      ],
      "metadata": {
        "id": "T40018XMraNr"
      }
    },
    {
      "cell_type": "code",
      "source": [],
      "metadata": {
        "id": "YLmMyJx6rbrq"
      },
      "execution_count": null,
      "outputs": []
    }
  ]
}