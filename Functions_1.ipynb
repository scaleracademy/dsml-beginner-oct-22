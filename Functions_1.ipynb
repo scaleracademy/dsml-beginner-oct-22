{
  "nbformat": 4,
  "nbformat_minor": 0,
  "metadata": {
    "colab": {
      "provenance": [],
      "authorship_tag": "ABX9TyMhqj0fgHaEAiUh0IRWNyoK",
      "include_colab_link": true
    },
    "kernelspec": {
      "name": "python3",
      "display_name": "Python 3"
    },
    "language_info": {
      "name": "python"
    }
  },
  "cells": [
    {
      "cell_type": "markdown",
      "metadata": {
        "id": "view-in-github",
        "colab_type": "text"
      },
      "source": [
        "<a href=\"https://colab.research.google.com/github/scaleracademy/dsml-beginner-oct-22/blob/main/Functions_1.ipynb\" target=\"_parent\"><img src=\"https://colab.research.google.com/assets/colab-badge.svg\" alt=\"Open In Colab\"/></a>"
      ]
    },
    {
      "cell_type": "code",
      "source": [
        "a = 41960\n",
        "b = 23\n",
        "c = 4\n",
        "d = 57"
      ],
      "metadata": {
        "id": "ImMMaBpA1RrM"
      },
      "execution_count": 10,
      "outputs": []
    },
    {
      "cell_type": "code",
      "source": [
        "def compare(x, y):\n",
        "  if x % 100 > y % 100:\n",
        "    return True\n",
        "  else:\n",
        "    return False"
      ],
      "metadata": {
        "id": "NP3dCPKJB4vx"
      },
      "execution_count": 11,
      "outputs": []
    },
    {
      "cell_type": "code",
      "execution_count": 12,
      "metadata": {
        "colab": {
          "base_uri": "https://localhost:8080/"
        },
        "id": "DlVANoPWy9lb",
        "outputId": "5255b1ae-3e00-48a2-8ccc-af6bbc5afd71"
      },
      "outputs": [
        {
          "output_type": "stream",
          "name": "stdout",
          "text": [
            "41960\n"
          ]
        }
      ],
      "source": [
        "if compare(a, b) and compare(a, c) and compare(a, d):\n",
        "  print(a)\n",
        "elif compare(b, a) and compare(b, c) and compare(b, d):\n",
        "  print(b)\n",
        "elif compare(c, a) and compare(c, b) and compare(c, d):\n",
        "  print(c)\n",
        "else:\n",
        "  print(d)"
      ]
    },
    {
      "cell_type": "code",
      "source": [],
      "metadata": {
        "id": "nVUJLPTfB1W4"
      },
      "execution_count": null,
      "outputs": []
    },
    {
      "cell_type": "code",
      "source": [
        "def abc():\n",
        "  print(\"Hello World\")"
      ],
      "metadata": {
        "id": "eQzAFSbSDMfZ"
      },
      "execution_count": 20,
      "outputs": []
    },
    {
      "cell_type": "markdown",
      "source": [
        "executing a function"
      ],
      "metadata": {
        "id": "ali1Qdz2DYll"
      }
    },
    {
      "cell_type": "code",
      "source": [
        "abc()"
      ],
      "metadata": {
        "colab": {
          "base_uri": "https://localhost:8080/"
        },
        "id": "3Sh4iGIDDhVV",
        "outputId": "3752bea5-2e5d-4c30-9692-c6ae0d0a0fb4"
      },
      "execution_count": 21,
      "outputs": [
        {
          "output_type": "stream",
          "name": "stdout",
          "text": [
            "Hello World\n"
          ]
        }
      ]
    },
    {
      "cell_type": "code",
      "source": [
        "a = 1"
      ],
      "metadata": {
        "id": "jv_mzpyfD-ez"
      },
      "execution_count": 18,
      "outputs": []
    },
    {
      "cell_type": "code",
      "source": [
        "a"
      ],
      "metadata": {
        "colab": {
          "base_uri": "https://localhost:8080/"
        },
        "id": "WFxGZ8K6ECew",
        "outputId": "997912b6-fde0-4a8a-8456-a34fed24fb36"
      },
      "execution_count": 19,
      "outputs": [
        {
          "output_type": "execute_result",
          "data": {
            "text/plain": [
              "1"
            ]
          },
          "metadata": {},
          "execution_count": 19
        }
      ]
    },
    {
      "cell_type": "code",
      "source": [
        "def foo():\n",
        "  print(\"foo\")\n",
        "  print(\"fighters\")\n",
        "\n",
        "\n",
        "foo()"
      ],
      "metadata": {
        "colab": {
          "base_uri": "https://localhost:8080/"
        },
        "id": "YQ048RvzEGtv",
        "outputId": "3461438a-c526-47eb-fe64-5c88d1fa9c62"
      },
      "execution_count": 24,
      "outputs": [
        {
          "output_type": "stream",
          "name": "stdout",
          "text": [
            "foo\n",
            "fighters\n"
          ]
        }
      ]
    },
    {
      "cell_type": "markdown",
      "source": [
        "arguments"
      ],
      "metadata": {
        "id": "YaOr7DQAE31U"
      }
    },
    {
      "cell_type": "code",
      "source": [
        "def add(a, b):\n",
        "  print(a + b)"
      ],
      "metadata": {
        "id": "mDxKVR2bEmjq"
      },
      "execution_count": 25,
      "outputs": []
    },
    {
      "cell_type": "code",
      "source": [
        "add(3, 5)"
      ],
      "metadata": {
        "colab": {
          "base_uri": "https://localhost:8080/"
        },
        "id": "py8uPBGfFQm1",
        "outputId": "40ebab80-28be-4531-f303-c95667023bcf"
      },
      "execution_count": 27,
      "outputs": [
        {
          "output_type": "stream",
          "name": "stdout",
          "text": [
            "8\n"
          ]
        }
      ]
    },
    {
      "cell_type": "code",
      "source": [
        "def subtract(a, b):\n",
        "  print(a - b)"
      ],
      "metadata": {
        "id": "BqVhfYMxFWW2"
      },
      "execution_count": 28,
      "outputs": []
    },
    {
      "cell_type": "code",
      "source": [
        "subtract(8, 3)"
      ],
      "metadata": {
        "colab": {
          "base_uri": "https://localhost:8080/"
        },
        "id": "p0ZPKzF3FlR0",
        "outputId": "1310e41f-f5bf-4581-cda7-dd4ee42b561b"
      },
      "execution_count": 29,
      "outputs": [
        {
          "output_type": "stream",
          "name": "stdout",
          "text": [
            "5\n"
          ]
        }
      ]
    },
    {
      "cell_type": "code",
      "source": [
        "subtract(3, 8)"
      ],
      "metadata": {
        "colab": {
          "base_uri": "https://localhost:8080/"
        },
        "id": "FdgFpg27FsKt",
        "outputId": "19932391-f579-42c5-9961-e9459d92f3c5"
      },
      "execution_count": 30,
      "outputs": [
        {
          "output_type": "stream",
          "name": "stdout",
          "text": [
            "-5\n"
          ]
        }
      ]
    },
    {
      "cell_type": "code",
      "source": [
        "a = print(\"hello world\")"
      ],
      "metadata": {
        "colab": {
          "base_uri": "https://localhost:8080/"
        },
        "id": "bkpEXidZFvav",
        "outputId": "f5df65b0-afac-4843-8c3e-139d5dc0d5d2"
      },
      "execution_count": 31,
      "outputs": [
        {
          "output_type": "stream",
          "name": "stdout",
          "text": [
            "hello world\n"
          ]
        }
      ]
    },
    {
      "cell_type": "code",
      "source": [
        "print(a)"
      ],
      "metadata": {
        "colab": {
          "base_uri": "https://localhost:8080/"
        },
        "id": "IKOERfHLHiFV",
        "outputId": "77ca1679-87fc-40ee-c28e-26fe904c2a6f"
      },
      "execution_count": 33,
      "outputs": [
        {
          "output_type": "stream",
          "name": "stdout",
          "text": [
            "None\n"
          ]
        }
      ]
    },
    {
      "cell_type": "code",
      "source": [
        "a = 5 + 2"
      ],
      "metadata": {
        "id": "yn0HQueIHjJc"
      },
      "execution_count": 34,
      "outputs": []
    },
    {
      "cell_type": "code",
      "source": [
        "a"
      ],
      "metadata": {
        "colab": {
          "base_uri": "https://localhost:8080/"
        },
        "id": "Le8qgWrnHyYX",
        "outputId": "df5e01eb-5160-4885-b0ee-ec61c7b94233"
      },
      "execution_count": 35,
      "outputs": [
        {
          "output_type": "execute_result",
          "data": {
            "text/plain": [
              "7"
            ]
          },
          "metadata": {},
          "execution_count": 35
        }
      ]
    },
    {
      "cell_type": "code",
      "source": [
        "def add(a, b):\n",
        "  print(a+b)"
      ],
      "metadata": {
        "id": "zmgbxkXMHyx2"
      },
      "execution_count": 36,
      "outputs": []
    },
    {
      "cell_type": "code",
      "source": [
        "x = add(1, 2)"
      ],
      "metadata": {
        "colab": {
          "base_uri": "https://localhost:8080/"
        },
        "id": "kyJFuQ8hH7_0",
        "outputId": "4b2864e0-ecd8-4d85-ff45-43ff4c484adb"
      },
      "execution_count": 37,
      "outputs": [
        {
          "output_type": "stream",
          "name": "stdout",
          "text": [
            "3\n"
          ]
        }
      ]
    },
    {
      "cell_type": "code",
      "source": [
        "print(x)"
      ],
      "metadata": {
        "colab": {
          "base_uri": "https://localhost:8080/"
        },
        "id": "Z9_hCmYvH9X8",
        "outputId": "8e424389-9478-417a-a5ac-1dd606e26d9d"
      },
      "execution_count": 38,
      "outputs": [
        {
          "output_type": "stream",
          "name": "stdout",
          "text": [
            "None\n"
          ]
        }
      ]
    },
    {
      "cell_type": "code",
      "source": [
        "def add(a, b):\n",
        "  return a+b"
      ],
      "metadata": {
        "id": "VVZ1-sr3H_IU"
      },
      "execution_count": 39,
      "outputs": []
    },
    {
      "cell_type": "code",
      "source": [
        "x = add(1, 2)"
      ],
      "metadata": {
        "id": "2wtuCHolIJ0G"
      },
      "execution_count": 40,
      "outputs": []
    },
    {
      "cell_type": "code",
      "source": [
        "print(x)"
      ],
      "metadata": {
        "colab": {
          "base_uri": "https://localhost:8080/"
        },
        "id": "of5xzwpBIKsz",
        "outputId": "e1bc5883-b1da-4d61-823c-3957d9a45bd6"
      },
      "execution_count": 41,
      "outputs": [
        {
          "output_type": "stream",
          "name": "stdout",
          "text": [
            "3\n"
          ]
        }
      ]
    },
    {
      "cell_type": "markdown",
      "source": [
        "HW:\n",
        "1. Convert pattern questions into functions\n",
        "2. Assignments and Homework\n",
        "3. Rewatch today's session"
      ],
      "metadata": {
        "id": "n4Co_zrqKmgJ"
      }
    },
    {
      "cell_type": "code",
      "source": [
        "n = int(input())\n",
        "a = \"Even\" if n%2 == 0 else \"Odd\""
      ],
      "metadata": {
        "colab": {
          "base_uri": "https://localhost:8080/"
        },
        "id": "WV1IdiMaLVz1",
        "outputId": "24a8e1e5-447b-42aa-cab4-055e33176fa3"
      },
      "execution_count": 45,
      "outputs": [
        {
          "name": "stdout",
          "output_type": "stream",
          "text": [
            "3\n"
          ]
        }
      ]
    },
    {
      "cell_type": "code",
      "source": [
        "a"
      ],
      "metadata": {
        "colab": {
          "base_uri": "https://localhost:8080/",
          "height": 35
        },
        "id": "BPbSjZPBMFFh",
        "outputId": "f840a14e-1e6a-4f7e-a1f2-c601f5676326"
      },
      "execution_count": 46,
      "outputs": [
        {
          "output_type": "execute_result",
          "data": {
            "text/plain": [
              "'Odd'"
            ],
            "application/vnd.google.colaboratory.intrinsic+json": {
              "type": "string"
            }
          },
          "metadata": {},
          "execution_count": 46
        }
      ]
    },
    {
      "cell_type": "code",
      "source": [],
      "metadata": {
        "id": "rrd2V2UaMgVf"
      },
      "execution_count": null,
      "outputs": []
    }
  ]
}