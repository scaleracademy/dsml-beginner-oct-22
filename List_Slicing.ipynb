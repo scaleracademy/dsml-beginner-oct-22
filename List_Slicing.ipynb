{
  "nbformat": 4,
  "nbformat_minor": 0,
  "metadata": {
    "colab": {
      "provenance": [],
      "authorship_tag": "ABX9TyNUTaZ+aQk2TrIGCsR3y1QP",
      "include_colab_link": true
    },
    "kernelspec": {
      "name": "python3",
      "display_name": "Python 3"
    },
    "language_info": {
      "name": "python"
    }
  },
  "cells": [
    {
      "cell_type": "markdown",
      "metadata": {
        "id": "view-in-github",
        "colab_type": "text"
      },
      "source": [
        "<a href=\"https://colab.research.google.com/github/scaleracademy/dsml-beginner-oct-22/blob/main/List_Slicing.ipynb\" target=\"_parent\"><img src=\"https://colab.research.google.com/assets/colab-badge.svg\" alt=\"Open In Colab\"/></a>"
      ]
    },
    {
      "cell_type": "code",
      "execution_count": 1,
      "metadata": {
        "id": "QMisS57p25mm"
      },
      "outputs": [],
      "source": [
        "slice?"
      ]
    },
    {
      "cell_type": "code",
      "source": [
        "a = [1, 2, 3, 4, 5, 6, 7, 8]"
      ],
      "metadata": {
        "id": "AkLbaHcM-ryN"
      },
      "execution_count": 2,
      "outputs": []
    },
    {
      "cell_type": "code",
      "source": [
        "a[4:2]"
      ],
      "metadata": {
        "colab": {
          "base_uri": "https://localhost:8080/"
        },
        "id": "TDaumHQ0CEL6",
        "outputId": "e2e25b9d-2180-4a11-b4ea-20f043ca72c0"
      },
      "execution_count": 3,
      "outputs": [
        {
          "output_type": "execute_result",
          "data": {
            "text/plain": [
              "[]"
            ]
          },
          "metadata": {},
          "execution_count": 3
        }
      ]
    },
    {
      "cell_type": "code",
      "source": [
        "arr = list(range(10))"
      ],
      "metadata": {
        "id": "ccAix7shCPY2"
      },
      "execution_count": 6,
      "outputs": []
    },
    {
      "cell_type": "code",
      "source": [
        "arr[4]"
      ],
      "metadata": {
        "colab": {
          "base_uri": "https://localhost:8080/"
        },
        "id": "y8D_pQFpDeEJ",
        "outputId": "88b44145-e3b3-48e0-9548-ec428ad3a655"
      },
      "execution_count": 7,
      "outputs": [
        {
          "output_type": "execute_result",
          "data": {
            "text/plain": [
              "4"
            ]
          },
          "metadata": {},
          "execution_count": 7
        }
      ]
    },
    {
      "cell_type": "code",
      "source": [
        "arr[slice(2, 10, 2)]"
      ],
      "metadata": {
        "colab": {
          "base_uri": "https://localhost:8080/"
        },
        "id": "6p_eMStzDgCi",
        "outputId": "666972fe-edc7-439f-b0c3-52a5478ec588"
      },
      "execution_count": 8,
      "outputs": [
        {
          "output_type": "execute_result",
          "data": {
            "text/plain": [
              "[2, 4, 6, 8]"
            ]
          },
          "metadata": {},
          "execution_count": 8
        }
      ]
    },
    {
      "cell_type": "code",
      "source": [
        "arr[2:10:2]"
      ],
      "metadata": {
        "colab": {
          "base_uri": "https://localhost:8080/"
        },
        "id": "8p5D6GYFDw8g",
        "outputId": "e9224a88-5efb-4bf7-94dc-e695217a15e4"
      },
      "execution_count": 9,
      "outputs": [
        {
          "output_type": "execute_result",
          "data": {
            "text/plain": [
              "[2, 4, 6, 8]"
            ]
          },
          "metadata": {},
          "execution_count": 9
        }
      ]
    },
    {
      "cell_type": "code",
      "source": [
        "arr = \"scaler\"\n",
        "arr[2:6]"
      ],
      "metadata": {
        "colab": {
          "base_uri": "https://localhost:8080/",
          "height": 35
        },
        "id": "uBNW38_9EBfG",
        "outputId": "2723a31e-0e61-4634-c0c5-f04bb57f592c"
      },
      "execution_count": 12,
      "outputs": [
        {
          "output_type": "execute_result",
          "data": {
            "text/plain": [
              "'aler'"
            ],
            "application/vnd.google.colaboratory.intrinsic+json": {
              "type": "string"
            }
          },
          "metadata": {},
          "execution_count": 12
        }
      ]
    },
    {
      "cell_type": "code",
      "source": [
        "arr = (1, 2, 3, 4, 5, 6, 7, 8)\n",
        "arr[2:5]"
      ],
      "metadata": {
        "colab": {
          "base_uri": "https://localhost:8080/"
        },
        "id": "11tC3lWaEdLP",
        "outputId": "9ed5575a-14e4-46d3-ebb1-cbb9ab245e39"
      },
      "execution_count": 13,
      "outputs": [
        {
          "output_type": "execute_result",
          "data": {
            "text/plain": [
              "(3, 4, 5)"
            ]
          },
          "metadata": {},
          "execution_count": 13
        }
      ]
    },
    {
      "cell_type": "code",
      "source": [
        "a = {\"name\": \"jatin\", \"company\":\"scaer\"}"
      ],
      "metadata": {
        "id": "v1JWOEifEgRA"
      },
      "execution_count": 14,
      "outputs": []
    },
    {
      "cell_type": "code",
      "source": [
        "arr = [4, 1, 8, 5]\n",
        "n = len(arr)\n",
        "\n",
        "print([])\n",
        "for i in range(n):\n",
        "  for j in range(n-i):\n",
        "    print(arr[j:j+i+1])"
      ],
      "metadata": {
        "colab": {
          "base_uri": "https://localhost:8080/"
        },
        "id": "qyW0niOeE3Xd",
        "outputId": "fff8f7ac-90e0-42dd-96a1-6e27d9d1764f"
      },
      "execution_count": 21,
      "outputs": [
        {
          "output_type": "stream",
          "name": "stdout",
          "text": [
            "[]\n",
            "[4]\n",
            "[1]\n",
            "[8]\n",
            "[5]\n",
            "[4, 1]\n",
            "[1, 8]\n",
            "[8, 5]\n",
            "[4, 1, 8]\n",
            "[1, 8, 5]\n",
            "[4, 1, 8, 5]\n"
          ]
        }
      ]
    },
    {
      "cell_type": "code",
      "source": [
        "arr = [7, 1, 3, 5, 2, 3, 5]\n",
        "idx = 3\n",
        "\n",
        "print(arr[:idx] + arr[idx+1:])"
      ],
      "metadata": {
        "colab": {
          "base_uri": "https://localhost:8080/"
        },
        "id": "nzhKy3rbL9i2",
        "outputId": "a316b9fb-ab3d-4894-a7d2-7fc0044ff460"
      },
      "execution_count": 24,
      "outputs": [
        {
          "output_type": "stream",
          "name": "stdout",
          "text": [
            "[7, 1, 3, 2, 3, 5]\n"
          ]
        }
      ]
    },
    {
      "cell_type": "code",
      "source": [
        "def foo(a, b):\n",
        "  print(a+b)"
      ],
      "metadata": {
        "id": "PZNiEKZYNTh4"
      },
      "execution_count": 25,
      "outputs": []
    },
    {
      "cell_type": "code",
      "source": [],
      "metadata": {
        "id": "d_dXnQhfQBqC"
      },
      "execution_count": null,
      "outputs": []
    }
  ]
}