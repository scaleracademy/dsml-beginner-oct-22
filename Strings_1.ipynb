{
  "nbformat": 4,
  "nbformat_minor": 0,
  "metadata": {
    "colab": {
      "provenance": [],
      "authorship_tag": "ABX9TyMCOQtT2KrdAFAh36GOJjqn",
      "include_colab_link": true
    },
    "kernelspec": {
      "name": "python3",
      "display_name": "Python 3"
    },
    "language_info": {
      "name": "python"
    }
  },
  "cells": [
    {
      "cell_type": "markdown",
      "metadata": {
        "id": "view-in-github",
        "colab_type": "text"
      },
      "source": [
        "<a href=\"https://colab.research.google.com/github/scaleracademy/dsml-beginner-oct-22/blob/main/Strings_1.ipynb\" target=\"_parent\"><img src=\"https://colab.research.google.com/assets/colab-badge.svg\" alt=\"Open In Colab\"/></a>"
      ]
    },
    {
      "cell_type": "markdown",
      "source": [
        "Defining a string"
      ],
      "metadata": {
        "id": "nuxd4xcNicNn"
      }
    },
    {
      "cell_type": "code",
      "source": [
        "a = \"jatin\""
      ],
      "metadata": {
        "id": "wFDHmABffUCG"
      },
      "execution_count": 3,
      "outputs": []
    },
    {
      "cell_type": "code",
      "source": [
        "type(a)"
      ],
      "metadata": {
        "colab": {
          "base_uri": "https://localhost:8080/"
        },
        "id": "iJzRqSWFimPw",
        "outputId": "3e7eb7d3-1787-47eb-e301-04142af3d1c1"
      },
      "execution_count": 4,
      "outputs": [
        {
          "output_type": "execute_result",
          "data": {
            "text/plain": [
              "str"
            ]
          },
          "metadata": {},
          "execution_count": 4
        }
      ]
    },
    {
      "cell_type": "code",
      "source": [
        "a = 'scaler'\n",
        "type(a)"
      ],
      "metadata": {
        "colab": {
          "base_uri": "https://localhost:8080/"
        },
        "id": "COdqeyJcinVo",
        "outputId": "48a2ab45-0d5a-4206-ddbc-9ffef0594877"
      },
      "execution_count": 5,
      "outputs": [
        {
          "output_type": "execute_result",
          "data": {
            "text/plain": [
              "str"
            ]
          },
          "metadata": {},
          "execution_count": 5
        }
      ]
    },
    {
      "cell_type": "markdown",
      "source": [
        "Defining multi line string"
      ],
      "metadata": {
        "id": "Qi0oyjNNj2n1"
      }
    },
    {
      "cell_type": "code",
      "source": [
        "a = '''\n",
        "some random string \n",
        "which is multi line\n",
        "'''"
      ],
      "metadata": {
        "id": "vlZhlJgTiwdt"
      },
      "execution_count": 6,
      "outputs": []
    },
    {
      "cell_type": "code",
      "source": [
        "a = \"\"\" \n",
        "some random string \n",
        "which is multi line\n",
        "\"\"\""
      ],
      "metadata": {
        "id": "pKduptmEizNR"
      },
      "execution_count": 8,
      "outputs": []
    },
    {
      "cell_type": "code",
      "source": [
        "print(a)"
      ],
      "metadata": {
        "colab": {
          "base_uri": "https://localhost:8080/"
        },
        "id": "1hc_JU8BjsZ5",
        "outputId": "e4f8ffbc-2910-47ad-a6c7-3a395cc0b57b"
      },
      "execution_count": 9,
      "outputs": [
        {
          "output_type": "stream",
          "name": "stdout",
          "text": [
            " \n",
            "some random string \n",
            "which is multi line\n",
            "\n"
          ]
        }
      ]
    },
    {
      "cell_type": "code",
      "source": [
        "a = '\n",
        "scaler\n",
        "this is not multi line\n",
        "'"
      ],
      "metadata": {
        "colab": {
          "base_uri": "https://localhost:8080/",
          "height": 132
        },
        "id": "aQzSupfCkA9Q",
        "outputId": "dea290fc-73d8-4198-b1ec-377a283214fa"
      },
      "execution_count": 10,
      "outputs": [
        {
          "output_type": "error",
          "ename": "SyntaxError",
          "evalue": "ignored",
          "traceback": [
            "\u001b[0;36m  File \u001b[0;32m\"<ipython-input-10-fd174b53af88>\"\u001b[0;36m, line \u001b[0;32m1\u001b[0m\n\u001b[0;31m    a = '\u001b[0m\n\u001b[0m         ^\u001b[0m\n\u001b[0;31mSyntaxError\u001b[0m\u001b[0;31m:\u001b[0m EOL while scanning string literal\n"
          ]
        }
      ]
    },
    {
      "cell_type": "markdown",
      "source": [
        "docstrings"
      ],
      "metadata": {
        "id": "QPRXSaEgksFC"
      }
    },
    {
      "cell_type": "code",
      "source": [
        "def foo():\n",
        "  '''\n",
        "  this is a \n",
        "  multi line explanation\n",
        "  '''\n",
        "  print(\"something\")"
      ],
      "metadata": {
        "id": "xverughHkQz_"
      },
      "execution_count": 16,
      "outputs": []
    },
    {
      "cell_type": "code",
      "source": [
        "foo?"
      ],
      "metadata": {
        "id": "t9IuEJ5VkZNm"
      },
      "execution_count": 17,
      "outputs": []
    },
    {
      "cell_type": "code",
      "source": [
        "'''\n",
        "  this is a \n",
        "  multi line explanation\n",
        "'''\n",
        "def foo():\n",
        "  print(\"something\")"
      ],
      "metadata": {
        "id": "jsY8Ypj8khND"
      },
      "execution_count": 18,
      "outputs": []
    },
    {
      "cell_type": "code",
      "source": [
        "foo?"
      ],
      "metadata": {
        "id": "TToFD57dlUY4"
      },
      "execution_count": 19,
      "outputs": []
    },
    {
      "cell_type": "markdown",
      "source": [
        "escape character"
      ],
      "metadata": {
        "id": "dD3js7KDlrYm"
      }
    },
    {
      "cell_type": "code",
      "source": [
        "a = 'this isn\\'t true'"
      ],
      "metadata": {
        "id": "Z-G4r6b7lU6G"
      },
      "execution_count": 21,
      "outputs": []
    },
    {
      "cell_type": "code",
      "source": [
        "a = 'hello\\nworld'"
      ],
      "metadata": {
        "id": "-6Qn2piOlkeT"
      },
      "execution_count": 22,
      "outputs": []
    },
    {
      "cell_type": "code",
      "source": [
        "a = \"a\\\\b\""
      ],
      "metadata": {
        "id": "OYF6ejTrl7Nm"
      },
      "execution_count": 32,
      "outputs": []
    },
    {
      "cell_type": "code",
      "source": [
        "print(a)"
      ],
      "metadata": {
        "colab": {
          "base_uri": "https://localhost:8080/"
        },
        "id": "uKfea-53mBzq",
        "outputId": "63b00053-5afb-41d5-9edc-dde6d7567448"
      },
      "execution_count": 33,
      "outputs": [
        {
          "output_type": "stream",
          "name": "stdout",
          "text": [
            "a\\b\n"
          ]
        }
      ]
    },
    {
      "cell_type": "code",
      "source": [
        "a = \"this isn't true\""
      ],
      "metadata": {
        "id": "lD1U-lp-mCko"
      },
      "execution_count": 34,
      "outputs": []
    },
    {
      "cell_type": "code",
      "source": [
        "print(\"abc\\b\")"
      ],
      "metadata": {
        "colab": {
          "base_uri": "https://localhost:8080/"
        },
        "id": "LAJhaQQUmqdp",
        "outputId": "db0d6f34-74e0-4902-85aa-0fcaff3b0123"
      },
      "execution_count": 36,
      "outputs": [
        {
          "output_type": "stream",
          "name": "stdout",
          "text": [
            "abc\b\n"
          ]
        }
      ]
    },
    {
      "cell_type": "markdown",
      "source": [
        "string comparisons"
      ],
      "metadata": {
        "id": "UZ3nJmVynSRE"
      }
    },
    {
      "cell_type": "code",
      "source": [
        "\"abc\" > \"ABC\""
      ],
      "metadata": {
        "colab": {
          "base_uri": "https://localhost:8080/"
        },
        "id": "YoUxRkt8mrWz",
        "outputId": "46ef38c9-002d-49ed-f0f5-fb34dab56377"
      },
      "execution_count": 37,
      "outputs": [
        {
          "output_type": "execute_result",
          "data": {
            "text/plain": [
              "True"
            ]
          },
          "metadata": {},
          "execution_count": 37
        }
      ]
    },
    {
      "cell_type": "code",
      "source": [
        "ord('A')"
      ],
      "metadata": {
        "colab": {
          "base_uri": "https://localhost:8080/"
        },
        "id": "jSQ9tdaWnZNo",
        "outputId": "6f8fb726-4ac7-456a-d4c5-03693c384b74"
      },
      "execution_count": 39,
      "outputs": [
        {
          "output_type": "execute_result",
          "data": {
            "text/plain": [
              "65"
            ]
          },
          "metadata": {},
          "execution_count": 39
        }
      ]
    },
    {
      "cell_type": "code",
      "source": [
        "\"zzzz\" > \"aysdf\""
      ],
      "metadata": {
        "colab": {
          "base_uri": "https://localhost:8080/"
        },
        "id": "TxoNXPGKngMQ",
        "outputId": "c353f2d3-e785-417f-e908-80f35050dfd7"
      },
      "execution_count": 40,
      "outputs": [
        {
          "output_type": "execute_result",
          "data": {
            "text/plain": [
              "True"
            ]
          },
          "metadata": {},
          "execution_count": 40
        }
      ]
    },
    {
      "cell_type": "code",
      "source": [
        "\"scaler\" < \"something\""
      ],
      "metadata": {
        "colab": {
          "base_uri": "https://localhost:8080/"
        },
        "id": "buzPuP_1nv-t",
        "outputId": "9eef834d-3ccb-4aec-d1c7-de5383759cd3"
      },
      "execution_count": 41,
      "outputs": [
        {
          "output_type": "execute_result",
          "data": {
            "text/plain": [
              "True"
            ]
          },
          "metadata": {},
          "execution_count": 41
        }
      ]
    },
    {
      "cell_type": "code",
      "source": [
        "\"c\" < \"o\""
      ],
      "metadata": {
        "colab": {
          "base_uri": "https://localhost:8080/"
        },
        "id": "l4_fJNIPn1cN",
        "outputId": "87f48e68-987a-4853-f798-537875cadec5"
      },
      "execution_count": 43,
      "outputs": [
        {
          "output_type": "execute_result",
          "data": {
            "text/plain": [
              "True"
            ]
          },
          "metadata": {},
          "execution_count": 43
        }
      ]
    },
    {
      "cell_type": "markdown",
      "source": [
        "strings vs lists"
      ],
      "metadata": {
        "id": "rYfUm164ohCE"
      }
    },
    {
      "cell_type": "code",
      "source": [
        "a = [1, 2, 3]\n",
        "a[0] = 100\n",
        "print(a[1:3])\n",
        "print(a[::-1])\n"
      ],
      "metadata": {
        "colab": {
          "base_uri": "https://localhost:8080/"
        },
        "id": "Wruia5e1ovrU",
        "outputId": "2dbad8db-82ae-4720-d48b-ee19c3f20169"
      },
      "execution_count": 47,
      "outputs": [
        {
          "output_type": "stream",
          "name": "stdout",
          "text": [
            "[2, 3]\n",
            "[3, 2, 100]\n"
          ]
        }
      ]
    },
    {
      "cell_type": "code",
      "source": [
        "a = \"scaler\"\n",
        "print(a[5])\n",
        "print(a[1:3])\n",
        "print(a[::-1])"
      ],
      "metadata": {
        "colab": {
          "base_uri": "https://localhost:8080/"
        },
        "id": "LXHQYJC7o9Ez",
        "outputId": "d6f72df1-56a5-4e21-a8eb-fd0a50006a4a"
      },
      "execution_count": 49,
      "outputs": [
        {
          "output_type": "stream",
          "name": "stdout",
          "text": [
            "r\n",
            "ca\n",
            "relacs\n"
          ]
        }
      ]
    },
    {
      "cell_type": "code",
      "source": [
        "def remove_char(s, i):\n",
        "  '''\n",
        "    Given a string s and index i\n",
        "    remove the ith character from the string\n",
        "  '''\n",
        "\n",
        "  return s[:i] + s[i+1:]"
      ],
      "metadata": {
        "id": "zhSBepJjpNfn"
      },
      "execution_count": 52,
      "outputs": []
    },
    {
      "cell_type": "code",
      "source": [
        "remove_char(\"scaler\", 5)"
      ],
      "metadata": {
        "colab": {
          "base_uri": "https://localhost:8080/",
          "height": 35
        },
        "id": "WxS2mzt7pkUE",
        "outputId": "ccf4f30f-b907-4348-ba6a-8adafc55bb1b"
      },
      "execution_count": 54,
      "outputs": [
        {
          "output_type": "execute_result",
          "data": {
            "text/plain": [
              "'scale'"
            ],
            "application/vnd.google.colaboratory.intrinsic+json": {
              "type": "string"
            }
          },
          "metadata": {},
          "execution_count": 54
        }
      ]
    },
    {
      "cell_type": "markdown",
      "source": [
        "### Operations on a string"
      ],
      "metadata": {
        "id": "01zLySsSqHv-"
      }
    },
    {
      "cell_type": "markdown",
      "source": [
        "concatenation"
      ],
      "metadata": {
        "id": "svdfkM0rqYrM"
      }
    },
    {
      "cell_type": "code",
      "source": [
        "a = \"hello\" + \"world\"\n",
        "print(a)"
      ],
      "metadata": {
        "colab": {
          "base_uri": "https://localhost:8080/"
        },
        "id": "XHk3ZpzOp8go",
        "outputId": "c1232c3f-a608-44dc-cfd5-15d09d82c459"
      },
      "execution_count": 55,
      "outputs": [
        {
          "output_type": "stream",
          "name": "stdout",
          "text": [
            "helloworld\n"
          ]
        }
      ]
    },
    {
      "cell_type": "code",
      "source": [
        "a = \"hello\" \"world\"\n",
        "print(a)"
      ],
      "metadata": {
        "colab": {
          "base_uri": "https://localhost:8080/"
        },
        "id": "xpd9q-Ihqhjg",
        "outputId": "32d83cff-faa5-4504-a0b2-c31beb0e3e1b"
      },
      "execution_count": 56,
      "outputs": [
        {
          "output_type": "stream",
          "name": "stdout",
          "text": [
            "helloworld\n"
          ]
        }
      ]
    },
    {
      "cell_type": "markdown",
      "source": [
        "iteration"
      ],
      "metadata": {
        "id": "5Iv_VmQ1qqAz"
      }
    },
    {
      "cell_type": "code",
      "source": [
        "a = \"scaler\"\n",
        "for chr in a:\n",
        "  print(chr)"
      ],
      "metadata": {
        "colab": {
          "base_uri": "https://localhost:8080/"
        },
        "id": "74aXjipzqln5",
        "outputId": "11b166b1-a09b-45ed-826f-ebe68932c98a"
      },
      "execution_count": 57,
      "outputs": [
        {
          "output_type": "stream",
          "name": "stdout",
          "text": [
            "s\n",
            "c\n",
            "a\n",
            "l\n",
            "e\n",
            "r\n"
          ]
        }
      ]
    },
    {
      "cell_type": "code",
      "source": [
        "a = \"scaler\"\n",
        "list(a)"
      ],
      "metadata": {
        "colab": {
          "base_uri": "https://localhost:8080/"
        },
        "id": "vWsRkFdvq0Vg",
        "outputId": "313e3772-6f61-4d83-a1c0-24c03cc1b75b"
      },
      "execution_count": 58,
      "outputs": [
        {
          "output_type": "execute_result",
          "data": {
            "text/plain": [
              "['s', 'c', 'a', 'l', 'e', 'r']"
            ]
          },
          "metadata": {},
          "execution_count": 58
        }
      ]
    },
    {
      "cell_type": "markdown",
      "source": [
        "methods"
      ],
      "metadata": {
        "id": "6az9AD4crIrs"
      }
    },
    {
      "cell_type": "code",
      "source": [
        "\"jatin\".upper()"
      ],
      "metadata": {
        "colab": {
          "base_uri": "https://localhost:8080/",
          "height": 35
        },
        "id": "QaITbOuaq91W",
        "outputId": "c8d0dc2e-1784-43d8-eca8-e357fc81004c"
      },
      "execution_count": 59,
      "outputs": [
        {
          "output_type": "execute_result",
          "data": {
            "text/plain": [
              "'JATIN'"
            ],
            "application/vnd.google.colaboratory.intrinsic+json": {
              "type": "string"
            }
          },
          "metadata": {},
          "execution_count": 59
        }
      ]
    },
    {
      "cell_type": "code",
      "source": [
        "\"SCALER\".lower()"
      ],
      "metadata": {
        "colab": {
          "base_uri": "https://localhost:8080/",
          "height": 35
        },
        "id": "Quinpi4YrPRt",
        "outputId": "bb93b21e-5f72-4e24-b9fb-91f715507fcb"
      },
      "execution_count": 60,
      "outputs": [
        {
          "output_type": "execute_result",
          "data": {
            "text/plain": [
              "'scaler'"
            ],
            "application/vnd.google.colaboratory.intrinsic+json": {
              "type": "string"
            }
          },
          "metadata": {},
          "execution_count": 60
        }
      ]
    },
    {
      "cell_type": "code",
      "source": [
        "\"Jatin\".upper()"
      ],
      "metadata": {
        "colab": {
          "base_uri": "https://localhost:8080/",
          "height": 35
        },
        "id": "kWj_XQ6trTa8",
        "outputId": "fa85eae2-b7c4-4ac1-ca92-2ece1f395adf"
      },
      "execution_count": 61,
      "outputs": [
        {
          "output_type": "execute_result",
          "data": {
            "text/plain": [
              "'JATIN'"
            ],
            "application/vnd.google.colaboratory.intrinsic+json": {
              "type": "string"
            }
          },
          "metadata": {},
          "execution_count": 61
        }
      ]
    },
    {
      "cell_type": "code",
      "source": [
        "\"A\".isupper()"
      ],
      "metadata": {
        "colab": {
          "base_uri": "https://localhost:8080/"
        },
        "id": "s9BQTm0iraDg",
        "outputId": "6991f9a6-b488-4ed8-f954-2af9b693b322"
      },
      "execution_count": 62,
      "outputs": [
        {
          "output_type": "execute_result",
          "data": {
            "text/plain": [
              "True"
            ]
          },
          "metadata": {},
          "execution_count": 62
        }
      ]
    },
    {
      "cell_type": "code",
      "source": [
        "\"a\".isupper()"
      ],
      "metadata": {
        "colab": {
          "base_uri": "https://localhost:8080/"
        },
        "id": "RXsI1IihrgD_",
        "outputId": "bce39b95-efa9-4a64-d81e-b97122f95ca9"
      },
      "execution_count": 63,
      "outputs": [
        {
          "output_type": "execute_result",
          "data": {
            "text/plain": [
              "False"
            ]
          },
          "metadata": {},
          "execution_count": 63
        }
      ]
    },
    {
      "cell_type": "code",
      "source": [
        "\"Scaler\".isupper()"
      ],
      "metadata": {
        "colab": {
          "base_uri": "https://localhost:8080/"
        },
        "id": "HCjenxkorifx",
        "outputId": "13fed9bd-613b-46d3-c804-098d1c4653c3"
      },
      "execution_count": 64,
      "outputs": [
        {
          "output_type": "execute_result",
          "data": {
            "text/plain": [
              "False"
            ]
          },
          "metadata": {},
          "execution_count": 64
        }
      ]
    },
    {
      "cell_type": "code",
      "source": [
        "\"ABC\".isupper()"
      ],
      "metadata": {
        "colab": {
          "base_uri": "https://localhost:8080/"
        },
        "id": "vxChnt5Grwh5",
        "outputId": "13b249d8-02eb-4bb4-cea8-d2f1329f22af"
      },
      "execution_count": 65,
      "outputs": [
        {
          "output_type": "execute_result",
          "data": {
            "text/plain": [
              "True"
            ]
          },
          "metadata": {},
          "execution_count": 65
        }
      ]
    },
    {
      "cell_type": "code",
      "source": [
        "\"abc\".islower()"
      ],
      "metadata": {
        "colab": {
          "base_uri": "https://localhost:8080/"
        },
        "id": "mVfoP4_8ryg4",
        "outputId": "66c02f32-5136-4ff0-ba13-ec0937112636"
      },
      "execution_count": 66,
      "outputs": [
        {
          "output_type": "execute_result",
          "data": {
            "text/plain": [
              "True"
            ]
          },
          "metadata": {},
          "execution_count": 66
        }
      ]
    },
    {
      "cell_type": "code",
      "source": [
        "\"Abc\".islower()"
      ],
      "metadata": {
        "colab": {
          "base_uri": "https://localhost:8080/"
        },
        "id": "bfFqph0_r4ZC",
        "outputId": "4290dc43-1591-46b1-d99d-d1f94de15b37"
      },
      "execution_count": 67,
      "outputs": [
        {
          "output_type": "execute_result",
          "data": {
            "text/plain": [
              "False"
            ]
          },
          "metadata": {},
          "execution_count": 67
        }
      ]
    },
    {
      "cell_type": "code",
      "source": [
        "\"abc\".startswith(\"a\")"
      ],
      "metadata": {
        "colab": {
          "base_uri": "https://localhost:8080/"
        },
        "id": "UVRKKlnEr68h",
        "outputId": "a1dccef3-519f-4bd2-978c-1d54594ecfd0"
      },
      "execution_count": 70,
      "outputs": [
        {
          "output_type": "execute_result",
          "data": {
            "text/plain": [
              "True"
            ]
          },
          "metadata": {},
          "execution_count": 70
        }
      ]
    },
    {
      "cell_type": "code",
      "source": [
        "\"xyz\".startswith(\"ab\")"
      ],
      "metadata": {
        "colab": {
          "base_uri": "https://localhost:8080/"
        },
        "id": "d2kmWdKNsIUc",
        "outputId": "8bd6f957-04cc-4f13-bcde-1c059649d281"
      },
      "execution_count": 69,
      "outputs": [
        {
          "output_type": "execute_result",
          "data": {
            "text/plain": [
              "False"
            ]
          },
          "metadata": {},
          "execution_count": 69
        }
      ]
    },
    {
      "cell_type": "code",
      "source": [
        "\"something\".endswith(\"g\")"
      ],
      "metadata": {
        "colab": {
          "base_uri": "https://localhost:8080/"
        },
        "id": "2b9A7hd4sKeZ",
        "outputId": "a8a783e9-0c1a-4a2c-fe63-64fd266533ee"
      },
      "execution_count": 71,
      "outputs": [
        {
          "output_type": "execute_result",
          "data": {
            "text/plain": [
              "True"
            ]
          },
          "metadata": {},
          "execution_count": 71
        }
      ]
    },
    {
      "cell_type": "code",
      "source": [
        "\"th\" in \"something\""
      ],
      "metadata": {
        "colab": {
          "base_uri": "https://localhost:8080/"
        },
        "id": "Ppv7tPxKsQvV",
        "outputId": "a597e760-3284-4405-99e7-7ee2a70ecd8e"
      },
      "execution_count": 73,
      "outputs": [
        {
          "output_type": "execute_result",
          "data": {
            "text/plain": [
              "True"
            ]
          },
          "metadata": {},
          "execution_count": 73
        }
      ]
    },
    {
      "cell_type": "code",
      "source": [
        "\"abc\" in \"abc abc abc abc abc\""
      ],
      "metadata": {
        "colab": {
          "base_uri": "https://localhost:8080/"
        },
        "id": "0IarIuFhsped",
        "outputId": "59416dee-8c31-421a-a1be-5198e695f7c7"
      },
      "execution_count": 75,
      "outputs": [
        {
          "output_type": "execute_result",
          "data": {
            "text/plain": [
              "True"
            ]
          },
          "metadata": {},
          "execution_count": 75
        }
      ]
    },
    {
      "cell_type": "code",
      "source": [
        "\"  \" in \"this is a  random   sentence\""
      ],
      "metadata": {
        "colab": {
          "base_uri": "https://localhost:8080/"
        },
        "id": "NTetkHZksw1L",
        "outputId": "0b6310b9-3d38-4c30-9bd2-d2dc044ddd04"
      },
      "execution_count": 76,
      "outputs": [
        {
          "output_type": "execute_result",
          "data": {
            "text/plain": [
              "True"
            ]
          },
          "metadata": {},
          "execution_count": 76
        }
      ]
    },
    {
      "cell_type": "code",
      "source": [
        "\"jatin\".title()"
      ],
      "metadata": {
        "colab": {
          "base_uri": "https://localhost:8080/",
          "height": 35
        },
        "id": "9PfE7EP9tA01",
        "outputId": "066f667e-cd5f-4403-a7eb-e2cf6c3b455c"
      },
      "execution_count": 78,
      "outputs": [
        {
          "output_type": "execute_result",
          "data": {
            "text/plain": [
              "'Jatin'"
            ],
            "application/vnd.google.colaboratory.intrinsic+json": {
              "type": "string"
            }
          },
          "metadata": {},
          "execution_count": 78
        }
      ]
    },
    {
      "cell_type": "code",
      "source": [
        "\"Scaler\".istitle()"
      ],
      "metadata": {
        "colab": {
          "base_uri": "https://localhost:8080/"
        },
        "id": "sShJH3cktJSp",
        "outputId": "ad0e639f-9b00-4623-e0c6-2913c4cfed5c"
      },
      "execution_count": 79,
      "outputs": [
        {
          "output_type": "execute_result",
          "data": {
            "text/plain": [
              "True"
            ]
          },
          "metadata": {},
          "execution_count": 79
        }
      ]
    },
    {
      "cell_type": "code",
      "source": [
        "\"scALeR something\".title()"
      ],
      "metadata": {
        "colab": {
          "base_uri": "https://localhost:8080/",
          "height": 35
        },
        "id": "XRtyeYRgtTgj",
        "outputId": "96c1e086-ae05-46b4-8fe6-a5c614536cb9"
      },
      "execution_count": 83,
      "outputs": [
        {
          "output_type": "execute_result",
          "data": {
            "text/plain": [
              "'Scaler Something'"
            ],
            "application/vnd.google.colaboratory.intrinsic+json": {
              "type": "string"
            }
          },
          "metadata": {},
          "execution_count": 83
        }
      ]
    },
    {
      "cell_type": "markdown",
      "source": [
        "### String Interpolation"
      ],
      "metadata": {
        "id": "6BkaBQlPt7o-"
      }
    },
    {
      "cell_type": "code",
      "source": [
        "name = \"jatin\"\n",
        "company = \"scaler\"\n",
        "\n",
        "print(\"Hello I'm Jatin and I work at scaler\")"
      ],
      "metadata": {
        "colab": {
          "base_uri": "https://localhost:8080/"
        },
        "id": "8FnBYWeituEb",
        "outputId": "a7ddd965-7a01-444f-ca3e-8e523a7c607b"
      },
      "execution_count": 85,
      "outputs": [
        {
          "output_type": "stream",
          "name": "stdout",
          "text": [
            "\n"
          ]
        }
      ]
    },
    {
      "cell_type": "code",
      "source": [
        "name = \"jatin\"\n",
        "company = \"scaler\"\n",
        "\n",
        "print(\"Hello I'm \" + name + \" and I work at \" + company)"
      ],
      "metadata": {
        "colab": {
          "base_uri": "https://localhost:8080/"
        },
        "id": "rg_nZZRVuFvw",
        "outputId": "9c2770de-74bc-4fc7-d9e2-c7f3b8d66c0d"
      },
      "execution_count": 86,
      "outputs": [
        {
          "output_type": "stream",
          "name": "stdout",
          "text": [
            "Hello I'm jatin and I work at scaler\n"
          ]
        }
      ]
    },
    {
      "cell_type": "code",
      "source": [
        "a = 5\n",
        "b = 9\n",
        "\n",
        "print(\"a + b = \" + str(a+b))"
      ],
      "metadata": {
        "colab": {
          "base_uri": "https://localhost:8080/"
        },
        "id": "o0b7KvGauWQ5",
        "outputId": "61c471b6-1fcd-4de8-b2d5-635b0233f4cd"
      },
      "execution_count": 88,
      "outputs": [
        {
          "output_type": "stream",
          "name": "stdout",
          "text": [
            "a + b = 14\n"
          ]
        }
      ]
    },
    {
      "cell_type": "code",
      "source": [
        "a = 5\n",
        "b = 9\n",
        "\n",
        "\"a + b = {}\".format(a+b)"
      ],
      "metadata": {
        "colab": {
          "base_uri": "https://localhost:8080/",
          "height": 35
        },
        "id": "kI0eBoh2ulXo",
        "outputId": "69c6f850-2952-4bcc-a320-ed26ae3dfd0f"
      },
      "execution_count": 89,
      "outputs": [
        {
          "output_type": "execute_result",
          "data": {
            "text/plain": [
              "'a + b = 14'"
            ],
            "application/vnd.google.colaboratory.intrinsic+json": {
              "type": "string"
            }
          },
          "metadata": {},
          "execution_count": 89
        }
      ]
    },
    {
      "cell_type": "code",
      "source": [
        "\"a = {}, b = {} and a+b = {}\".format(a, b, a+b)"
      ],
      "metadata": {
        "colab": {
          "base_uri": "https://localhost:8080/",
          "height": 35
        },
        "id": "aAuQKfoMuvnA",
        "outputId": "534df7d4-346e-4814-d507-09bc6bf23430"
      },
      "execution_count": 90,
      "outputs": [
        {
          "output_type": "execute_result",
          "data": {
            "text/plain": [
              "'a = 5, b = 9 and a+b = 14'"
            ],
            "application/vnd.google.colaboratory.intrinsic+json": {
              "type": "string"
            }
          },
          "metadata": {},
          "execution_count": 90
        }
      ]
    },
    {
      "cell_type": "code",
      "source": [
        "\"Hello my name is {name} and I work at {company}\".format(company = \"scaler\", name = \"Jatin\")"
      ],
      "metadata": {
        "colab": {
          "base_uri": "https://localhost:8080/",
          "height": 35
        },
        "id": "lLQjr3epvbbj",
        "outputId": "0c6a7f4b-7972-469c-80e4-bac36c8d30d2"
      },
      "execution_count": 92,
      "outputs": [
        {
          "output_type": "execute_result",
          "data": {
            "text/plain": [
              "'Hello my name is Jatin and I work at scaler'"
            ],
            "application/vnd.google.colaboratory.intrinsic+json": {
              "type": "string"
            }
          },
          "metadata": {},
          "execution_count": 92
        }
      ]
    },
    {
      "cell_type": "code",
      "source": [
        "\"Hello my name is {name} and I work at {company}\".format(\"scaler\", \"Jatin\")"
      ],
      "metadata": {
        "colab": {
          "base_uri": "https://localhost:8080/",
          "height": 167
        },
        "id": "WcOeBewnv0YG",
        "outputId": "f6f3ac26-6983-4dd2-ffb4-06e2d3a84dd7"
      },
      "execution_count": 93,
      "outputs": [
        {
          "output_type": "error",
          "ename": "KeyError",
          "evalue": "ignored",
          "traceback": [
            "\u001b[0;31m---------------------------------------------------------------------------\u001b[0m",
            "\u001b[0;31mKeyError\u001b[0m                                  Traceback (most recent call last)",
            "\u001b[0;32m<ipython-input-93-0e4897b1310c>\u001b[0m in \u001b[0;36m<module>\u001b[0;34m\u001b[0m\n\u001b[0;32m----> 1\u001b[0;31m \u001b[0;34m\"Hello my name is {name} and I work at {company}\"\u001b[0m\u001b[0;34m.\u001b[0m\u001b[0mformat\u001b[0m\u001b[0;34m(\u001b[0m\u001b[0;34m\"scaler\"\u001b[0m\u001b[0;34m,\u001b[0m \u001b[0;34m\"Jatin\"\u001b[0m\u001b[0;34m)\u001b[0m\u001b[0;34m\u001b[0m\u001b[0;34m\u001b[0m\u001b[0m\n\u001b[0m",
            "\u001b[0;31mKeyError\u001b[0m: 'name'"
          ]
        }
      ]
    },
    {
      "cell_type": "code",
      "source": [
        "students = [\n",
        "    {\"name\": \"Rhythm\", \"score\": 100 },\n",
        "    {\"name\": \"Chandra\", \"score\": 100 },\n",
        "    {\"name\": \"Suraj\", \"score\": 100 },\n",
        "    {\"name\": \"Pranav\", \"score\": 100 },\n",
        "    {\"name\": \"Vineet\", \"score\": 100 },\n",
        "    {\"name\": \"Parth\", \"score\": 100 }\n",
        "]"
      ],
      "metadata": {
        "id": "MuRxs6rhwFS7"
      },
      "execution_count": 94,
      "outputs": []
    },
    {
      "cell_type": "code",
      "source": [
        "for student in students:\n",
        "  print(\n",
        "      \"Hello {name} you scored {score} in python\".format(\n",
        "          name = student[\"name\"], score = student[\"score\"]\n",
        "      )\n",
        "  )"
      ],
      "metadata": {
        "colab": {
          "base_uri": "https://localhost:8080/"
        },
        "id": "2uOKCKiHwmV4",
        "outputId": "5926f758-8ce2-490c-d7fa-f0e5558f6804"
      },
      "execution_count": 95,
      "outputs": [
        {
          "output_type": "stream",
          "name": "stdout",
          "text": [
            "Hello Rhythm you scored 100 in python\n",
            "Hello Chandra you scored 100 in python\n",
            "Hello Suraj you scored 100 in python\n",
            "Hello Pranav you scored 100 in python\n",
            "Hello Vineet you scored 100 in python\n",
            "Hello Parth you scored 100 in python\n"
          ]
        }
      ]
    },
    {
      "cell_type": "markdown",
      "source": [
        "string modifiers"
      ],
      "metadata": {
        "id": "_HlWfeMbxLRy"
      }
    },
    {
      "cell_type": "code",
      "source": [
        "a = \"a\\nb\"\n",
        "print(len(a))"
      ],
      "metadata": {
        "colab": {
          "base_uri": "https://localhost:8080/"
        },
        "id": "MTLQjmA4w3Vx",
        "outputId": "09ce4dfd-9f96-4aaf-9031-07bc00220734"
      },
      "execution_count": 96,
      "outputs": [
        {
          "output_type": "stream",
          "name": "stdout",
          "text": [
            "3\n"
          ]
        }
      ]
    },
    {
      "cell_type": "code",
      "source": [
        "print(len(\"abc\\t\\n\\\\\\\\\"))"
      ],
      "metadata": {
        "colab": {
          "base_uri": "https://localhost:8080/"
        },
        "id": "2YbWmSlOyGKh",
        "outputId": "3fd21d25-38e6-4929-859c-ad397d0023f6"
      },
      "execution_count": 97,
      "outputs": [
        {
          "output_type": "stream",
          "name": "stdout",
          "text": [
            "7\n"
          ]
        }
      ]
    },
    {
      "cell_type": "code",
      "source": [
        "print(\"\\\\\")"
      ],
      "metadata": {
        "colab": {
          "base_uri": "https://localhost:8080/"
        },
        "id": "XXaFqD1TyXIV",
        "outputId": "4406ed99-97a0-4e1a-db97-8cd35c46b545"
      },
      "execution_count": 99,
      "outputs": [
        {
          "output_type": "stream",
          "name": "stdout",
          "text": [
            "\\\n"
          ]
        }
      ]
    },
    {
      "cell_type": "markdown",
      "source": [
        "raw string"
      ],
      "metadata": {
        "id": "j6ybm-vWy1EY"
      }
    },
    {
      "cell_type": "code",
      "source": [
        "a = r\"abc\\t\\n\""
      ],
      "metadata": {
        "id": "l56aQyezyhCq"
      },
      "execution_count": 100,
      "outputs": []
    },
    {
      "cell_type": "code",
      "source": [
        "print(a)"
      ],
      "metadata": {
        "colab": {
          "base_uri": "https://localhost:8080/"
        },
        "id": "46wN9kVHy5V1",
        "outputId": "a4a4c28e-c613-40cb-b6a8-16efda5b9c3c"
      },
      "execution_count": 101,
      "outputs": [
        {
          "output_type": "stream",
          "name": "stdout",
          "text": [
            "abc\\t\\n\n"
          ]
        }
      ]
    },
    {
      "cell_type": "code",
      "source": [
        "print(len(a))"
      ],
      "metadata": {
        "colab": {
          "base_uri": "https://localhost:8080/"
        },
        "id": "Sci9WBHyy51s",
        "outputId": "3674c2a1-bcbd-4c01-9785-b0d2d9a66276"
      },
      "execution_count": 102,
      "outputs": [
        {
          "output_type": "stream",
          "name": "stdout",
          "text": [
            "7\n"
          ]
        }
      ]
    },
    {
      "cell_type": "markdown",
      "source": [
        "format string modifier"
      ],
      "metadata": {
        "id": "3vJS-VVBzVFt"
      }
    },
    {
      "cell_type": "code",
      "source": [
        "a = 5\n",
        "b = 9\n",
        "\n",
        "f\"a = {a}, b = {b} and a+b = {a+b}\""
      ],
      "metadata": {
        "colab": {
          "base_uri": "https://localhost:8080/",
          "height": 35
        },
        "id": "Sm9o5J7CzQZG",
        "outputId": "4802e4da-24f6-45eb-d311-8ed1d90a2ea3"
      },
      "execution_count": 103,
      "outputs": [
        {
          "output_type": "execute_result",
          "data": {
            "text/plain": [
              "'a = 5, b = 9 and a+b = 14'"
            ],
            "application/vnd.google.colaboratory.intrinsic+json": {
              "type": "string"
            }
          },
          "metadata": {},
          "execution_count": 103
        }
      ]
    },
    {
      "cell_type": "code",
      "source": [
        "students = [\n",
        "    {\"name\": \"Rhythm\", \"score\": 90 },\n",
        "    {\"name\": \"Chandra\", \"score\": 90 },\n",
        "    {\"name\": \"Pranav\", \"score\": 90 },\n",
        "    {\"name\": \"Suraj\", \"score\": 90 },\n",
        "    {\"name\": \"Vineet\", \"score\": 90 },\n",
        "    {\"name\": \"Parth\", \"score\": 90 }\n",
        "]"
      ],
      "metadata": {
        "id": "AZueZxfv0KsV"
      },
      "execution_count": null,
      "outputs": []
    },
    {
      "cell_type": "code",
      "source": [
        "for student in students:\n",
        "  print(\n",
        "      f\"Hello {student['name']} you scored {student['score']} in python\"\n",
        "  )"
      ],
      "metadata": {
        "colab": {
          "base_uri": "https://localhost:8080/"
        },
        "id": "HFGeZq6Dz2zN",
        "outputId": "d751e91c-e346-4511-a4b8-f1022d874694"
      },
      "execution_count": 104,
      "outputs": [
        {
          "output_type": "stream",
          "name": "stdout",
          "text": [
            "Hello Rhythm you scored 100 in python\n",
            "Hello Chandra you scored 100 in python\n",
            "Hello Suraj you scored 100 in python\n",
            "Hello Pranav you scored 100 in python\n",
            "Hello Vineet you scored 100 in python\n",
            "Hello Parth you scored 100 in python\n"
          ]
        }
      ]
    },
    {
      "cell_type": "code",
      "source": [
        "city = \"Phoenix\"\n",
        "print(city*3)"
      ],
      "metadata": {
        "colab": {
          "base_uri": "https://localhost:8080/"
        },
        "id": "JSf6gon2z-27",
        "outputId": "9813fe2b-7100-42aa-d4e1-d61b166a1d62"
      },
      "execution_count": 105,
      "outputs": [
        {
          "output_type": "stream",
          "name": "stdout",
          "text": [
            "PhoenixPhoenixPhoenix\n"
          ]
        }
      ]
    },
    {
      "cell_type": "code",
      "source": [
        "def mystery(s):\n",
        "  i = len(s)//2\n",
        "  a = s[:i]\n",
        "  b = s[i:]\n",
        "  return a+ b\n",
        "mystery(\"abracadabra\")"
      ],
      "metadata": {
        "colab": {
          "base_uri": "https://localhost:8080/",
          "height": 35
        },
        "id": "4l0TA_Mr29Nr",
        "outputId": "5d1b615f-5885-41e8-fc57-426496346909"
      },
      "execution_count": 106,
      "outputs": [
        {
          "output_type": "execute_result",
          "data": {
            "text/plain": [
              "'abracadabra'"
            ],
            "application/vnd.google.colaboratory.intrinsic+json": {
              "type": "string"
            }
          },
          "metadata": {},
          "execution_count": 106
        }
      ]
    },
    {
      "cell_type": "code",
      "source": [
        "def mystery(s):\n",
        "  i = len(s)//2\n",
        "  a = s[:i]\n",
        "  b = s[i:]\n",
        "  return a.upper() + b.lower()\n",
        "mystery(\"abracadabra\")"
      ],
      "metadata": {
        "colab": {
          "base_uri": "https://localhost:8080/",
          "height": 35
        },
        "id": "kUWLimhB3sli",
        "outputId": "240e2e04-4140-4028-f840-4a24582e9d55"
      },
      "execution_count": 107,
      "outputs": [
        {
          "output_type": "execute_result",
          "data": {
            "text/plain": [
              "'ABRACadabra'"
            ],
            "application/vnd.google.colaboratory.intrinsic+json": {
              "type": "string"
            }
          },
          "metadata": {},
          "execution_count": 107
        }
      ]
    },
    {
      "cell_type": "code",
      "source": [
        "print(\"a//b\")"
      ],
      "metadata": {
        "colab": {
          "base_uri": "https://localhost:8080/"
        },
        "id": "PhmNMUNf4b_-",
        "outputId": "511ec9e4-c574-41cf-e2f2-425a85d06810"
      },
      "execution_count": 108,
      "outputs": [
        {
          "output_type": "stream",
          "name": "stdout",
          "text": [
            "a//b\n"
          ]
        }
      ]
    },
    {
      "cell_type": "code",
      "source": [
        "print(\"a\\\\b\")"
      ],
      "metadata": {
        "colab": {
          "base_uri": "https://localhost:8080/"
        },
        "id": "7YOVcIPS5wAV",
        "outputId": "31472500-0a8d-4b4e-dca3-362be7e4aab0"
      },
      "execution_count": 109,
      "outputs": [
        {
          "output_type": "stream",
          "name": "stdout",
          "text": [
            "a\\b\n"
          ]
        }
      ]
    },
    {
      "cell_type": "code",
      "source": [
        "a = \"scaler\"\n",
        "print(list(a))"
      ],
      "metadata": {
        "colab": {
          "base_uri": "https://localhost:8080/"
        },
        "id": "nK6cvQlo533u",
        "outputId": "3ade5744-3204-4d40-a241-fae429047613"
      },
      "execution_count": 110,
      "outputs": [
        {
          "output_type": "stream",
          "name": "stdout",
          "text": [
            "['s', 'c', 'a', 'l', 'e', 'r']\n"
          ]
        }
      ]
    },
    {
      "cell_type": "code",
      "source": [],
      "metadata": {
        "id": "IRoyb6Js8CE2"
      },
      "execution_count": null,
      "outputs": []
    }
  ]
}