{
  "nbformat": 4,
  "nbformat_minor": 0,
  "metadata": {
    "colab": {
      "provenance": [],
      "authorship_tag": "ABX9TyMyPo0J3cIt+z304gHsdGLl",
      "include_colab_link": true
    },
    "kernelspec": {
      "name": "python3",
      "display_name": "Python 3"
    },
    "language_info": {
      "name": "python"
    }
  },
  "cells": [
    {
      "cell_type": "markdown",
      "metadata": {
        "id": "view-in-github",
        "colab_type": "text"
      },
      "source": [
        "<a href=\"https://colab.research.google.com/github/scaleracademy/dsml-beginner-oct-22/blob/main/Problem_Solving_and_Doubt_Session.ipynb\" target=\"_parent\"><img src=\"https://colab.research.google.com/assets/colab-badge.svg\" alt=\"Open In Colab\"/></a>"
      ]
    },
    {
      "cell_type": "code",
      "execution_count": null,
      "metadata": {
        "colab": {
          "base_uri": "https://localhost:8080/"
        },
        "id": "jMnt57n0M-b8",
        "outputId": "cc847e39-1f7d-485c-d2ce-867f29d320aa"
      },
      "outputs": [
        {
          "output_type": "stream",
          "name": "stdout",
          "text": [
            "hello\n",
            "yello\n"
          ]
        }
      ],
      "source": [
        "a = 'hello'\n",
        "b = a\n",
        "a = 'yello' \n",
        "print(b)\n",
        "print(a)"
      ]
    },
    {
      "cell_type": "code",
      "source": [
        "a = [1, 2, 3]\n",
        "b = a\n",
        "a = [4, 5, 6]\n",
        "\n",
        "print(a)\n",
        "print(b)"
      ],
      "metadata": {
        "colab": {
          "base_uri": "https://localhost:8080/"
        },
        "id": "rZZa9bBaTs9j",
        "outputId": "547c2c8f-96d6-4c7d-ca89-829e2fa6ad12"
      },
      "execution_count": null,
      "outputs": [
        {
          "output_type": "stream",
          "name": "stdout",
          "text": [
            "[4, 5, 6]\n",
            "[1, 2, 3]\n"
          ]
        }
      ]
    },
    {
      "cell_type": "code",
      "source": [
        "a = [1, 2, 3]\n",
        "b = a\n",
        "a[0] = 100\n",
        "\n",
        "print(a)\n",
        "print(b)"
      ],
      "metadata": {
        "id": "Gn79aU8uT6rX"
      },
      "execution_count": null,
      "outputs": []
    },
    {
      "cell_type": "code",
      "source": [
        "a = 3\n",
        "print(id(a))\n",
        "a = 5\n",
        "print(id(a))"
      ],
      "metadata": {
        "colab": {
          "base_uri": "https://localhost:8080/"
        },
        "id": "OxSJASM_UGYE",
        "outputId": "24e67a9f-a7d5-4edf-9c98-35a57668398c"
      },
      "execution_count": null,
      "outputs": [
        {
          "output_type": "stream",
          "name": "stdout",
          "text": [
            "11530976\n",
            "11531040\n"
          ]
        }
      ]
    },
    {
      "cell_type": "markdown",
      "source": [
        "Given the input date in DD/MM/YYYY format as a string, write a function that returns the converted date in the string formats MM/DD/YYYY and YYYY/MM/DD and return the new date formats."
      ],
      "metadata": {
        "id": "CaJI5jx9Unz5"
      }
    },
    {
      "cell_type": "code",
      "source": [
        "def date_format(input_date):\n",
        "  date, month, year = input_date.split(\"/\")\n",
        "\n",
        "  return f\"{month}/{date}/{year}\", f\"{year}/{month}/{date}\""
      ],
      "metadata": {
        "id": "Hwj_q_W8Uncq"
      },
      "execution_count": null,
      "outputs": []
    },
    {
      "cell_type": "code",
      "source": [
        "date_format(\"03/09/2001\")"
      ],
      "metadata": {
        "colab": {
          "base_uri": "https://localhost:8080/"
        },
        "id": "jhxIw_LXUH7L",
        "outputId": "67e468a6-b4b8-480b-e472-ef7ed208065e"
      },
      "execution_count": null,
      "outputs": [
        {
          "output_type": "stream",
          "name": "stdout",
          "text": [
            "09/03/2001\n",
            "2001/09/03\n"
          ]
        }
      ]
    },
    {
      "cell_type": "code",
      "source": [
        "a = \"1,2,3,4,55\"\n",
        "\n",
        "a.split(\",\")"
      ],
      "metadata": {
        "colab": {
          "base_uri": "https://localhost:8080/"
        },
        "id": "rl7lKD1gVOKy",
        "outputId": "ea140f34-55f2-46fc-e933-b8195e038bfb"
      },
      "execution_count": null,
      "outputs": [
        {
          "output_type": "execute_result",
          "data": {
            "text/plain": [
              "['1', '2', '3', '4', '55']"
            ]
          },
          "metadata": {},
          "execution_count": 12
        }
      ]
    },
    {
      "cell_type": "markdown",
      "source": [
        "You are given lowercase string (A) and you have to tell the count of vowels and consonants in it."
      ],
      "metadata": {
        "id": "Pp6vslG6YYlB"
      }
    },
    {
      "cell_type": "code",
      "source": [
        "vowels = set('aeiou')\n",
        "input_string = \"scaleracademy\"\n",
        "\n",
        "vowels_count = 0\n",
        "consonents_count = 0\n",
        "\n",
        "for char in input_string:\n",
        "  if char in vowels:\n",
        "    vowels_count += 1\n",
        "  else:\n",
        "    consonents_count += 1"
      ],
      "metadata": {
        "id": "OGD33qb1VimZ"
      },
      "execution_count": null,
      "outputs": []
    },
    {
      "cell_type": "code",
      "source": [
        "print(vowels_count)\n",
        "print(consonents_count)"
      ],
      "metadata": {
        "colab": {
          "base_uri": "https://localhost:8080/"
        },
        "id": "lxTfhkB2Y1DG",
        "outputId": "6345e54f-91a8-4fef-dbe1-b24dd1c17bde"
      },
      "execution_count": null,
      "outputs": [
        {
          "output_type": "stream",
          "name": "stdout",
          "text": [
            "5\n",
            "8\n"
          ]
        }
      ]
    },
    {
      "cell_type": "markdown",
      "source": [
        "Given an index k, return the kth row of the Pascal's triangle. What would be the logic for thic?"
      ],
      "metadata": {
        "id": "m4-Vt0LzZ-Sg"
      }
    },
    {
      "cell_type": "code",
      "source": [
        "prev_row = [1]\n",
        "print(prev_row)\n",
        "\n",
        "for i in range(10):\n",
        "  new_row = []\n",
        "\n",
        "  new_row.append(prev_row[0])\n",
        "  for j in range(len(prev_row)-1):\n",
        "    new_row.append(sum(prev_row[j:j+2]))\n",
        "  new_row.append(prev_row[-1])\n",
        "\n",
        "  print(new_row)\n",
        "\n",
        "  prev_row = new_row"
      ],
      "metadata": {
        "colab": {
          "base_uri": "https://localhost:8080/"
        },
        "id": "Y5YBASk2Y--F",
        "outputId": "48a15e13-9e56-484a-9df3-674aa631be0f"
      },
      "execution_count": null,
      "outputs": [
        {
          "output_type": "stream",
          "name": "stdout",
          "text": [
            "[1]\n",
            "[1, 1]\n",
            "[1, 2, 1]\n",
            "[1, 3, 3, 1]\n",
            "[1, 4, 6, 4, 1]\n",
            "[1, 5, 10, 10, 5, 1]\n",
            "[1, 6, 15, 20, 15, 6, 1]\n",
            "[1, 7, 21, 35, 35, 21, 7, 1]\n",
            "[1, 8, 28, 56, 70, 56, 28, 8, 1]\n",
            "[1, 9, 36, 84, 126, 126, 84, 36, 9, 1]\n",
            "[1, 10, 45, 120, 210, 252, 210, 120, 45, 10, 1]\n"
          ]
        }
      ]
    },
    {
      "cell_type": "markdown",
      "source": [
        "Take an integer N as input, print the corresponding pattern for N.\n",
        "Skip Even Numbers Half Pyramid\n",
        "can you please explain this question"
      ],
      "metadata": {
        "id": "eAgnEbMhcovS"
      }
    },
    {
      "cell_type": "code",
      "source": [
        "n = 10\n",
        "\n",
        "# 1\n",
        "# 1_\n",
        "# 1_3\n",
        "# 1_3_\n",
        "# 1_3_5\n",
        "\n",
        "for i in range(1, n+1):\n",
        "  for j in range(1, i+1):\n",
        "    print(\"_\" if j % 2 == 0 else j, end=\"\")\n",
        "  print()\n"
      ],
      "metadata": {
        "colab": {
          "base_uri": "https://localhost:8080/"
        },
        "id": "5E9UWGkWcT99",
        "outputId": "2990fbcd-4b78-4154-fc56-d3483066598c"
      },
      "execution_count": null,
      "outputs": [
        {
          "output_type": "stream",
          "name": "stdout",
          "text": [
            "1\n",
            "1_\n",
            "1_3\n",
            "1_3_\n",
            "1_3_5\n",
            "1_3_5_\n",
            "1_3_5_7\n",
            "1_3_5_7_\n",
            "1_3_5_7_9\n",
            "1_3_5_7_9_\n"
          ]
        }
      ]
    },
    {
      "cell_type": "markdown",
      "source": [
        "given an integer array A,find the inverse of the array A and return it all the elements of the given array are distinct and elements of array lie in the range [0,|A|] A=[2,0,1] -------[ 1,2,0]----"
      ],
      "metadata": {
        "id": "7NMEbek6eifH"
      }
    },
    {
      "cell_type": "code",
      "source": [
        "# arr = [4, 1, 3, 2, 7]\n",
        "\n",
        "# A = [3, 1, 0, 2]\n",
        "# Output 2:\n",
        "# [2, 1, 3, 0]\n",
        "\n",
        "\n",
        "# A = [3, 1, 0, 2]\n",
        "A = [1, 3, 4, 6, 2, 0, 5]\n",
        "n = len(A)\n",
        "result = [None] * n\n",
        "\n",
        "for i in range(n):\n",
        "  result[A[i]] = i\n",
        "print(result)"
      ],
      "metadata": {
        "colab": {
          "base_uri": "https://localhost:8080/"
        },
        "id": "GBQSQ8PUd12M",
        "outputId": "ca5cc43c-c865-4587-e95f-3e71e9ba3648"
      },
      "execution_count": null,
      "outputs": [
        {
          "output_type": "stream",
          "name": "stdout",
          "text": [
            "[5, 0, 4, 1, 2, 6, 3]\n"
          ]
        }
      ]
    },
    {
      "cell_type": "markdown",
      "source": [
        "You are given a matrix A and and an integer B, you have to perform scalar multiplication of matrix A with an integer B"
      ],
      "metadata": {
        "id": "x7Fms2Nbj1g7"
      }
    },
    {
      "cell_type": "code",
      "source": [
        "A = [[1, 2, 3],\n",
        "     [4, 5, 6],\n",
        "     [7, 8, 9]]\n",
        "B = 10\n",
        "\n",
        "for i in range(len(A)):\n",
        "  for j in range(len(A[i])):\n",
        "    A[i][j] *= 10\n",
        "print(A)"
      ],
      "metadata": {
        "colab": {
          "base_uri": "https://localhost:8080/"
        },
        "id": "jIig-03HjeiB",
        "outputId": "fe6bd73a-5d3e-41b5-b3f0-20545ac30b85"
      },
      "execution_count": null,
      "outputs": [
        {
          "output_type": "stream",
          "name": "stdout",
          "text": [
            "[[10, 20, 30], [40, 50, 60], [70, 80, 90]]\n"
          ]
        }
      ]
    },
    {
      "cell_type": "code",
      "source": [
        "A = [[1, 2, 3],\n",
        "     [4, 5, 6],\n",
        "     [7, 8, 9]]\n",
        "B = 10\n",
        "print([[j*B for j in i] for i in A])"
      ],
      "metadata": {
        "colab": {
          "base_uri": "https://localhost:8080/"
        },
        "id": "jL-o2gm1kMgI",
        "outputId": "52b589ff-0d72-4785-899a-6d4478a8ea7b"
      },
      "execution_count": null,
      "outputs": [
        {
          "output_type": "stream",
          "name": "stdout",
          "text": [
            "[[10, 20, 30], [40, 50, 60], [70, 80, 90]]\n"
          ]
        }
      ]
    },
    {
      "cell_type": "markdown",
      "source": [
        "`replace` methods in string"
      ],
      "metadata": {
        "id": "GQV5yHz5k8s9"
      }
    },
    {
      "cell_type": "code",
      "source": [
        "a = \"scaler\""
      ],
      "metadata": {
        "id": "VLTPTiQAkR9P"
      },
      "execution_count": null,
      "outputs": []
    },
    {
      "cell_type": "code",
      "source": [
        "a.replace(\"a\", \"i\")"
      ],
      "metadata": {
        "colab": {
          "base_uri": "https://localhost:8080/",
          "height": 35
        },
        "id": "2DDMOgwilAfP",
        "outputId": "dc9d8f66-fff2-4cc4-a278-959a009f6fad"
      },
      "execution_count": null,
      "outputs": [
        {
          "output_type": "execute_result",
          "data": {
            "text/plain": [
              "'sciler'"
            ],
            "application/vnd.google.colaboratory.intrinsic+json": {
              "type": "string"
            }
          },
          "metadata": {},
          "execution_count": 34
        }
      ]
    },
    {
      "cell_type": "code",
      "source": [
        "a"
      ],
      "metadata": {
        "colab": {
          "base_uri": "https://localhost:8080/",
          "height": 35
        },
        "id": "k3ZUnMXplCpK",
        "outputId": "22590994-6cf8-439e-b864-0d5871bbee09"
      },
      "execution_count": null,
      "outputs": [
        {
          "output_type": "execute_result",
          "data": {
            "text/plain": [
              "'scaler'"
            ],
            "application/vnd.google.colaboratory.intrinsic+json": {
              "type": "string"
            }
          },
          "metadata": {},
          "execution_count": 35
        }
      ]
    },
    {
      "cell_type": "code",
      "source": [
        "\"aaaabbbccc\".replace(\"a\", \"x\", -2)"
      ],
      "metadata": {
        "colab": {
          "base_uri": "https://localhost:8080/",
          "height": 35
        },
        "id": "4J2h_VqKlHjl",
        "outputId": "030a2e14-6202-4ba4-f669-ace1f906101a"
      },
      "execution_count": null,
      "outputs": [
        {
          "output_type": "execute_result",
          "data": {
            "text/plain": [
              "'xxxxbbbccc'"
            ],
            "application/vnd.google.colaboratory.intrinsic+json": {
              "type": "string"
            }
          },
          "metadata": {},
          "execution_count": 39
        }
      ]
    },
    {
      "cell_type": "code",
      "source": [
        "\"\".join(reversed(\"scaler\"))"
      ],
      "metadata": {
        "colab": {
          "base_uri": "https://localhost:8080/",
          "height": 35
        },
        "id": "2m8yO9qAlKcp",
        "outputId": "119537df-c040-4bbe-9017-a9f5be684396"
      },
      "execution_count": null,
      "outputs": [
        {
          "output_type": "execute_result",
          "data": {
            "text/plain": [
              "'relacs'"
            ],
            "application/vnd.google.colaboratory.intrinsic+json": {
              "type": "string"
            }
          },
          "metadata": {},
          "execution_count": 43
        }
      ]
    },
    {
      "cell_type": "code",
      "source": [
        "\"scaler\"[::-1]"
      ],
      "metadata": {
        "colab": {
          "base_uri": "https://localhost:8080/",
          "height": 35
        },
        "id": "CRwAVMlSlirq",
        "outputId": "35b2b4d1-f60f-4807-f6b7-6f7fde46c14b"
      },
      "execution_count": null,
      "outputs": [
        {
          "output_type": "execute_result",
          "data": {
            "text/plain": [
              "'relacs'"
            ],
            "application/vnd.google.colaboratory.intrinsic+json": {
              "type": "string"
            }
          },
          "metadata": {},
          "execution_count": 44
        }
      ]
    },
    {
      "cell_type": "markdown",
      "source": [
        "`in` operator"
      ],
      "metadata": {
        "id": "PnnJjkt8l0bi"
      }
    },
    {
      "cell_type": "code",
      "source": [
        "\"s\" in \"something\""
      ],
      "metadata": {
        "colab": {
          "base_uri": "https://localhost:8080/"
        },
        "id": "tsXtxX-0lqtY",
        "outputId": "8ff4387a-599f-489d-bb07-84ad9e53b6c0"
      },
      "execution_count": null,
      "outputs": [
        {
          "output_type": "execute_result",
          "data": {
            "text/plain": [
              "True"
            ]
          },
          "metadata": {},
          "execution_count": 45
        }
      ]
    },
    {
      "cell_type": "code",
      "source": [
        "\"some\" in \"something\""
      ],
      "metadata": {
        "colab": {
          "base_uri": "https://localhost:8080/"
        },
        "id": "S8qK0cObmKPn",
        "outputId": "2f26d085-ceeb-4127-94a1-cec2c39a57b7"
      },
      "execution_count": null,
      "outputs": [
        {
          "output_type": "execute_result",
          "data": {
            "text/plain": [
              "True"
            ]
          },
          "metadata": {},
          "execution_count": 46
        }
      ]
    },
    {
      "cell_type": "code",
      "source": [
        "1 in [1, 2, 3, 4]"
      ],
      "metadata": {
        "colab": {
          "base_uri": "https://localhost:8080/"
        },
        "id": "3HFIlWO-mM4J",
        "outputId": "6e42946e-a4a2-47d1-aa0a-6beac3b7810c"
      },
      "execution_count": null,
      "outputs": [
        {
          "output_type": "execute_result",
          "data": {
            "text/plain": [
              "True"
            ]
          },
          "metadata": {},
          "execution_count": 47
        }
      ]
    },
    {
      "cell_type": "code",
      "source": [
        "[1, 2] in [1, 2, 3, 4]"
      ],
      "metadata": {
        "colab": {
          "base_uri": "https://localhost:8080/"
        },
        "id": "gcw0SYgWmQUx",
        "outputId": "ac91e592-1646-4c58-ad8a-d6c9799b44c3"
      },
      "execution_count": null,
      "outputs": [
        {
          "output_type": "execute_result",
          "data": {
            "text/plain": [
              "False"
            ]
          },
          "metadata": {},
          "execution_count": 48
        }
      ]
    },
    {
      "cell_type": "code",
      "source": [
        "[1, 2] in [[1, 2], 4, 5, 6]"
      ],
      "metadata": {
        "colab": {
          "base_uri": "https://localhost:8080/"
        },
        "id": "X7CYgkIImV9Z",
        "outputId": "16b5cf02-45aa-45c8-ac21-27ff25b4b69e"
      },
      "execution_count": null,
      "outputs": [
        {
          "output_type": "execute_result",
          "data": {
            "text/plain": [
              "True"
            ]
          },
          "metadata": {},
          "execution_count": 49
        }
      ]
    },
    {
      "cell_type": "markdown",
      "source": [
        "`f-string` in python"
      ],
      "metadata": {
        "id": "iIcyibRLmwrF"
      }
    },
    {
      "cell_type": "code",
      "source": [
        "name = input()\n",
        "subject = input()\n",
        "\n",
        "print(\"Hello my name is \" + name + \" and I study \" + subject)"
      ],
      "metadata": {
        "colab": {
          "base_uri": "https://localhost:8080/"
        },
        "id": "_cHGgoPbme_q",
        "outputId": "3e09b551-e600-4c04-a53a-b7691f856e86"
      },
      "execution_count": null,
      "outputs": [
        {
          "output_type": "stream",
          "name": "stdout",
          "text": [
            "Jatin\n",
            "Python\n",
            "Hello my name is Jatin and I study Python\n"
          ]
        }
      ]
    },
    {
      "cell_type": "markdown",
      "source": [
        "string interpolation"
      ],
      "metadata": {
        "id": "3nHBu0ZznpAw"
      }
    },
    {
      "cell_type": "code",
      "source": [
        "name = input()\n",
        "subject = input()\n",
        "\n",
        "print(\"Hello my name is {} and I study {}\".format(name, subject))"
      ],
      "metadata": {
        "colab": {
          "base_uri": "https://localhost:8080/"
        },
        "id": "tuQaaPRZm7Kg",
        "outputId": "0c139324-0a74-4e19-885f-59275c247f17"
      },
      "execution_count": null,
      "outputs": [
        {
          "output_type": "stream",
          "name": "stdout",
          "text": [
            "Jatin\n",
            "python\n",
            "Hello my name is Jatin and I study python\n"
          ]
        }
      ]
    },
    {
      "cell_type": "code",
      "source": [
        "name = input()\n",
        "subject = input()\n",
        "\n",
        "print(f\"Hello my name is {name} and I study {subject}\")"
      ],
      "metadata": {
        "colab": {
          "base_uri": "https://localhost:8080/"
        },
        "id": "xmCUu8S3ngFo",
        "outputId": "cf2f8d71-84f1-4846-dbe3-78123782d7ba"
      },
      "execution_count": null,
      "outputs": [
        {
          "output_type": "stream",
          "name": "stdout",
          "text": [
            "Jatin\n",
            "Python\n",
            "Hello my name is Jatin and I study Python\n"
          ]
        }
      ]
    },
    {
      "cell_type": "markdown",
      "source": [
        "You are given an integer array A. You have to find the second largest element/value in the array or report that no such element exists."
      ],
      "metadata": {
        "id": "F33k7i8KoUHA"
      }
    },
    {
      "cell_type": "code",
      "source": [
        "# a = list(set([5, 1, 2, 3, 9, 4, 7, 8, 3, 4]))\n",
        "a = list(set([4, 4, 4, 4]))\n",
        "\n",
        "if len(a) > 1:\n",
        "  maximum = a[0] if a[0] > a[1] else a[1]\n",
        "  second_maximum = a[0] if a[0] < a[1] else a[1]\n",
        "  for x in a[2:]:\n",
        "    if x > maximum:\n",
        "      second_maximum = maximum\n",
        "      maximum = x\n",
        "    elif x > second_maximum:\n",
        "      second_maximum = x\n",
        "\n",
        "  print(second_maximum)\n",
        "else:\n",
        "  print(\"no second maximum\")"
      ],
      "metadata": {
        "colab": {
          "base_uri": "https://localhost:8080/"
        },
        "id": "Y_r7DnZnoBaM",
        "outputId": "5d96b590-6189-4702-fe05-1c7df97c4920"
      },
      "execution_count": null,
      "outputs": [
        {
          "output_type": "stream",
          "name": "stdout",
          "text": [
            "no second maximum\n"
          ]
        }
      ]
    },
    {
      "cell_type": "code",
      "source": [
        "a = list(set([5, 1, 2, 3, 9, 4, 7, 8, 3, 4]))\n",
        "\n",
        "a.remove(max(a))\n",
        "print(max(a))"
      ],
      "metadata": {
        "id": "z4DKKGLmolFW"
      },
      "execution_count": null,
      "outputs": []
    },
    {
      "cell_type": "markdown",
      "source": [
        "Given a sorted integer array A, and an integer B. Find the first and last index of B in A.\n",
        "It is guaranteed that B exists in A. Return an array C of size 2, where C[0] is the first index of B in A and C[1] is the last index of B in A."
      ],
      "metadata": {
        "id": "QSAaTUW7qLyd"
      }
    },
    {
      "cell_type": "code",
      "source": [
        "def solve(A, B):\n",
        "  n = len(A)\n",
        "  first_index = A.index(B)\n",
        "  last_index = n - A[::-1].index(B) - 1\n",
        "\n",
        "  return first_index, last_index"
      ],
      "metadata": {
        "id": "jd2GCeOEqXd9"
      },
      "execution_count": null,
      "outputs": []
    },
    {
      "cell_type": "code",
      "source": [
        "A = [1, 2, 3, 3, 3, 4, 4, 4, 5, 5, 6]\n",
        "B = 3\n",
        "\n",
        "solve(A, B)"
      ],
      "metadata": {
        "colab": {
          "base_uri": "https://localhost:8080/"
        },
        "id": "4BaBvTNXqNHE",
        "outputId": "d61edb6c-decb-4c42-a537-3b05c4a82fee"
      },
      "execution_count": null,
      "outputs": [
        {
          "output_type": "execute_result",
          "data": {
            "text/plain": [
              "(2, 4)"
            ]
          },
          "metadata": {},
          "execution_count": 65
        }
      ]
    },
    {
      "cell_type": "code",
      "source": [
        "a=\"hi everyone\"\n",
        "c=list(a)\n",
        "print(c)\n",
        "\n",
        "x = c[0]\n",
        "x = \"blah blah\"\n"
      ],
      "metadata": {
        "colab": {
          "base_uri": "https://localhost:8080/"
        },
        "id": "cJPj2wbNsx_2",
        "outputId": "da90897d-c38b-40ac-a646-d392da80b0e2"
      },
      "execution_count": null,
      "outputs": [
        {
          "output_type": "stream",
          "name": "stdout",
          "text": [
            "['h', 'i', ' ', 'e', 'v', 'e', 'r', 'y', 'o', 'n', 'e']\n"
          ]
        }
      ]
    },
    {
      "cell_type": "code",
      "source": [
        "a=\"hi everyone\"\n",
        "c=list(a)\n",
        "for x in c:\n",
        "  if x==\" \":\n",
        "    x=\"-\"\n",
        "print(c) \n",
        "\n",
        "for x in range(len(c)):\n",
        "  if c[x]==\" \":\n",
        "    c[x]=\"-\"\n",
        "print(c)"
      ],
      "metadata": {
        "id": "tg5Crl_Sqx7U"
      },
      "execution_count": null,
      "outputs": []
    },
    {
      "cell_type": "markdown",
      "source": [
        "You have to tell the leftmost occurrence of the character having ASCII code equal to B, in A or report that it does not exist."
      ],
      "metadata": {
        "id": "tKXWR6RytQs_"
      }
    },
    {
      "cell_type": "code",
      "source": [
        "chr(97)"
      ],
      "metadata": {
        "colab": {
          "base_uri": "https://localhost:8080/",
          "height": 35
        },
        "id": "KLO5oUC1tZWb",
        "outputId": "4ad1f6de-6057-45ed-8977-3875afe9a464"
      },
      "execution_count": null,
      "outputs": [
        {
          "output_type": "execute_result",
          "data": {
            "text/plain": [
              "'a'"
            ],
            "application/vnd.google.colaboratory.intrinsic+json": {
              "type": "string"
            }
          },
          "metadata": {},
          "execution_count": 67
        }
      ]
    },
    {
      "cell_type": "code",
      "source": [
        "def solve(A, B):\n",
        "  return A.find(chr(B))"
      ],
      "metadata": {
        "id": "FFRD7EeotQ_e"
      },
      "execution_count": null,
      "outputs": []
    },
    {
      "cell_type": "code",
      "source": [
        "solve(\"scaler\", 97)"
      ],
      "metadata": {
        "id": "2nKrdiROth0E",
        "outputId": "4b2a80da-5ed5-46f4-8955-b2bb81038c46",
        "colab": {
          "base_uri": "https://localhost:8080/"
        }
      },
      "execution_count": null,
      "outputs": [
        {
          "output_type": "execute_result",
          "data": {
            "text/plain": [
              "2"
            ]
          },
          "metadata": {},
          "execution_count": 71
        }
      ]
    },
    {
      "cell_type": "code",
      "source": [],
      "metadata": {
        "id": "w8X0ryNRtjZ_"
      },
      "execution_count": null,
      "outputs": []
    }
  ]
}