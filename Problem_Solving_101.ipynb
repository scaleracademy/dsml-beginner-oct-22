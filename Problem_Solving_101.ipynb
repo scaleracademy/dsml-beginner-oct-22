{
  "nbformat": 4,
  "nbformat_minor": 0,
  "metadata": {
    "colab": {
      "provenance": [],
      "authorship_tag": "ABX9TyOD1TqaSUJY/WVEHfmINSCy",
      "include_colab_link": true
    },
    "kernelspec": {
      "name": "python3",
      "display_name": "Python 3"
    },
    "language_info": {
      "name": "python"
    }
  },
  "cells": [
    {
      "cell_type": "markdown",
      "metadata": {
        "id": "view-in-github",
        "colab_type": "text"
      },
      "source": [
        "<a href=\"https://colab.research.google.com/github/scaleracademy/dsml-beginner-oct-22/blob/main/Problem_Solving_101.ipynb\" target=\"_parent\"><img src=\"https://colab.research.google.com/assets/colab-badge.svg\" alt=\"Open In Colab\"/></a>"
      ]
    },
    {
      "cell_type": "markdown",
      "source": [
        "# Class will start at 9:10 PM\n",
        "- Since this is a problem solving class, please curate all your unsolved problems and doubts in the questions tab. \n",
        "- Make sure you have a list of all the topics that I need to repeat and questions I have to help you with ready before the class starts"
      ],
      "metadata": {
        "id": "2p0brSqeHM6X"
      }
    },
    {
      "cell_type": "markdown",
      "source": [
        "```\n",
        "0 0 0 0 5 0 0 0 0\n",
        "0 0 0 4 8 12 0 0 0\n",
        "0 0 3 6 9 12 15 0 0\n",
        "0 2 4 6 8 10 12 14 0\n",
        "1 2 3 4 5 6 7 8 9\n",
        "```"
      ],
      "metadata": {
        "id": "o9HFuAbaMzwX"
      }
    },
    {
      "cell_type": "code",
      "execution_count": 12,
      "metadata": {
        "colab": {
          "base_uri": "https://localhost:8080/"
        },
        "id": "o9GIs_tQHHss",
        "outputId": "ad003bee-2de2-40c1-ccff-3e8ce340892c"
      },
      "outputs": [
        {
          "output_type": "stream",
          "name": "stdout",
          "text": [
            "0 0 0 0 5 0 0 0 0 \n",
            "0 0 0 4 8 12 0 0 0 \n",
            "0 0 3 6 9 12 15 0 0 \n",
            "0 2 4 6 8 10 12 14 0 \n",
            "1 2 3 4 5 6 7 8 9 \n"
          ]
        }
      ],
      "source": [
        "n = 5\n",
        "\n",
        "def print_table(n, count):\n",
        "  for j in range(count):\n",
        "      print((n) * (j+1), end = \" \")\n",
        "\n",
        "for i in range(n):\n",
        "  print(\"0 \" * (n-i-1), end = \"\")\n",
        "\n",
        "  print_table(n-i, 2*i+1)\n",
        "\n",
        "  print(\"0 \" * (n-i-1))"
      ]
    },
    {
      "cell_type": "code",
      "source": [
        "n = 6\n",
        "for x in range(5):\n",
        "  print(n * (x+1))"
      ],
      "metadata": {
        "colab": {
          "base_uri": "https://localhost:8080/"
        },
        "id": "imMcI4Q-N4Mb",
        "outputId": "f3ab063b-23ad-45b7-fd67-e9096492d9ec"
      },
      "execution_count": 11,
      "outputs": [
        {
          "output_type": "stream",
          "name": "stdout",
          "text": [
            "6\n",
            "12\n",
            "18\n",
            "24\n",
            "30\n"
          ]
        }
      ]
    },
    {
      "cell_type": "code",
      "source": [
        "while i<10:\n",
        "  print(i)\n",
        "  i = i + 1"
      ],
      "metadata": {
        "id": "6e9X-q9NPBko"
      },
      "execution_count": null,
      "outputs": []
    },
    {
      "cell_type": "code",
      "source": [
        "1.2 + 1.6 + 1.4"
      ],
      "metadata": {
        "colab": {
          "base_uri": "https://localhost:8080/"
        },
        "id": "Z766PxnBU9iq",
        "outputId": "60cbbfc2-8a41-4ea8-f960-a8ae5f72f195"
      },
      "execution_count": 16,
      "outputs": [
        {
          "output_type": "execute_result",
          "data": {
            "text/plain": [
              "4.199999999999999"
            ]
          },
          "metadata": {},
          "execution_count": 16
        }
      ]
    },
    {
      "cell_type": "code",
      "source": [
        "1.4 + 1.6 + 1.2"
      ],
      "metadata": {
        "colab": {
          "base_uri": "https://localhost:8080/"
        },
        "id": "M2C6LkAEVHUM",
        "outputId": "d458b699-5e16-4a0b-d856-96f8e05bcf4e"
      },
      "execution_count": 14,
      "outputs": [
        {
          "output_type": "execute_result",
          "data": {
            "text/plain": [
              "4.2"
            ]
          },
          "metadata": {},
          "execution_count": 14
        }
      ]
    },
    {
      "cell_type": "code",
      "source": [
        "0.5 + 0.05 + 0.1"
      ],
      "metadata": {
        "colab": {
          "base_uri": "https://localhost:8080/"
        },
        "id": "bY522PK7VRXF",
        "outputId": "29534a9e-f26d-4340-a10d-75f69bfa17ca"
      },
      "execution_count": 17,
      "outputs": [
        {
          "output_type": "execute_result",
          "data": {
            "text/plain": [
              "0.65"
            ]
          },
          "metadata": {},
          "execution_count": 17
        }
      ]
    },
    {
      "cell_type": "code",
      "source": [
        "0.1 + 0.1 + 0.1"
      ],
      "metadata": {
        "colab": {
          "base_uri": "https://localhost:8080/"
        },
        "id": "olhgddM4Xjzp",
        "outputId": "aff70166-e23b-42c2-c5c1-06ec87c2caa9"
      },
      "execution_count": 18,
      "outputs": [
        {
          "output_type": "execute_result",
          "data": {
            "text/plain": [
              "0.30000000000000004"
            ]
          },
          "metadata": {},
          "execution_count": 18
        }
      ]
    },
    {
      "cell_type": "code",
      "source": [
        "round(1.545678987654356789876, 3)"
      ],
      "metadata": {
        "colab": {
          "base_uri": "https://localhost:8080/"
        },
        "id": "i9y-r9NOXtIM",
        "outputId": "f5d1b946-aa53-4f6d-f9aa-f41ef336ec39"
      },
      "execution_count": 27,
      "outputs": [
        {
          "output_type": "execute_result",
          "data": {
            "text/plain": [
              "1.546"
            ]
          },
          "metadata": {},
          "execution_count": 27
        }
      ]
    },
    {
      "cell_type": "code",
      "source": [
        "round(2.598765456789098, 1)"
      ],
      "metadata": {
        "colab": {
          "base_uri": "https://localhost:8080/"
        },
        "id": "JFv-quDEX8q9",
        "outputId": "1667328b-c6fd-40a5-c359-8cdfd2180a9b"
      },
      "execution_count": 26,
      "outputs": [
        {
          "output_type": "execute_result",
          "data": {
            "text/plain": [
              "2.6"
            ]
          },
          "metadata": {},
          "execution_count": 26
        }
      ]
    },
    {
      "cell_type": "code",
      "source": [
        "round(0.7)"
      ],
      "metadata": {
        "colab": {
          "base_uri": "https://localhost:8080/"
        },
        "id": "QqLq0ZVMX9nm",
        "outputId": "20c81a5b-cad2-47bf-8c0a-08155b3c2b6d"
      },
      "execution_count": 29,
      "outputs": [
        {
          "output_type": "execute_result",
          "data": {
            "text/plain": [
              "1"
            ]
          },
          "metadata": {},
          "execution_count": 29
        }
      ]
    },
    {
      "cell_type": "code",
      "source": [
        "round(1.5)"
      ],
      "metadata": {
        "colab": {
          "base_uri": "https://localhost:8080/"
        },
        "id": "sPkaaL7VY8JF",
        "outputId": "70e193b6-4951-4521-b6c8-652e3d54a44b"
      },
      "execution_count": 32,
      "outputs": [
        {
          "output_type": "execute_result",
          "data": {
            "text/plain": [
              "2"
            ]
          },
          "metadata": {},
          "execution_count": 32
        }
      ]
    },
    {
      "cell_type": "code",
      "source": [
        "n = 10\n",
        "\n",
        "for i in range(n):\n",
        "  for j in range(n):\n",
        "    if i % 2 == 0 or j % 2 == 1:\n",
        "      print(\"*\", end = \" \")\n",
        "    else:\n",
        "      print(\" \", end = \" \")\n",
        "\n",
        "  print()"
      ],
      "metadata": {
        "colab": {
          "base_uri": "https://localhost:8080/"
        },
        "id": "PxnINdSuZEHT",
        "outputId": "2d760e34-a2e9-444b-ee20-c99146cad2b2"
      },
      "execution_count": 35,
      "outputs": [
        {
          "output_type": "stream",
          "name": "stdout",
          "text": [
            "* * * * * * * * * * \n",
            "  *   *   *   *   * \n",
            "* * * * * * * * * * \n",
            "  *   *   *   *   * \n",
            "* * * * * * * * * * \n",
            "  *   *   *   *   * \n",
            "* * * * * * * * * * \n",
            "  *   *   *   *   * \n",
            "* * * * * * * * * * \n",
            "  *   *   *   *   * \n"
          ]
        }
      ]
    },
    {
      "cell_type": "code",
      "source": [
        "if True:\n",
        "  a = 10\n",
        "\n",
        "print(a)"
      ],
      "metadata": {
        "colab": {
          "base_uri": "https://localhost:8080/"
        },
        "id": "DpaIwe4oa39J",
        "outputId": "eac4f3ad-a77e-42a6-ae5c-92caf798a3c8"
      },
      "execution_count": 36,
      "outputs": [
        {
          "output_type": "stream",
          "name": "stdout",
          "text": [
            "10\n"
          ]
        }
      ]
    },
    {
      "cell_type": "code",
      "source": [
        "def foo():\n",
        "  a = 10\n",
        "  print(a)\n",
        "\n",
        "foo()"
      ],
      "metadata": {
        "colab": {
          "base_uri": "https://localhost:8080/"
        },
        "id": "utO-5wuScWAv",
        "outputId": "9bb0c2d0-fff5-4fce-88d6-c55e4165250b"
      },
      "execution_count": 37,
      "outputs": [
        {
          "output_type": "stream",
          "name": "stdout",
          "text": [
            "10\n"
          ]
        }
      ]
    },
    {
      "cell_type": "code",
      "source": [
        "if True:\n",
        "  xyz = 100\n",
        "\n",
        "print(xyz)"
      ],
      "metadata": {
        "colab": {
          "base_uri": "https://localhost:8080/"
        },
        "id": "iSZx1g9TceIS",
        "outputId": "327e9d6e-3f0a-4149-fd93-c3f68d635e3a"
      },
      "execution_count": 39,
      "outputs": [
        {
          "output_type": "stream",
          "name": "stdout",
          "text": [
            "100\n"
          ]
        }
      ]
    },
    {
      "cell_type": "code",
      "source": [
        "a = 100\n",
        "\n",
        "def foo():\n",
        "  a = 200\n",
        "  print(a)\n",
        "\n",
        "foo()\n",
        "print(a)"
      ],
      "metadata": {
        "colab": {
          "base_uri": "https://localhost:8080/"
        },
        "id": "54f6vxK5ckUe",
        "outputId": "1bfa57c1-25d5-4604-af47-d9e4886615e5"
      },
      "execution_count": 41,
      "outputs": [
        {
          "output_type": "stream",
          "name": "stdout",
          "text": [
            "200\n",
            "100\n"
          ]
        }
      ]
    },
    {
      "cell_type": "code",
      "source": [
        "a = 100\n",
        "\n",
        "def foo():\n",
        "  print(a)\n",
        "  a = \"scaler\"\n",
        "\n",
        "foo()\n",
        "print(a)"
      ],
      "metadata": {
        "colab": {
          "base_uri": "https://localhost:8080/"
        },
        "id": "Ng3Uvf9ucv81",
        "outputId": "2cf241d0-a954-4ca5-be79-bfcd7c3ade1d"
      },
      "execution_count": 45,
      "outputs": [
        {
          "output_type": "stream",
          "name": "stdout",
          "text": [
            "scaler\n",
            "100\n"
          ]
        }
      ]
    },
    {
      "cell_type": "code",
      "source": [
        "a = 100\n",
        "\n",
        "def foo():\n",
        "  a = a + 50\n",
        "  print(a)\n",
        "\n",
        "foo()\n",
        "print(a)"
      ],
      "metadata": {
        "colab": {
          "base_uri": "https://localhost:8080/",
          "height": 344
        },
        "id": "aa8z1GKSeEK4",
        "outputId": "b69f2042-ccaf-435c-f680-b8dda3f6f6f0"
      },
      "execution_count": 46,
      "outputs": [
        {
          "output_type": "error",
          "ename": "UnboundLocalError",
          "evalue": "ignored",
          "traceback": [
            "\u001b[0;31m---------------------------------------------------------------------------\u001b[0m",
            "\u001b[0;31mUnboundLocalError\u001b[0m                         Traceback (most recent call last)",
            "\u001b[0;32m<ipython-input-46-3a81611cbc05>\u001b[0m in \u001b[0;36m<module>\u001b[0;34m\u001b[0m\n\u001b[1;32m      5\u001b[0m   \u001b[0mprint\u001b[0m\u001b[0;34m(\u001b[0m\u001b[0ma\u001b[0m\u001b[0;34m)\u001b[0m\u001b[0;34m\u001b[0m\u001b[0;34m\u001b[0m\u001b[0m\n\u001b[1;32m      6\u001b[0m \u001b[0;34m\u001b[0m\u001b[0m\n\u001b[0;32m----> 7\u001b[0;31m \u001b[0mfoo\u001b[0m\u001b[0;34m(\u001b[0m\u001b[0;34m)\u001b[0m\u001b[0;34m\u001b[0m\u001b[0;34m\u001b[0m\u001b[0m\n\u001b[0m\u001b[1;32m      8\u001b[0m \u001b[0mprint\u001b[0m\u001b[0;34m(\u001b[0m\u001b[0ma\u001b[0m\u001b[0;34m)\u001b[0m\u001b[0;34m\u001b[0m\u001b[0;34m\u001b[0m\u001b[0m\n",
            "\u001b[0;32m<ipython-input-46-3a81611cbc05>\u001b[0m in \u001b[0;36mfoo\u001b[0;34m()\u001b[0m\n\u001b[1;32m      2\u001b[0m \u001b[0;34m\u001b[0m\u001b[0m\n\u001b[1;32m      3\u001b[0m \u001b[0;32mdef\u001b[0m \u001b[0mfoo\u001b[0m\u001b[0;34m(\u001b[0m\u001b[0;34m)\u001b[0m\u001b[0;34m:\u001b[0m\u001b[0;34m\u001b[0m\u001b[0;34m\u001b[0m\u001b[0m\n\u001b[0;32m----> 4\u001b[0;31m   \u001b[0ma\u001b[0m \u001b[0;34m+=\u001b[0m \u001b[0;36m50\u001b[0m\u001b[0;34m\u001b[0m\u001b[0;34m\u001b[0m\u001b[0m\n\u001b[0m\u001b[1;32m      5\u001b[0m   \u001b[0mprint\u001b[0m\u001b[0;34m(\u001b[0m\u001b[0ma\u001b[0m\u001b[0;34m)\u001b[0m\u001b[0;34m\u001b[0m\u001b[0;34m\u001b[0m\u001b[0m\n\u001b[1;32m      6\u001b[0m \u001b[0;34m\u001b[0m\u001b[0m\n",
            "\u001b[0;31mUnboundLocalError\u001b[0m: local variable 'a' referenced before assignment"
          ]
        }
      ]
    },
    {
      "cell_type": "code",
      "source": [
        "a = 100\n",
        "\n",
        "def foo():\n",
        "  global a\n",
        "  print(a)\n",
        "  a = 200\n",
        "\n",
        "foo()\n",
        "print(a)"
      ],
      "metadata": {
        "colab": {
          "base_uri": "https://localhost:8080/"
        },
        "id": "spYIwNdNf6Nq",
        "outputId": "44b1d5fe-f1b3-40f2-9a4a-c37cbb1b03f9"
      },
      "execution_count": 47,
      "outputs": [
        {
          "output_type": "stream",
          "name": "stdout",
          "text": [
            "100\n",
            "200\n"
          ]
        }
      ]
    },
    {
      "cell_type": "code",
      "source": [
        "a = \"scaler\"\n",
        "\n",
        "def foo():\n",
        "  print(a)\n",
        "\n",
        "foo()\n",
        "print(a)"
      ],
      "metadata": {
        "colab": {
          "base_uri": "https://localhost:8080/"
        },
        "id": "8N97LCYmgXIU",
        "outputId": "b00936e1-c2fc-40ce-f209-b3203dc6c985"
      },
      "execution_count": 49,
      "outputs": [
        {
          "output_type": "stream",
          "name": "stdout",
          "text": [
            "jatin\n",
            "scaler\n"
          ]
        }
      ]
    },
    {
      "cell_type": "code",
      "source": [
        "a = 100\n",
        "def foo():\n",
        "  a = 200\n",
        "  def bar():\n",
        "    nonlocal a\n",
        "    a = 300\n",
        "    def baz():\n",
        "      nonlocal a\n",
        "      a = 400\n",
        "      print(a)\n",
        "    baz()\n",
        "    print(a)\n",
        "  bar()\n",
        "  print(a)\n",
        "foo()\n",
        "print(a)"
      ],
      "metadata": {
        "colab": {
          "base_uri": "https://localhost:8080/"
        },
        "id": "JDDIiA2Mgw9x",
        "outputId": "b8408111-a8af-471e-d576-b3937b654fe9"
      },
      "execution_count": 85,
      "outputs": [
        {
          "output_type": "stream",
          "name": "stdout",
          "text": [
            "400\n",
            "400\n",
            "400\n",
            "100\n"
          ]
        }
      ]
    },
    {
      "cell_type": "code",
      "source": [
        "result = []\n",
        "for i in range(1, 11):\n",
        "  result.append(i**2)\n",
        "\n",
        "print(result)"
      ],
      "metadata": {
        "colab": {
          "base_uri": "https://localhost:8080/"
        },
        "id": "eEOpM3j9hLRG",
        "outputId": "9cc7cce5-344a-4683-d452-36e9cdbce434"
      },
      "execution_count": 56,
      "outputs": [
        {
          "output_type": "stream",
          "name": "stdout",
          "text": [
            "[1, 4, 9, 16, 25, 36, 49, 64, 81, 100]\n"
          ]
        }
      ]
    },
    {
      "cell_type": "markdown",
      "source": [
        "### List comprehension"
      ],
      "metadata": {
        "id": "B2u9X-bZj5kf"
      }
    },
    {
      "cell_type": "code",
      "source": [
        "result = [i**2 for i in range(1, 11)]"
      ],
      "metadata": {
        "colab": {
          "base_uri": "https://localhost:8080/"
        },
        "id": "iJIL1Jpcjdgr",
        "outputId": "3ed2d755-0361-4466-b36d-9e29ce1e51b0"
      },
      "execution_count": 57,
      "outputs": [
        {
          "output_type": "execute_result",
          "data": {
            "text/plain": [
              "[1, 4, 9, 16, 25, 36, 49, 64, 81, 100]"
            ]
          },
          "metadata": {},
          "execution_count": 57
        }
      ]
    },
    {
      "cell_type": "code",
      "source": [
        "\" \".join([\"a\", \"b\", \"c\"])"
      ],
      "metadata": {
        "colab": {
          "base_uri": "https://localhost:8080/",
          "height": 35
        },
        "id": "CWIYfe-Hko2Z",
        "outputId": "9a7aabeb-baad-4336-b38a-27f391b1b11f"
      },
      "execution_count": 65,
      "outputs": [
        {
          "output_type": "execute_result",
          "data": {
            "text/plain": [
              "'a b c'"
            ],
            "application/vnd.google.colaboratory.intrinsic+json": {
              "type": "string"
            }
          },
          "metadata": {},
          "execution_count": 65
        }
      ]
    },
    {
      "cell_type": "code",
      "source": [],
      "metadata": {
        "id": "HEi_nWKBkzs3"
      },
      "execution_count": null,
      "outputs": []
    },
    {
      "cell_type": "code",
      "source": [
        "n = 5\n",
        "print(\"\\n\".join([\" \".join([ str(max(i+1, j+1, n-i, n-j)) for j in range(n)]) for i in range(n)]))"
      ],
      "metadata": {
        "colab": {
          "base_uri": "https://localhost:8080/"
        },
        "id": "AhIHLjt1jshn",
        "outputId": "a7ea380d-8972-43af-fa90-fd2e13db3131"
      },
      "execution_count": 61,
      "outputs": [
        {
          "output_type": "stream",
          "name": "stdout",
          "text": [
            "5 5 5 5 5\n",
            "5 4 4 4 5\n",
            "5 4 3 4 5\n",
            "5 4 4 4 5\n",
            "5 5 5 5 5\n"
          ]
        }
      ]
    },
    {
      "cell_type": "code",
      "source": [
        "print(\"_\".join([\"*\"] * 10))"
      ],
      "metadata": {
        "colab": {
          "base_uri": "https://localhost:8080/"
        },
        "id": "jm_IYBzOkKqs",
        "outputId": "38e0a0e4-59de-411a-a7a5-c63cc9375dd0"
      },
      "execution_count": 69,
      "outputs": [
        {
          "output_type": "stream",
          "name": "stdout",
          "text": [
            "*_*_*_*_*_*_*_*_*_*\n"
          ]
        }
      ]
    },
    {
      "cell_type": "code",
      "source": [
        "\"*_\" * 10"
      ],
      "metadata": {
        "colab": {
          "base_uri": "https://localhost:8080/",
          "height": 35
        },
        "id": "ENay1R0HlQsV",
        "outputId": "8b8ac7a5-279d-4101-c88a-a05c48fc8462"
      },
      "execution_count": 68,
      "outputs": [
        {
          "output_type": "execute_result",
          "data": {
            "text/plain": [
              "'*_*_*_*_*_*_*_*_*_*_'"
            ],
            "application/vnd.google.colaboratory.intrinsic+json": {
              "type": "string"
            }
          },
          "metadata": {},
          "execution_count": 68
        }
      ]
    },
    {
      "cell_type": "code",
      "source": [
        "row = [\"_\"] * 3"
      ],
      "metadata": {
        "id": "_NRWasMalcZT"
      },
      "execution_count": 72,
      "outputs": []
    },
    {
      "cell_type": "code",
      "source": [
        "row"
      ],
      "metadata": {
        "colab": {
          "base_uri": "https://localhost:8080/"
        },
        "id": "pMhXjZ9YmAmw",
        "outputId": "cd51ad8a-5d92-499a-c0bb-8a5fc4d15669"
      },
      "execution_count": 73,
      "outputs": [
        {
          "output_type": "execute_result",
          "data": {
            "text/plain": [
              "['_', '_', '_']"
            ]
          },
          "metadata": {},
          "execution_count": 73
        }
      ]
    },
    {
      "cell_type": "code",
      "source": [
        "row = [\"_\"] * 3\n",
        "board = [row, row, row]"
      ],
      "metadata": {
        "id": "njG8CNSGmA7K"
      },
      "execution_count": 80,
      "outputs": []
    },
    {
      "cell_type": "code",
      "source": [
        "board[0][0] = \"X\""
      ],
      "metadata": {
        "id": "IEvaO6EMmMYe"
      },
      "execution_count": 81,
      "outputs": []
    },
    {
      "cell_type": "code",
      "source": [
        "row"
      ],
      "metadata": {
        "colab": {
          "base_uri": "https://localhost:8080/"
        },
        "id": "sDoren9JmOLK",
        "outputId": "0b4e0b4a-c526-4a2e-83b6-15b80a935058"
      },
      "execution_count": 82,
      "outputs": [
        {
          "output_type": "execute_result",
          "data": {
            "text/plain": [
              "['X', '_', '_']"
            ]
          },
          "metadata": {},
          "execution_count": 82
        }
      ]
    },
    {
      "cell_type": "code",
      "source": [
        "board"
      ],
      "metadata": {
        "colab": {
          "base_uri": "https://localhost:8080/"
        },
        "id": "M17ZQ5qfmsjt",
        "outputId": "3b01c94a-0744-4212-b6c3-4e339ab895be"
      },
      "execution_count": 83,
      "outputs": [
        {
          "output_type": "execute_result",
          "data": {
            "text/plain": [
              "[['X', '_', '_'], ['X', '_', '_'], ['X', '_', '_']]"
            ]
          },
          "metadata": {},
          "execution_count": 83
        }
      ]
    },
    {
      "cell_type": "code",
      "source": [
        "print(id(board[0]))\n",
        "print(id(board[1]))\n",
        "print(id(board[2]))"
      ],
      "metadata": {
        "colab": {
          "base_uri": "https://localhost:8080/"
        },
        "id": "dYGutJyrmzqe",
        "outputId": "b8c7cd67-5872-4f34-9d6a-3c173aa7dd6d"
      },
      "execution_count": 84,
      "outputs": [
        {
          "output_type": "stream",
          "name": "stdout",
          "text": [
            "139635363337312\n",
            "139635363337312\n",
            "139635363337312\n"
          ]
        }
      ]
    },
    {
      "cell_type": "code",
      "source": [
        "x = \"global\" \n",
        "def foo():\n",
        "  global x\n",
        "  print(x, end=\",\") # global\n",
        "  x = \"local\"\n",
        "  print(x, end=\",\") # local\n",
        "\n",
        "foo()\n",
        "print(x, end=\"\") # local"
      ],
      "metadata": {
        "colab": {
          "base_uri": "https://localhost:8080/"
        },
        "id": "U0hI29z2m8Zo",
        "outputId": "5c8c95fd-971c-4784-e998-39604b18e91c"
      },
      "execution_count": 86,
      "outputs": [
        {
          "output_type": "stream",
          "name": "stdout",
          "text": [
            "global,local,local"
          ]
        }
      ]
    },
    {
      "cell_type": "code",
      "source": [
        "a = [1, 2, 3, 3, 3, 5, 6]\n",
        "n = len(a)\n",
        "\n",
        "for i in range(n-1):\n",
        "  if (a[i] == a[i+1]):\n",
        "    print(\"True\")\n",
        "    break\n",
        "else:\n",
        "  print(\"False\")"
      ],
      "metadata": {
        "colab": {
          "base_uri": "https://localhost:8080/"
        },
        "id": "IlEAeqv7p7-m",
        "outputId": "a23c95bf-d18d-454a-80d0-030e745ab8ce"
      },
      "execution_count": 90,
      "outputs": [
        {
          "output_type": "stream",
          "name": "stdout",
          "text": [
            "True\n"
          ]
        }
      ]
    },
    {
      "cell_type": "code",
      "source": [],
      "metadata": {
        "id": "qGED_BXuqyZG"
      },
      "execution_count": null,
      "outputs": []
    }
  ]
}