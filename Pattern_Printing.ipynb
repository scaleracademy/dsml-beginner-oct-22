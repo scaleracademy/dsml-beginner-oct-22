{
  "nbformat": 4,
  "nbformat_minor": 0,
  "metadata": {
    "colab": {
      "provenance": [],
      "authorship_tag": "ABX9TyPVUyEpN0+wlVMAd+eJ0Af+",
      "include_colab_link": true
    },
    "kernelspec": {
      "name": "python3",
      "display_name": "Python 3"
    },
    "language_info": {
      "name": "python"
    }
  },
  "cells": [
    {
      "cell_type": "markdown",
      "metadata": {
        "id": "view-in-github",
        "colab_type": "text"
      },
      "source": [
        "<a href=\"https://colab.research.google.com/github/scaleracademy/dsml-beginner-oct-22/blob/main/Pattern_Printing.ipynb\" target=\"_parent\"><img src=\"https://colab.research.google.com/assets/colab-badge.svg\" alt=\"Open In Colab\"/></a>"
      ]
    },
    {
      "cell_type": "code",
      "source": [
        "n = 5\n",
        "\n",
        "for i in range(n):\n",
        "  if i == 0 or i == n-1:\n",
        "    print(\"* \" * n)\n",
        "  else:\n",
        "    print(\"* \" + \"  \" * (n-2) + \"* \")"
      ],
      "metadata": {
        "colab": {
          "base_uri": "https://localhost:8080/"
        },
        "id": "jACfqwKlD8Yo",
        "outputId": "94651d80-6948-4d78-905e-638988c048ff"
      },
      "execution_count": 3,
      "outputs": [
        {
          "output_type": "stream",
          "name": "stdout",
          "text": [
            "* * * * * \n",
            "*       * \n",
            "*       * \n",
            "*       * \n",
            "* * * * * \n"
          ]
        }
      ]
    },
    {
      "cell_type": "code",
      "execution_count": 4,
      "metadata": {
        "id": "GdZcr0ZT_99B",
        "colab": {
          "base_uri": "https://localhost:8080/"
        },
        "outputId": "3be0eff8-f0f4-4488-e6e9-ddc1307fc30f"
      },
      "outputs": [
        {
          "output_type": "stream",
          "name": "stdout",
          "text": [
            "* * * * * \n",
            "*       * \n",
            "*       * \n",
            "*       * \n",
            "* * * * * "
          ]
        }
      ],
      "source": [
        "n = 5\n",
        "\n",
        "# Print 1st line\n",
        "for i in range(n):\n",
        "  print(\"* \", end = \"\")\n",
        "# go to new line\n",
        "print()\n",
        "\n",
        "# Print Middle Portion\n",
        "for i in range(n-2):\n",
        "  # print 1st star\n",
        "  print(\"* \", end = \"\")\n",
        "\n",
        "  # print spaces\n",
        "  for i in range(n-2):\n",
        "    print(\"  \", end = \"\")\n",
        "\n",
        "  # print last star\n",
        "  print(\"* \")\n",
        "\n",
        "\n",
        "# Print last line\n",
        "for i in range(n):\n",
        "  print(\"* \", end = \"\")\n"
      ]
    },
    {
      "cell_type": "code",
      "source": [
        "n = 5\n",
        "\n",
        "for i in range(n):\n",
        "  print(\" \" * (n-i-1) + \"* \" * (i + 1))"
      ],
      "metadata": {
        "colab": {
          "base_uri": "https://localhost:8080/"
        },
        "id": "C77zphTUKqWs",
        "outputId": "7b8e6f51-daab-4452-cf68-2180d3abb971"
      },
      "execution_count": 8,
      "outputs": [
        {
          "output_type": "stream",
          "name": "stdout",
          "text": [
            "    * \n",
            "   * * \n",
            "  * * * \n",
            " * * * * \n",
            "* * * * * \n"
          ]
        }
      ]
    },
    {
      "cell_type": "markdown",
      "source": [
        "HW \n",
        "Fix my code"
      ],
      "metadata": {
        "id": "AknEKbk0VkgI"
      }
    },
    {
      "cell_type": "code",
      "source": [
        "n = 5\n",
        "\n",
        "for i in range(n-1):\n",
        "  print(\" \" * (n-i-1) + \"*\" + \" \" * (2*i - 1) + \"*\")\n",
        "print(\"*\" * (n*2 - 1))"
      ],
      "metadata": {
        "colab": {
          "base_uri": "https://localhost:8080/"
        },
        "id": "nxR6rx6mMG1m",
        "outputId": "686be031-8510-4789-aa9a-566a1a6ac5ee"
      },
      "execution_count": 22,
      "outputs": [
        {
          "output_type": "stream",
          "name": "stdout",
          "text": [
            "    **\n",
            "   * *\n",
            "  *   *\n",
            " *     *\n",
            "*********\n"
          ]
        }
      ]
    },
    {
      "cell_type": "code",
      "source": [
        "\" \" * 1"
      ],
      "metadata": {
        "colab": {
          "base_uri": "https://localhost:8080/",
          "height": 35
        },
        "id": "fEFta7c6O3Ph",
        "outputId": "00a668dc-4885-483a-8274-61de66ba683a"
      },
      "execution_count": 12,
      "outputs": [
        {
          "output_type": "execute_result",
          "data": {
            "text/plain": [
              "''"
            ],
            "application/vnd.google.colaboratory.intrinsic+json": {
              "type": "string"
            }
          },
          "metadata": {},
          "execution_count": 12
        }
      ]
    },
    {
      "cell_type": "code",
      "source": [
        "n = 4\n",
        "count = 1\n",
        "\n",
        "for i in range(n):\n",
        "  for j in range(i+1):\n",
        "    print(count, end = \" \")\n",
        "    count += 1\n",
        "  print()"
      ],
      "metadata": {
        "colab": {
          "base_uri": "https://localhost:8080/"
        },
        "id": "KnKZ8e0oPZZP",
        "outputId": "6a3cfb9d-6e66-47a3-ac43-0d012a011728"
      },
      "execution_count": 25,
      "outputs": [
        {
          "output_type": "stream",
          "name": "stdout",
          "text": [
            "1 \n",
            "2 3 \n",
            "4 5 6 \n",
            "7 8 9 10 \n"
          ]
        }
      ]
    },
    {
      "cell_type": "code",
      "source": [
        "names = {\n",
        "    \"0\": \"zero\",\n",
        "    \"1\": \"one\",\n",
        "    \"2\": \"two\",\n",
        "    \"3\": \"three\",\n",
        "    \"4\": \"four\",\n",
        "    \"5\": \"five\",\n",
        "    \"6\": \"six\",\n",
        "    \"7\": \"seven\",\n",
        "    \"8\": \"eight\",\n",
        "    \"9\": \"nine\"\n",
        "}"
      ],
      "metadata": {
        "id": "XoQj8qn3Wg50"
      },
      "execution_count": 26,
      "outputs": []
    },
    {
      "cell_type": "code",
      "source": [
        "n = \"7254\"\n",
        "\n",
        "for x in n:\n",
        "  print(names[x])"
      ],
      "metadata": {
        "colab": {
          "base_uri": "https://localhost:8080/"
        },
        "id": "QTFWk72gZsMi",
        "outputId": "b7aa521c-75f2-46a1-f1b6-a8dcbfab40c6"
      },
      "execution_count": 28,
      "outputs": [
        {
          "output_type": "stream",
          "name": "stdout",
          "text": [
            "seven\n",
            "two\n",
            "five\n",
            "four\n"
          ]
        }
      ]
    },
    {
      "cell_type": "code",
      "source": [
        "t = int(input())\n",
        "while t > 0 :\n",
        "  t -= 1\n",
        "\n",
        "  number = int(input())\n",
        "  rev = 0\n",
        "  while (number > 0):\n",
        "    rev = (rev * 10) + number % 10\n",
        "    number = number // 10\n",
        "  print(rev)"
      ],
      "metadata": {
        "id": "lLf_DegMZx8o"
      },
      "execution_count": null,
      "outputs": []
    },
    {
      "cell_type": "code",
      "source": [
        "n=4\n",
        "for i in range(n): \n",
        "  for j in range(n): \n",
        "    if i==0 or i==n-1 or j==0 or j==n-1: \n",
        "      print(\"*\",end=\"\") \n",
        "    else:\n",
        "      print(\" \",end=\"\")     \n",
        "  print()"
      ],
      "metadata": {
        "colab": {
          "base_uri": "https://localhost:8080/"
        },
        "id": "S7X2Dt8nat9m",
        "outputId": "fd83e92d-edcb-43dd-9b03-f3a23071d120"
      },
      "execution_count": 29,
      "outputs": [
        {
          "output_type": "stream",
          "name": "stdout",
          "text": [
            "****\n",
            "*  *\n",
            "*  *\n",
            "****\n"
          ]
        }
      ]
    },
    {
      "cell_type": "code",
      "source": [
        "n=int(input())\n",
        "for i in range(2,n):\n",
        "  if(n%i)==0:\n",
        "    break\n",
        "  else:\n",
        "    print(n)"
      ],
      "metadata": {
        "colab": {
          "base_uri": "https://localhost:8080/"
        },
        "id": "_gRce1uFa0CH",
        "outputId": "fd7debe9-1624-4419-9a65-99f57f1de019"
      },
      "execution_count": 30,
      "outputs": [
        {
          "output_type": "stream",
          "name": "stdout",
          "text": [
            "21\n",
            "21\n"
          ]
        }
      ]
    },
    {
      "cell_type": "code",
      "source": [
        "n=int(input()) \n",
        "for i in range(n): \n",
        "  for j in range(n): \n",
        "    for k in range(0,((n+1)//2)): \n",
        "      if i==k or i==n-k-1 or j==k or j==n-k-1: \n",
        "        print(n-k,end=\"\") \n",
        "        break \n",
        "  print()"
      ],
      "metadata": {
        "colab": {
          "base_uri": "https://localhost:8080/"
        },
        "id": "uY5LUHEdbb3m",
        "outputId": "e79a9b22-47e2-4eac-907e-a331ca581d59"
      },
      "execution_count": 33,
      "outputs": [
        {
          "output_type": "stream",
          "name": "stdout",
          "text": [
            "6\n",
            "666666\n",
            "655556\n",
            "654456\n",
            "654456\n",
            "655556\n",
            "666666\n"
          ]
        }
      ]
    },
    {
      "cell_type": "code",
      "source": [
        "n = 765123\n",
        "\n",
        "int(str(n)[::-1])"
      ],
      "metadata": {
        "colab": {
          "base_uri": "https://localhost:8080/"
        },
        "id": "uZdGV8uubt9Z",
        "outputId": "9b01f2c9-712d-48ff-f802-1401eaf90a65"
      },
      "execution_count": 35,
      "outputs": [
        {
          "output_type": "execute_result",
          "data": {
            "text/plain": [
              "321567"
            ]
          },
          "metadata": {},
          "execution_count": 35
        }
      ]
    },
    {
      "cell_type": "code",
      "source": [
        "n = 5 \n",
        "for i in range(n-1): \n",
        "  print(\" \"*(n-i-1)+\"*\",end=\"\") \n",
        "  if(i!=0): \n",
        "    print(\" \"*(2*i-1)+\"*\") \n",
        "  else:\n",
        "    print()\n",
        "print(\"*\"*(2*n-1))"
      ],
      "metadata": {
        "colab": {
          "base_uri": "https://localhost:8080/"
        },
        "id": "MFpm67DLcPl7",
        "outputId": "0d4ba064-3b2e-494d-fdc4-3baa5397a6a1"
      },
      "execution_count": 38,
      "outputs": [
        {
          "output_type": "stream",
          "name": "stdout",
          "text": [
            "    *\n",
            "   * *\n",
            "  *   *\n",
            " *     *\n",
            "*********\n"
          ]
        }
      ]
    },
    {
      "cell_type": "code",
      "source": [
        "for row in range(5):\n",
        "  for col in range(5):\n",
        "    print((row, col), end = \" \")\n",
        "  print()"
      ],
      "metadata": {
        "colab": {
          "base_uri": "https://localhost:8080/"
        },
        "id": "iS5IyrTbckW6",
        "outputId": "61c57c88-124e-423b-de8f-58aee4f7fa52"
      },
      "execution_count": 41,
      "outputs": [
        {
          "output_type": "stream",
          "name": "stdout",
          "text": [
            "(0, 0) (0, 1) (0, 2) (0, 3) (0, 4) \n",
            "(1, 0) (1, 1) (1, 2) (1, 3) (1, 4) \n",
            "(2, 0) (2, 1) (2, 2) (2, 3) (2, 4) \n",
            "(3, 0) (3, 1) (3, 2) (3, 3) (3, 4) \n",
            "(4, 0) (4, 1) (4, 2) (4, 3) (4, 4) \n"
          ]
        }
      ]
    },
    {
      "cell_type": "code",
      "source": [
        "n = 5\n",
        "for i in range(n): \n",
        "  string=\"\" \n",
        "  for j in range(1,n-i+1): \n",
        "    string=string+str(j)+\" \" \n",
        "    l=len(string) \n",
        "  print(string[:l-1])"
      ],
      "metadata": {
        "colab": {
          "base_uri": "https://localhost:8080/"
        },
        "id": "jvVSKSTVeaCV",
        "outputId": "fdb7aa55-f65e-450b-e0ff-77a1fdc6ccbb"
      },
      "execution_count": 42,
      "outputs": [
        {
          "output_type": "stream",
          "name": "stdout",
          "text": [
            "1 2 3 4 5\n",
            "1 2 3 4\n",
            "1 2 3\n",
            "1 2\n",
            "1\n"
          ]
        }
      ]
    },
    {
      "cell_type": "code",
      "source": [],
      "metadata": {
        "id": "ni9AmW-ifTYh"
      },
      "execution_count": null,
      "outputs": []
    }
  ]
}