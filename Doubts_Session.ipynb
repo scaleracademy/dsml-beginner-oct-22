{
  "nbformat": 4,
  "nbformat_minor": 0,
  "metadata": {
    "colab": {
      "provenance": [],
      "authorship_tag": "ABX9TyPgXeOAFxotFVVBwbXOn6a3",
      "include_colab_link": true
    },
    "kernelspec": {
      "name": "python3",
      "display_name": "Python 3"
    },
    "language_info": {
      "name": "python"
    }
  },
  "cells": [
    {
      "cell_type": "markdown",
      "metadata": {
        "id": "view-in-github",
        "colab_type": "text"
      },
      "source": [
        "<a href=\"https://colab.research.google.com/github/scaleracademy/dsml-beginner-oct-22/blob/main/Doubts_Session.ipynb\" target=\"_parent\"><img src=\"https://colab.research.google.com/assets/colab-badge.svg\" alt=\"Open In Colab\"/></a>"
      ]
    },
    {
      "cell_type": "code",
      "source": [
        "n = 5\n",
        "\n",
        "for i in range(n-1):\n",
        "  print(\" \" * (n-i-1) + \"*\" + \" \" * ((2*i)-1) + (\"*\" if i else \"\"))\n",
        "print(\"*\" * (2*n - 1))"
      ],
      "metadata": {
        "colab": {
          "base_uri": "https://localhost:8080/"
        },
        "id": "ttuVCMrNgLPZ",
        "outputId": "67b17e5f-611a-4605-cda5-1160e7063023"
      },
      "execution_count": 4,
      "outputs": [
        {
          "output_type": "stream",
          "name": "stdout",
          "text": [
            "    *\n",
            "   * *\n",
            "  *   *\n",
            " *     *\n",
            "*********\n"
          ]
        }
      ]
    },
    {
      "cell_type": "code",
      "execution_count": 5,
      "metadata": {
        "colab": {
          "base_uri": "https://localhost:8080/",
          "height": 35
        },
        "id": "fnLIa-Mvfjwa",
        "outputId": "c61c2f06-cd0a-4133-cb3a-3e9f2679d531"
      },
      "outputs": [
        {
          "output_type": "execute_result",
          "data": {
            "text/plain": [
              "'odd'"
            ],
            "application/vnd.google.colaboratory.intrinsic+json": {
              "type": "string"
            }
          },
          "metadata": {},
          "execution_count": 5
        }
      ],
      "source": [
        "n = 3\n",
        "\"even\" if n%2 == 0 else \"odd\""
      ]
    },
    {
      "cell_type": "code",
      "source": [
        "n = 5\n",
        "for i in range(n):\n",
        "  for j in range(n):\n",
        "    print( max(i+1, j+1, n-i, n-j), end=\" \" )\n",
        "  print()"
      ],
      "metadata": {
        "colab": {
          "base_uri": "https://localhost:8080/"
        },
        "id": "AB3ZB0Jaj5c7",
        "outputId": "02bb8694-402d-46a7-ee21-8a61c027be89"
      },
      "execution_count": 8,
      "outputs": [
        {
          "output_type": "stream",
          "name": "stdout",
          "text": [
            "5 5 5 5 5 \n",
            "5 4 4 4 5 \n",
            "5 4 3 4 5 \n",
            "5 4 4 4 5 \n",
            "5 5 5 5 5 \n"
          ]
        }
      ]
    },
    {
      "cell_type": "markdown",
      "source": [
        "```\n",
        "0 0 0 0 1 0 0 0 0\n",
        "0 0 0 2 3 2 0 0 0\n",
        "0 0 3 4 5 4 3 0 0\n",
        "0 4 5 6 7 6 5 4 0\n",
        "5 6 7 8 9 8 7 6 5\n",
        "```"
      ],
      "metadata": {
        "id": "Lg0RBJVhnQTn"
      }
    },
    {
      "cell_type": "code",
      "source": [
        "n = 5\n",
        "\n",
        "for i in range(n):\n",
        "  print(\"0 \" * (n-i-1), end = \"\")\n",
        "\n",
        "  for j in range(i+1, 2*(i+1)):\n",
        "    print(j, end = \" \")\n",
        "\n",
        "  for j in range(2*i, i, -1):\n",
        "    print(j, end = \" \")\n",
        "  \n",
        "\n",
        "  print(\"0 \" * (n-i-1))\n"
      ],
      "metadata": {
        "colab": {
          "base_uri": "https://localhost:8080/"
        },
        "id": "Q5Wt_YnFnw4v",
        "outputId": "f61130f1-c324-4927-bf4d-9e0f33d4582a"
      },
      "execution_count": 17,
      "outputs": [
        {
          "output_type": "stream",
          "name": "stdout",
          "text": [
            "0 0 0 0 1 0 0 0 0 \n",
            "0 0 0 2 3 2 0 0 0 \n",
            "0 0 3 4 5 4 3 0 0 \n",
            "0 4 5 6 7 6 5 4 0 \n",
            "5 6 7 8 9 8 7 6 5 \n"
          ]
        }
      ]
    },
    {
      "cell_type": "code",
      "source": [
        "for i in range(n): \n",
        "  for j in range(n - i, 1, -1): \n",
        "    print(' ', end='') \n",
        "  for k in range(i + 1): \n",
        "    print(i+k+1, end=' ') \n",
        "  for m in range(i): \n",
        "    print(2*i-m, end=' ') \n",
        "  print()"
      ],
      "metadata": {
        "colab": {
          "base_uri": "https://localhost:8080/"
        },
        "id": "UgMPV5xqnwv6",
        "outputId": "0a81c36d-ea2a-4b80-e9ab-df76b5ef89ec"
      },
      "execution_count": 13,
      "outputs": [
        {
          "output_type": "stream",
          "name": "stdout",
          "text": [
            "    1 \n",
            "   2 3 2 \n",
            "  3 4 5 4 3 \n",
            " 4 5 6 7 6 5 4 \n",
            "5 6 7 8 9 8 7 6 5 \n"
          ]
        }
      ]
    },
    {
      "cell_type": "code",
      "source": [
        "n = 5\n",
        "for i in range(n): \n",
        "  for j in range(n-i, 1, -1): \n",
        "    print('0 ', end='') \n",
        "\n",
        "  for k in range(2*i+1): \n",
        "    print((n-i) * (k+1), end=' ') \n",
        "\n",
        "  for m in range(n-i, 1, -1): \n",
        "    print('0 ', end='') \n",
        "  print()"
      ],
      "metadata": {
        "colab": {
          "base_uri": "https://localhost:8080/"
        },
        "id": "JydG-e8-mcTK",
        "outputId": "3ff44898-7ae1-4082-bae0-122bd4942c95"
      },
      "execution_count": 19,
      "outputs": [
        {
          "output_type": "stream",
          "name": "stdout",
          "text": [
            "0 0 0 0 5 0 0 0 0 \n",
            "0 0 0 4 8 12 0 0 0 \n",
            "0 0 3 6 9 12 15 0 0 \n",
            "0 2 4 6 8 10 12 14 0 \n",
            "1 2 3 4 5 6 7 8 9 \n"
          ]
        }
      ]
    },
    {
      "cell_type": "markdown",
      "source": [
        "```\n",
        "0 0 0 0 5 0 0 0 0\n",
        "0 0 0 4 8 12 0 0 0\n",
        "0 0 3 6 9 12 15 0 0\n",
        "0 2 4 6 8 10 12 14 0\n",
        "1 2 3 4 5 6 7 8 9\n",
        "```"
      ],
      "metadata": {
        "id": "zWNWIxGBqwBy"
      }
    },
    {
      "cell_type": "code",
      "source": [
        "n = 5\n",
        "for i in range(n):\n",
        "  print(\"0 \" * (n-i-1), end = \"\")\n",
        "\n",
        "  for j in range(2*i+1):\n",
        "    print((j+1)*(n-i), end = \" \")\n",
        "\n",
        "  print(\"0 \" * (n-i-1))"
      ],
      "metadata": {
        "colab": {
          "base_uri": "https://localhost:8080/"
        },
        "id": "ArFSsvGsqvsf",
        "outputId": "34e10e3b-f20b-4fee-944f-783552ea7111"
      },
      "execution_count": 18,
      "outputs": [
        {
          "output_type": "stream",
          "name": "stdout",
          "text": [
            "0 0 0 0 5 0 0 0 0 \n",
            "0 0 0 4 8 12 0 0 0 \n",
            "0 0 3 6 9 12 15 0 0 \n",
            "0 2 4 6 8 10 12 14 0 \n",
            "1 2 3 4 5 6 7 8 9 \n"
          ]
        }
      ]
    },
    {
      "cell_type": "markdown",
      "source": [
        "```\n",
        "1234\n",
        "123\n",
        "12\n",
        "1\n",
        "```"
      ],
      "metadata": {
        "id": "Ihy-MFu3ry_j"
      }
    },
    {
      "cell_type": "code",
      "source": [
        "n = 4\n",
        "for i in range(n):\n",
        "  for j in range(n-i):\n",
        "    print(str(j+1) + (\" \" if j != n-i-1 else \"\"), end = \"\")\n",
        "  print()"
      ],
      "metadata": {
        "colab": {
          "base_uri": "https://localhost:8080/"
        },
        "id": "jf6bZIjonq4L",
        "outputId": "f1c0df33-50e1-4812-c934-0f7a79e20863"
      },
      "execution_count": 25,
      "outputs": [
        {
          "output_type": "stream",
          "name": "stdout",
          "text": [
            "1 2 3 4\n",
            "1 2 3\n",
            "1 2\n",
            "1\n"
          ]
        }
      ]
    },
    {
      "cell_type": "markdown",
      "source": [
        "```\n",
        "input = 37910\n",
        "output = 3, 7, 9, 1, 0, 37, 79, 91, 10, 379, 791, 910\n",
        "```"
      ],
      "metadata": {
        "id": "hkNSxIBhs4Zh"
      }
    },
    {
      "cell_type": "code",
      "source": [
        "a = \"37910\"\n",
        "n = len(a)\n",
        "\n",
        "for i in range(n):\n",
        "  for j in range(n - i):\n",
        "    print(a[j:j+i+1])"
      ],
      "metadata": {
        "colab": {
          "base_uri": "https://localhost:8080/"
        },
        "id": "Dxhlvgxyr-XZ",
        "outputId": "5d340694-7ae8-4b00-e3c5-2ea43b4b4ec9"
      },
      "execution_count": 36,
      "outputs": [
        {
          "output_type": "stream",
          "name": "stdout",
          "text": [
            "3\n",
            "7\n",
            "9\n",
            "1\n",
            "0\n",
            "37\n",
            "79\n",
            "91\n",
            "10\n",
            "379\n",
            "791\n",
            "910\n",
            "3791\n",
            "7910\n",
            "37910\n"
          ]
        }
      ]
    },
    {
      "cell_type": "code",
      "source": [
        "name = \"scaler\"\n",
        "name[2:5]"
      ],
      "metadata": {
        "colab": {
          "base_uri": "https://localhost:8080/",
          "height": 35
        },
        "id": "-NQJddwstPTL",
        "outputId": "98572192-e3db-4ce1-e6f9-1af9d2420ad7"
      },
      "execution_count": 34,
      "outputs": [
        {
          "output_type": "execute_result",
          "data": {
            "text/plain": [
              "'ale'"
            ],
            "application/vnd.google.colaboratory.intrinsic+json": {
              "type": "string"
            }
          },
          "metadata": {},
          "execution_count": 34
        }
      ]
    },
    {
      "cell_type": "code",
      "source": [
        "n = list(\"34590\") \n",
        "max_size = 4 \n",
        "answer = [] \n",
        "\n",
        "for i in range(max_size): \n",
        "  for j in range(len(n)-i): \n",
        "    l = \"\" \n",
        "    for k in range(j,j+i+1): \n",
        "      l += n[k] \n",
        "    answer.append(l) \n",
        "  print(answer)"
      ],
      "metadata": {
        "id": "mvlaQYuotPzu"
      },
      "execution_count": null,
      "outputs": []
    }
  ]
}